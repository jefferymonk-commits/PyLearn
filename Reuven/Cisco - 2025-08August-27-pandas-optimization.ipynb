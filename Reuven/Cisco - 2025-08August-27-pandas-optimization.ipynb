{
 "cells": [
  {
   "cell_type": "markdown",
   "metadata": {},
   "source": [
    "# Agenda: Pandas optimization\n",
    "\n",
    "1. Why do we care? (Some considerations)\n",
    "2. Memory optimization\n",
    "3. Files\n",
    "4. Query speed\n",
    "5. PyArrow\n",
    "6. Optimization antipatterns"
   ]
  },
  {
   "cell_type": "code",
   "execution_count": 1,
   "metadata": {},
   "outputs": [
    {
     "name": "stdout",
     "output_type": "stream",
     "text": [
      "--2025-08-27 20:04:59--  https://files.lerner.co.il/olympic_athlete_events.zip\n",
      "Resolving files.lerner.co.il (files.lerner.co.il)... 64.227.9.246\n",
      "Connecting to files.lerner.co.il (files.lerner.co.il)|64.227.9.246|:443... connected.\n",
      "HTTP request sent, awaiting response... 200 OK\n",
      "Length: 5536302 (5.3M) [application/zip]\n",
      "Saving to: ‘olympic_athlete_events.zip’\n",
      "\n",
      "olympic_athlete_eve 100%[===================>]   5.28M  4.81MB/s    in 1.1s    \n",
      "\n",
      "2025-08-27 20:05:01 (4.81 MB/s) - ‘olympic_athlete_events.zip’ saved [5536302/5536302]\n",
      "\n"
     ]
    }
   ],
   "source": [
    "!wget https://files.lerner.co.il/olympic_athlete_events.zip"
   ]
  },
  {
   "cell_type": "markdown",
   "metadata": {},
   "source": [
    "# Why do we care?\n",
    "\n",
    "Everything that happens in Pandas happens in memory.\n",
    "\n",
    "- You need to make sure that you have enough memory on your system for the data to fit\n",
    "- Even if it all fits, the smaller the data frame, the faster the queries will run on it\n",
    "- Even if it all fits, your query might create a large amount of \"temporary\" data that might use up your system's RAM.\n",
    "\n",
    "You can use another system that reads only part of a data frame into memory -- Polars, Dask, Modin, PyArrow.\n",
    "\n",
    "Our goal is always going to be: Use as little memory as possible!"
   ]
  },
  {
   "cell_type": "markdown",
   "metadata": {},
   "source": [
    "# Optimizing memory\n",
    "\n",
    "There are a few factors to consider:\n",
    "\n",
    "- How many rows are in your data frame?\n",
    "- How many columns are in your data frame?\n",
    "- What dtype does each column have?\n",
    "\n",
    "You want to have as few rows as possible, as few columns as possible, and as small a dtype as is practical/reasonable for each of those columns."
   ]
  },
  {
   "cell_type": "code",
   "execution_count": 2,
   "metadata": {},
   "outputs": [],
   "source": [
    "import numpy as np\n",
    "import pandas as pd\n",
    "from pandas import Series, DataFrame"
   ]
  },
  {
   "cell_type": "code",
   "execution_count": 3,
   "metadata": {},
   "outputs": [
    {
     "data": {
      "text/html": [
       "<div>\n",
       "<style scoped>\n",
       "    .dataframe tbody tr th:only-of-type {\n",
       "        vertical-align: middle;\n",
       "    }\n",
       "\n",
       "    .dataframe tbody tr th {\n",
       "        vertical-align: top;\n",
       "    }\n",
       "\n",
       "    .dataframe thead th {\n",
       "        text-align: right;\n",
       "    }\n",
       "</style>\n",
       "<table border=\"1\" class=\"dataframe\">\n",
       "  <thead>\n",
       "    <tr style=\"text-align: right;\">\n",
       "      <th></th>\n",
       "      <th>0</th>\n",
       "      <th>1</th>\n",
       "      <th>2</th>\n",
       "      <th>3</th>\n",
       "    </tr>\n",
       "  </thead>\n",
       "  <tbody>\n",
       "    <tr>\n",
       "      <th>0</th>\n",
       "      <td>44</td>\n",
       "      <td>47</td>\n",
       "      <td>64</td>\n",
       "      <td>67</td>\n",
       "    </tr>\n",
       "    <tr>\n",
       "      <th>1</th>\n",
       "      <td>67</td>\n",
       "      <td>9</td>\n",
       "      <td>83</td>\n",
       "      <td>21</td>\n",
       "    </tr>\n",
       "    <tr>\n",
       "      <th>2</th>\n",
       "      <td>36</td>\n",
       "      <td>87</td>\n",
       "      <td>70</td>\n",
       "      <td>88</td>\n",
       "    </tr>\n",
       "  </tbody>\n",
       "</table>\n",
       "</div>"
      ],
      "text/plain": [
       "    0   1   2   3\n",
       "0  44  47  64  67\n",
       "1  67   9  83  21\n",
       "2  36  87  70  88"
      ]
     },
     "execution_count": 3,
     "metadata": {},
     "output_type": "execute_result"
    }
   ],
   "source": [
    "np.random.seed(0)  # guarantees that we all get the same random numbers each time\n",
    "\n",
    "df = DataFrame(np.random.randint(0, 100, [3, 4]))\n",
    "df"
   ]
  },
  {
   "cell_type": "code",
   "execution_count": 4,
   "metadata": {},
   "outputs": [
    {
     "data": {
      "text/plain": [
       "96"
      ]
     },
     "execution_count": 4,
     "metadata": {},
     "output_type": "execute_result"
    }
   ],
   "source": [
    "# how much memory is this using?\n",
    "\n",
    "# - how many rows? 3\n",
    "# - how many columns? 4\n",
    "# - what dtype? np.int64\n",
    "\n",
    "3 * 4 * 8"
   ]
  },
  {
   "cell_type": "code",
   "execution_count": 5,
   "metadata": {},
   "outputs": [
    {
     "name": "stdout",
     "output_type": "stream",
     "text": [
      "<class 'pandas.core.frame.DataFrame'>\n",
      "RangeIndex: 3 entries, 0 to 2\n",
      "Data columns (total 4 columns):\n",
      " #   Column  Non-Null Count  Dtype\n",
      "---  ------  --------------  -----\n",
      " 0   0       3 non-null      int64\n",
      " 1   1       3 non-null      int64\n",
      " 2   2       3 non-null      int64\n",
      " 3   3       3 non-null      int64\n",
      "dtypes: int64(4)\n",
      "memory usage: 228.0 bytes\n"
     ]
    }
   ],
   "source": [
    "# is this true?\n",
    "\n",
    "df.info()"
   ]
  },
  {
   "cell_type": "markdown",
   "metadata": {},
   "source": [
    "This is the case because our Pandas data frame uses up some memory, too!"
   ]
  },
  {
   "cell_type": "code",
   "execution_count": 6,
   "metadata": {},
   "outputs": [
    {
     "data": {
      "text/plain": [
       "Index    132\n",
       "0         24\n",
       "1         24\n",
       "2         24\n",
       "3         24\n",
       "dtype: int64"
      ]
     },
     "execution_count": 6,
     "metadata": {},
     "output_type": "execute_result"
    }
   ],
   "source": [
    "# another way to calculate memory usage\n",
    "\n",
    "df.memory_usage()"
   ]
  },
  {
   "cell_type": "code",
   "execution_count": 7,
   "metadata": {},
   "outputs": [
    {
     "data": {
      "text/plain": [
       "96"
      ]
     },
     "execution_count": 7,
     "metadata": {},
     "output_type": "execute_result"
    }
   ],
   "source": [
    "24 * 4"
   ]
  },
  {
   "cell_type": "code",
   "execution_count": 8,
   "metadata": {},
   "outputs": [
    {
     "data": {
      "text/html": [
       "<div>\n",
       "<style scoped>\n",
       "    .dataframe tbody tr th:only-of-type {\n",
       "        vertical-align: middle;\n",
       "    }\n",
       "\n",
       "    .dataframe tbody tr th {\n",
       "        vertical-align: top;\n",
       "    }\n",
       "\n",
       "    .dataframe thead th {\n",
       "        text-align: right;\n",
       "    }\n",
       "</style>\n",
       "<table border=\"1\" class=\"dataframe\">\n",
       "  <thead>\n",
       "    <tr style=\"text-align: right;\">\n",
       "      <th></th>\n",
       "      <th>w</th>\n",
       "      <th>x</th>\n",
       "      <th>y</th>\n",
       "      <th>z</th>\n",
       "    </tr>\n",
       "  </thead>\n",
       "  <tbody>\n",
       "    <tr>\n",
       "      <th>a</th>\n",
       "      <td>44</td>\n",
       "      <td>47</td>\n",
       "      <td>64</td>\n",
       "      <td>67</td>\n",
       "    </tr>\n",
       "    <tr>\n",
       "      <th>b</th>\n",
       "      <td>67</td>\n",
       "      <td>9</td>\n",
       "      <td>83</td>\n",
       "      <td>21</td>\n",
       "    </tr>\n",
       "    <tr>\n",
       "      <th>c</th>\n",
       "      <td>36</td>\n",
       "      <td>87</td>\n",
       "      <td>70</td>\n",
       "      <td>88</td>\n",
       "    </tr>\n",
       "  </tbody>\n",
       "</table>\n",
       "</div>"
      ],
      "text/plain": [
       "    w   x   y   z\n",
       "a  44  47  64  67\n",
       "b  67   9  83  21\n",
       "c  36  87  70  88"
      ]
     },
     "execution_count": 8,
     "metadata": {},
     "output_type": "execute_result"
    }
   ],
   "source": [
    "# what if we now give some string names to the index?\n",
    "\n",
    "np.random.seed(0) \n",
    "\n",
    "df = DataFrame(np.random.randint(0, 100, [3, 4]),\n",
    "               index=list('abc'),\n",
    "               columns=list('wxyz'))\n",
    "df"
   ]
  },
  {
   "cell_type": "code",
   "execution_count": 9,
   "metadata": {},
   "outputs": [
    {
     "name": "stdout",
     "output_type": "stream",
     "text": [
      "<class 'pandas.core.frame.DataFrame'>\n",
      "Index: 3 entries, a to c\n",
      "Data columns (total 4 columns):\n",
      " #   Column  Non-Null Count  Dtype\n",
      "---  ------  --------------  -----\n",
      " 0   w       3 non-null      int64\n",
      " 1   x       3 non-null      int64\n",
      " 2   y       3 non-null      int64\n",
      " 3   z       3 non-null      int64\n",
      "dtypes: int64(4)\n",
      "memory usage: 120.0+ bytes\n"
     ]
    }
   ],
   "source": [
    "df.info()"
   ]
  },
  {
   "cell_type": "code",
   "execution_count": 10,
   "metadata": {},
   "outputs": [
    {
     "data": {
      "text/plain": [
       "Index    24\n",
       "w        24\n",
       "x        24\n",
       "y        24\n",
       "z        24\n",
       "dtype: int64"
      ]
     },
     "execution_count": 10,
     "metadata": {},
     "output_type": "execute_result"
    }
   ],
   "source": [
    "df.memory_usage()"
   ]
  },
  {
   "cell_type": "code",
   "execution_count": 11,
   "metadata": {},
   "outputs": [
    {
     "data": {
      "text/plain": [
       "120"
      ]
     },
     "execution_count": 11,
     "metadata": {},
     "output_type": "execute_result"
    }
   ],
   "source": [
    "24 * 5"
   ]
  },
  {
   "cell_type": "markdown",
   "metadata": {},
   "source": [
    "The `+` indicates that our data frame contains some values that are being stored in Python, not directly in NumPy. It'll take time and effort to go into Python's memory and track down those objects, and get their sizes. So Pandas fudges, telling us how much memory the *pointer* to that Python object takes up (64 bits), but doesn't reflect the actual size of the string in memory."
   ]
  },
  {
   "cell_type": "code",
   "execution_count": 12,
   "metadata": {},
   "outputs": [
    {
     "name": "stdout",
     "output_type": "stream",
     "text": [
      "<class 'pandas.core.frame.DataFrame'>\n",
      "Index: 3 entries, a to c\n",
      "Data columns (total 4 columns):\n",
      " #   Column  Non-Null Count  Dtype\n",
      "---  ------  --------------  -----\n",
      " 0   w       3 non-null      int64\n",
      " 1   x       3 non-null      int64\n",
      " 2   y       3 non-null      int64\n",
      " 3   z       3 non-null      int64\n",
      "dtypes: int64(4)\n",
      "memory usage: 246.0 bytes\n"
     ]
    }
   ],
   "source": [
    "# we can solve this by telling Pandas to go into Python's memory and calculate the *real* size\n",
    "\n",
    "df.info(memory_usage='deep')"
   ]
  },
  {
   "cell_type": "code",
   "execution_count": 13,
   "metadata": {},
   "outputs": [
    {
     "data": {
      "text/plain": [
       "Index    150\n",
       "w         24\n",
       "x         24\n",
       "y         24\n",
       "z         24\n",
       "dtype: int64"
      ]
     },
     "execution_count": 13,
     "metadata": {},
     "output_type": "execute_result"
    }
   ],
   "source": [
    "df.memory_usage(deep=True)"
   ]
  },
  {
   "cell_type": "code",
   "execution_count": 14,
   "metadata": {},
   "outputs": [
    {
     "data": {
      "text/html": [
       "<div>\n",
       "<style scoped>\n",
       "    .dataframe tbody tr th:only-of-type {\n",
       "        vertical-align: middle;\n",
       "    }\n",
       "\n",
       "    .dataframe tbody tr th {\n",
       "        vertical-align: top;\n",
       "    }\n",
       "\n",
       "    .dataframe thead th {\n",
       "        text-align: right;\n",
       "    }\n",
       "</style>\n",
       "<table border=\"1\" class=\"dataframe\">\n",
       "  <thead>\n",
       "    <tr style=\"text-align: right;\">\n",
       "      <th></th>\n",
       "      <th>w</th>\n",
       "      <th>x</th>\n",
       "      <th>y</th>\n",
       "      <th>z</th>\n",
       "    </tr>\n",
       "  </thead>\n",
       "  <tbody>\n",
       "    <tr>\n",
       "      <th>a</th>\n",
       "      <td>44</td>\n",
       "      <td>47</td>\n",
       "      <td>64</td>\n",
       "      <td>67</td>\n",
       "    </tr>\n",
       "    <tr>\n",
       "      <th>b</th>\n",
       "      <td>67</td>\n",
       "      <td>9</td>\n",
       "      <td>83</td>\n",
       "      <td>21</td>\n",
       "    </tr>\n",
       "    <tr>\n",
       "      <th>c</th>\n",
       "      <td>36</td>\n",
       "      <td>87</td>\n",
       "      <td>70</td>\n",
       "      <td>88</td>\n",
       "    </tr>\n",
       "  </tbody>\n",
       "</table>\n",
       "</div>"
      ],
      "text/plain": [
       "    w   x   y   z\n",
       "a  44  47  64  67\n",
       "b  67   9  83  21\n",
       "c  36  87  70  88"
      ]
     },
     "execution_count": 14,
     "metadata": {},
     "output_type": "execute_result"
    }
   ],
   "source": [
    "df"
   ]
  },
  {
   "cell_type": "code",
   "execution_count": 15,
   "metadata": {},
   "outputs": [
    {
     "name": "stderr",
     "output_type": "stream",
     "text": [
      "IOPub data rate exceeded.\n",
      "The Jupyter server will temporarily stop sending output\n",
      "to the client in order to avoid crashing it.\n",
      "To change this limit, set the config variable\n",
      "`--ServerApp.iopub_data_rate_limit`.\n",
      "\n",
      "Current values:\n",
      "ServerApp.iopub_data_rate_limit=1000000.0 (bytes/sec)\n",
      "ServerApp.rate_limit_window=3.0 (secs)\n",
      "\n"
     ]
    }
   ],
   "source": [
    "df.loc['a', 'w'] = 'abcdefghijklmnopqrstuvwxyz' * 10_000_000"
   ]
  },
  {
   "cell_type": "code",
   "execution_count": 16,
   "metadata": {},
   "outputs": [
    {
     "data": {
      "text/html": [
       "<div>\n",
       "<style scoped>\n",
       "    .dataframe tbody tr th:only-of-type {\n",
       "        vertical-align: middle;\n",
       "    }\n",
       "\n",
       "    .dataframe tbody tr th {\n",
       "        vertical-align: top;\n",
       "    }\n",
       "\n",
       "    .dataframe thead th {\n",
       "        text-align: right;\n",
       "    }\n",
       "</style>\n",
       "<table border=\"1\" class=\"dataframe\">\n",
       "  <thead>\n",
       "    <tr style=\"text-align: right;\">\n",
       "      <th></th>\n",
       "      <th>w</th>\n",
       "      <th>x</th>\n",
       "      <th>y</th>\n",
       "      <th>z</th>\n",
       "    </tr>\n",
       "  </thead>\n",
       "  <tbody>\n",
       "    <tr>\n",
       "      <th>a</th>\n",
       "      <td>abcdefghijklmnopqrstuvwxyzabcdefghijklmnopqrst...</td>\n",
       "      <td>47</td>\n",
       "      <td>64</td>\n",
       "      <td>67</td>\n",
       "    </tr>\n",
       "    <tr>\n",
       "      <th>b</th>\n",
       "      <td>67</td>\n",
       "      <td>9</td>\n",
       "      <td>83</td>\n",
       "      <td>21</td>\n",
       "    </tr>\n",
       "    <tr>\n",
       "      <th>c</th>\n",
       "      <td>36</td>\n",
       "      <td>87</td>\n",
       "      <td>70</td>\n",
       "      <td>88</td>\n",
       "    </tr>\n",
       "  </tbody>\n",
       "</table>\n",
       "</div>"
      ],
      "text/plain": [
       "                                                   w   x   y   z\n",
       "a  abcdefghijklmnopqrstuvwxyzabcdefghijklmnopqrst...  47  64  67\n",
       "b                                                 67   9  83  21\n",
       "c                                                 36  87  70  88"
      ]
     },
     "execution_count": 16,
     "metadata": {},
     "output_type": "execute_result"
    }
   ],
   "source": [
    "df"
   ]
  },
  {
   "cell_type": "code",
   "execution_count": 17,
   "metadata": {},
   "outputs": [
    {
     "name": "stdout",
     "output_type": "stream",
     "text": [
      "<class 'pandas.core.frame.DataFrame'>\n",
      "Index: 3 entries, a to c\n",
      "Data columns (total 4 columns):\n",
      " #   Column  Non-Null Count  Dtype \n",
      "---  ------  --------------  ----- \n",
      " 0   w       3 non-null      object\n",
      " 1   x       3 non-null      int64 \n",
      " 2   y       3 non-null      int64 \n",
      " 3   z       3 non-null      int64 \n",
      "dtypes: int64(3), object(1)\n",
      "memory usage: 228.0+ bytes\n"
     ]
    }
   ],
   "source": [
    "df.info()"
   ]
  },
  {
   "cell_type": "code",
   "execution_count": 18,
   "metadata": {},
   "outputs": [
    {
     "name": "stdout",
     "output_type": "stream",
     "text": [
      "<class 'pandas.core.frame.DataFrame'>\n",
      "Index: 3 entries, a to c\n",
      "Data columns (total 4 columns):\n",
      " #   Column  Non-Null Count  Dtype \n",
      "---  ------  --------------  ----- \n",
      " 0   w       3 non-null      object\n",
      " 1   x       3 non-null      int64 \n",
      " 2   y       3 non-null      int64 \n",
      " 3   z       3 non-null      int64 \n",
      "dtypes: int64(3), object(1)\n",
      "memory usage: 248.0 MB\n"
     ]
    }
   ],
   "source": [
    "df.info(memory_usage='deep')"
   ]
  },
  {
   "cell_type": "code",
   "execution_count": 19,
   "metadata": {},
   "outputs": [
    {
     "data": {
      "text/plain": [
       "41"
      ]
     },
     "execution_count": 19,
     "metadata": {},
     "output_type": "execute_result"
    }
   ],
   "source": [
    "import sys\n",
    "sys.getsizeof('')"
   ]
  },
  {
   "cell_type": "code",
   "execution_count": 20,
   "metadata": {},
   "outputs": [
    {
     "data": {
      "text/plain": [
       "42"
      ]
     },
     "execution_count": 20,
     "metadata": {},
     "output_type": "execute_result"
    }
   ],
   "source": [
    "sys.getsizeof('a')"
   ]
  },
  {
   "cell_type": "code",
   "execution_count": 21,
   "metadata": {},
   "outputs": [
    {
     "name": "stdout",
     "output_type": "stream",
     "text": [
      "-rw-r--r-- 1 reuven staff 2.2G Jul  5  2021 /Users/reuven/Courses/Current/data/nyc-parking-violations-2020.csv\n"
     ]
    }
   ],
   "source": [
    "filename = '/Users/reuven/Courses/Current/data/nyc-parking-violations-2020.csv'\n",
    "\n",
    "!ls -lh $filename"
   ]
  },
  {
   "cell_type": "code",
   "execution_count": 22,
   "metadata": {},
   "outputs": [
    {
     "name": "stderr",
     "output_type": "stream",
     "text": [
      "/var/folders/rr/0mnyyv811fs5vyp22gf4fxk00000gn/T/ipykernel_95383/209439557.py:3: DtypeWarning: Columns (18,29,38,39) have mixed types. Specify dtype option on import or set low_memory=False.\n",
      "  df = pd.read_csv(filename)\n"
     ]
    }
   ],
   "source": [
    "# what happens if I read this file into memory?\n",
    "\n",
    "df = pd.read_csv(filename)"
   ]
  },
  {
   "cell_type": "code",
   "execution_count": 23,
   "metadata": {},
   "outputs": [],
   "source": [
    "df = pd.read_csv(filename, low_memory=False)"
   ]
  },
  {
   "cell_type": "code",
   "execution_count": 24,
   "metadata": {},
   "outputs": [
    {
     "name": "stdout",
     "output_type": "stream",
     "text": [
      "<class 'pandas.core.frame.DataFrame'>\n",
      "RangeIndex: 12495734 entries, 0 to 12495733\n",
      "Data columns (total 43 columns):\n",
      " #   Column                             Dtype  \n",
      "---  ------                             -----  \n",
      " 0   Summons Number                     int64  \n",
      " 1   Plate ID                           object \n",
      " 2   Registration State                 object \n",
      " 3   Plate Type                         object \n",
      " 4   Issue Date                         object \n",
      " 5   Violation Code                     int64  \n",
      " 6   Vehicle Body Type                  object \n",
      " 7   Vehicle Make                       object \n",
      " 8   Issuing Agency                     object \n",
      " 9   Street Code1                       int64  \n",
      " 10  Street Code2                       int64  \n",
      " 11  Street Code3                       int64  \n",
      " 12  Vehicle Expiration Date            int64  \n",
      " 13  Violation Location                 float64\n",
      " 14  Violation Precinct                 int64  \n",
      " 15  Issuer Precinct                    int64  \n",
      " 16  Issuer Code                        int64  \n",
      " 17  Issuer Command                     object \n",
      " 18  Issuer Squad                       object \n",
      " 19  Violation Time                     object \n",
      " 20  Time First Observed                object \n",
      " 21  Violation County                   object \n",
      " 22  Violation In Front Of Or Opposite  object \n",
      " 23  House Number                       object \n",
      " 24  Street Name                        object \n",
      " 25  Intersecting Street                object \n",
      " 26  Date First Observed                int64  \n",
      " 27  Law Section                        int64  \n",
      " 28  Sub Division                       object \n",
      " 29  Violation Legal Code               object \n",
      " 30  Days Parking In Effect             object \n",
      " 31  From Hours In Effect               object \n",
      " 32  To Hours In Effect                 object \n",
      " 33  Vehicle Color                      object \n",
      " 34  Unregistered Vehicle?              float64\n",
      " 35  Vehicle Year                       int64  \n",
      " 36  Meter Number                       object \n",
      " 37  Feet From Curb                     int64  \n",
      " 38  Violation Post Code                object \n",
      " 39  Violation Description              object \n",
      " 40  No Standing or Stopping Violation  float64\n",
      " 41  Hydrant Violation                  float64\n",
      " 42  Double Parking Violation           float64\n",
      "dtypes: float64(5), int64(13), object(25)\n",
      "memory usage: 15.6 GB\n"
     ]
    }
   ],
   "source": [
    "df.info(memory_usage='deep')"
   ]
  },
  {
   "cell_type": "code",
   "execution_count": 25,
   "metadata": {},
   "outputs": [],
   "source": [
    "# 12,495,734 rows in this data frame!"
   ]
  },
  {
   "cell_type": "code",
   "execution_count": 26,
   "metadata": {},
   "outputs": [],
   "source": [
    "# one great way to reduce memory size: keep only a handful of columns!\n",
    "# usecols lets us specify the columns we want\n",
    "\n",
    "df = pd.read_csv(filename, low_memory=False,\n",
    "                 usecols=['Plate ID', 'Registration State',\n",
    "                          'Issue Date', 'Vehicle Make',\n",
    "                          'Vehicle Color', 'Violation Code'])"
   ]
  },
  {
   "cell_type": "code",
   "execution_count": 27,
   "metadata": {},
   "outputs": [
    {
     "name": "stdout",
     "output_type": "stream",
     "text": [
      "<class 'pandas.core.frame.DataFrame'>\n",
      "RangeIndex: 12495734 entries, 0 to 12495733\n",
      "Data columns (total 6 columns):\n",
      " #   Column              Dtype \n",
      "---  ------              ----- \n",
      " 0   Plate ID            object\n",
      " 1   Registration State  object\n",
      " 2   Issue Date          object\n",
      " 3   Violation Code      int64 \n",
      " 4   Vehicle Make        object\n",
      " 5   Vehicle Color       object\n",
      "dtypes: int64(1), object(5)\n",
      "memory usage: 3.4 GB\n"
     ]
    }
   ],
   "source": [
    "df.info(memory_usage='deep')"
   ]
  },
  {
   "cell_type": "code",
   "execution_count": 28,
   "metadata": {},
   "outputs": [
    {
     "data": {
      "text/plain": [
       "np.int64(0)"
      ]
     },
     "execution_count": 28,
     "metadata": {},
     "output_type": "execute_result"
    }
   ],
   "source": [
    "df['Violation Code'].min()"
   ]
  },
  {
   "cell_type": "code",
   "execution_count": 29,
   "metadata": {},
   "outputs": [
    {
     "data": {
      "text/plain": [
       "np.int64(99)"
      ]
     },
     "execution_count": 29,
     "metadata": {},
     "output_type": "execute_result"
    }
   ],
   "source": [
    "df['Violation Code'].max()"
   ]
  },
  {
   "cell_type": "code",
   "execution_count": 31,
   "metadata": {},
   "outputs": [
    {
     "data": {
      "text/plain": [
       "99965872"
      ]
     },
     "execution_count": 31,
     "metadata": {},
     "output_type": "execute_result"
    }
   ],
   "source": [
    "# we can get away with using an 8-bit integer!\n",
    "\n",
    "(12495734 * 64) - (12495734 * 56) "
   ]
  },
  {
   "cell_type": "code",
   "execution_count": null,
   "metadata": {},
   "outputs": [],
   "source": [
    "99,965,872"
   ]
  },
  {
   "cell_type": "code",
   "execution_count": 32,
   "metadata": {},
   "outputs": [],
   "source": [
    "# how can I specify that the \"Violation Code\" column should use np.int8, and not np.int64?\n",
    "# here, we can start to specify the dtype keyword argument to read_csv\n",
    "\n",
    "\n",
    "df = pd.read_csv(filename, low_memory=False,\n",
    "                 usecols=['Plate ID', 'Registration State',\n",
    "                          'Issue Date', 'Vehicle Make',\n",
    "                          'Vehicle Color', 'Violation Code'],\n",
    "                dtype={'Violation Code':np.int8})"
   ]
  },
  {
   "cell_type": "code",
   "execution_count": 33,
   "metadata": {},
   "outputs": [
    {
     "name": "stdout",
     "output_type": "stream",
     "text": [
      "<class 'pandas.core.frame.DataFrame'>\n",
      "RangeIndex: 12495734 entries, 0 to 12495733\n",
      "Data columns (total 6 columns):\n",
      " #   Column              Dtype \n",
      "---  ------              ----- \n",
      " 0   Plate ID            object\n",
      " 1   Registration State  object\n",
      " 2   Issue Date          object\n",
      " 3   Violation Code      int8  \n",
      " 4   Vehicle Make        object\n",
      " 5   Vehicle Color       object\n",
      "dtypes: int8(1), object(5)\n",
      "memory usage: 3.3 GB\n"
     ]
    }
   ],
   "source": [
    "df.info(memory_usage='deep')"
   ]
  },
  {
   "cell_type": "markdown",
   "metadata": {},
   "source": [
    "# Categories\n",
    "\n",
    "If a column contains strings, then each of those strings is being stored in Python and taking up memory. If we were writing a program, and the program used the same hard-coded strings many times, we would use an enum. Pandas supports the same idea, namely replacing strings with integers and storing the strings in one place. Each integer refers to an element in that storage. Because integers are smaller than strings, and because strings often repeat, categories can reduce memory usage quite a bit."
   ]
  },
  {
   "cell_type": "code",
   "execution_count": 34,
   "metadata": {},
   "outputs": [
    {
     "data": {
      "text/plain": [
       "Index(['Plate ID', 'Registration State', 'Issue Date', 'Violation Code',\n",
       "       'Vehicle Make', 'Vehicle Color'],\n",
       "      dtype='object')"
      ]
     },
     "execution_count": 34,
     "metadata": {},
     "output_type": "execute_result"
    }
   ],
   "source": [
    "df.columns"
   ]
  },
  {
   "cell_type": "code",
   "execution_count": 35,
   "metadata": {},
   "outputs": [
    {
     "data": {
      "text/plain": [
       "Plate ID\n",
       "BLANKPLATE    8882\n",
       "2704819       1535\n",
       "86107MM       1429\n",
       "2703289       1364\n",
       "NS            1189\n",
       "              ... \n",
       "DVV1033          1\n",
       "JCX9668          1\n",
       "BXU5368          1\n",
       "HFS8627          1\n",
       "T64528C          1\n",
       "Name: count, Length: 3245467, dtype: int64"
      ]
     },
     "execution_count": 35,
     "metadata": {},
     "output_type": "execute_result"
    }
   ],
   "source": [
    "df['Plate ID'].value_counts()"
   ]
  },
  {
   "cell_type": "code",
   "execution_count": 38,
   "metadata": {},
   "outputs": [
    {
     "name": "stdout",
     "output_type": "stream",
     "text": [
      "Adjusting Plate ID...\n",
      "Adjusting Registration State...\n",
      "Adjusting Issue Date...\n",
      "Adjusting Vehicle Make...\n",
      "Adjusting Vehicle Color...\n"
     ]
    }
   ],
   "source": [
    "for one_column in df.select_dtypes('object').columns:\n",
    "    print(f'Adjusting {one_column}...')\n",
    "    df[one_column] = df[one_column].astype('category')"
   ]
  },
  {
   "cell_type": "code",
   "execution_count": 39,
   "metadata": {},
   "outputs": [
    {
     "name": "stdout",
     "output_type": "stream",
     "text": [
      "<class 'pandas.core.frame.DataFrame'>\n",
      "RangeIndex: 12495734 entries, 0 to 12495733\n",
      "Data columns (total 6 columns):\n",
      " #   Column              Dtype   \n",
      "---  ------              -----   \n",
      " 0   Plate ID            category\n",
      " 1   Registration State  category\n",
      " 2   Issue Date          category\n",
      " 3   Violation Code      int8    \n",
      " 4   Vehicle Make        category\n",
      " 5   Vehicle Color       category\n",
      "dtypes: category(5), int8(1)\n",
      "memory usage: 445.5 MB\n"
     ]
    }
   ],
   "source": [
    "df.info(memory_usage='deep')"
   ]
  },
  {
   "cell_type": "code",
   "execution_count": 40,
   "metadata": {},
   "outputs": [
    {
     "data": {
      "text/plain": [
       "0             J58JKX\n",
       "1            KRE6058\n",
       "2            444326R\n",
       "3            F728330\n",
       "4            FMY9090\n",
       "              ...   \n",
       "12495729     62161MM\n",
       "12495730     GYE7330\n",
       "12495731     HNY4802\n",
       "12495732    T687081C\n",
       "12495733      3497ZN\n",
       "Name: Plate ID, Length: 12495734, dtype: category\n",
       "Categories (3245467, object): ['000000', '00000K', '00004', '000050', ..., 'hNN7585', 'jhs4430', 'kNH5584', 'tR8DER']"
      ]
     },
     "execution_count": 40,
     "metadata": {},
     "output_type": "execute_result"
    }
   ],
   "source": [
    "df['Plate ID']"
   ]
  },
  {
   "cell_type": "code",
   "execution_count": 41,
   "metadata": {},
   "outputs": [
    {
     "data": {
      "text/plain": [
       "0              BK\n",
       "1             BLK\n",
       "2           BLACK\n",
       "3             NaN\n",
       "4            GREY\n",
       "            ...  \n",
       "12495729       BR\n",
       "12495730      BLK\n",
       "12495731       GY\n",
       "12495732      BLK\n",
       "12495733    WHITE\n",
       "Name: Vehicle Color, Length: 12495734, dtype: category\n",
       "Categories (1896, object): ['';', '+', '++', '+++++', ..., 'YYL', 'Yello', 'Z', '`']"
      ]
     },
     "execution_count": 41,
     "metadata": {},
     "output_type": "execute_result"
    }
   ],
   "source": [
    "df['Vehicle Color']"
   ]
  },
  {
   "cell_type": "code",
   "execution_count": 42,
   "metadata": {},
   "outputs": [
    {
     "data": {
      "text/plain": [
       "CategoricalDtype(categories=['';', '+', '++', '+++++', '-', '- E', '- J', '--H', '-.',\n",
       "                  '-.H',\n",
       "                  ...\n",
       "                  'YWPR', 'YWRD', 'YWTN', 'YWV', 'YWWH', 'YWYW', 'YYL',\n",
       "                  'Yello', 'Z', '`'],\n",
       ", ordered=False, categories_dtype=object)"
      ]
     },
     "execution_count": 42,
     "metadata": {},
     "output_type": "execute_result"
    }
   ],
   "source": [
    "df['Vehicle Color'].dtype"
   ]
  },
  {
   "cell_type": "markdown",
   "metadata": {},
   "source": [
    "# Exercise: Olympic data\n",
    "\n",
    "1. Read the entire Olympic data set into memory, using the defaults. How much RAM does this use altogether?\n",
    "2. Only keep `Team`, `Season`, `Year`, `Height`, and `Weight` columns. Now how much RAM does it use?\n",
    "3. Modify `Year`, `Height`, and `Weight` to be smaller than `int64`. How small can they get? How much RAM do we use now?\n",
    "4. Turn the text columns into categories. How much RAM are we using now?"
   ]
  },
  {
   "cell_type": "code",
   "execution_count": 43,
   "metadata": {},
   "outputs": [],
   "source": [
    "olympic_df = pd.read_csv('olympic_athlete_events.zip')"
   ]
  },
  {
   "cell_type": "code",
   "execution_count": 44,
   "metadata": {},
   "outputs": [
    {
     "data": {
      "text/plain": [
       "(271116, 15)"
      ]
     },
     "execution_count": 44,
     "metadata": {},
     "output_type": "execute_result"
    }
   ],
   "source": [
    "olympic_df.shape"
   ]
  },
  {
   "cell_type": "code",
   "execution_count": 45,
   "metadata": {},
   "outputs": [
    {
     "name": "stdout",
     "output_type": "stream",
     "text": [
      "<class 'pandas.core.frame.DataFrame'>\n",
      "RangeIndex: 271116 entries, 0 to 271115\n",
      "Data columns (total 15 columns):\n",
      " #   Column  Non-Null Count   Dtype  \n",
      "---  ------  --------------   -----  \n",
      " 0   ID      271116 non-null  int64  \n",
      " 1   Name    271116 non-null  object \n",
      " 2   Sex     271116 non-null  object \n",
      " 3   Age     261642 non-null  float64\n",
      " 4   Height  210945 non-null  float64\n",
      " 5   Weight  208241 non-null  float64\n",
      " 6   Team    271116 non-null  object \n",
      " 7   NOC     271116 non-null  object \n",
      " 8   Games   271116 non-null  object \n",
      " 9   Year    271116 non-null  int64  \n",
      " 10  Season  271116 non-null  object \n",
      " 11  City    271116 non-null  object \n",
      " 12  Sport   271116 non-null  object \n",
      " 13  Event   271116 non-null  object \n",
      " 14  Medal   39783 non-null   object \n",
      "dtypes: float64(3), int64(2), object(10)\n",
      "memory usage: 31.0+ MB\n"
     ]
    }
   ],
   "source": [
    "olympic_df.info()"
   ]
  },
  {
   "cell_type": "code",
   "execution_count": 47,
   "metadata": {},
   "outputs": [
    {
     "name": "stdout",
     "output_type": "stream",
     "text": [
      "<class 'pandas.core.frame.DataFrame'>\n",
      "RangeIndex: 271116 entries, 0 to 271115\n",
      "Data columns (total 15 columns):\n",
      " #   Column  Non-Null Count   Dtype  \n",
      "---  ------  --------------   -----  \n",
      " 0   ID      271116 non-null  int64  \n",
      " 1   Name    271116 non-null  object \n",
      " 2   Sex     271116 non-null  object \n",
      " 3   Age     261642 non-null  float64\n",
      " 4   Height  210945 non-null  float64\n",
      " 5   Weight  208241 non-null  float64\n",
      " 6   Team    271116 non-null  object \n",
      " 7   NOC     271116 non-null  object \n",
      " 8   Games   271116 non-null  object \n",
      " 9   Year    271116 non-null  int64  \n",
      " 10  Season  271116 non-null  object \n",
      " 11  City    271116 non-null  object \n",
      " 12  Sport   271116 non-null  object \n",
      " 13  Event   271116 non-null  object \n",
      " 14  Medal   39783 non-null   object \n",
      "dtypes: float64(3), int64(2), object(10)\n",
      "memory usage: 158.9 MB\n"
     ]
    }
   ],
   "source": [
    "olympic_df.info(memory_usage='deep')"
   ]
  },
  {
   "cell_type": "code",
   "execution_count": 48,
   "metadata": {},
   "outputs": [
    {
     "name": "stdout",
     "output_type": "stream",
     "text": [
      "-rw-r--r-- 1 reuven staff 5.3M Apr  3  2022 olympic_athlete_events.zip\n"
     ]
    }
   ],
   "source": [
    "!ls -lh olympic_athlete_events.zip"
   ]
  },
  {
   "cell_type": "code",
   "execution_count": 50,
   "metadata": {},
   "outputs": [
    {
     "name": "stdout",
     "output_type": "stream",
     "text": [
      "<class 'pandas.core.frame.DataFrame'>\n",
      "RangeIndex: 271116 entries, 0 to 271115\n",
      "Data columns (total 5 columns):\n",
      " #   Column  Non-Null Count   Dtype  \n",
      "---  ------  --------------   -----  \n",
      " 0   Height  210945 non-null  float64\n",
      " 1   Weight  208241 non-null  float64\n",
      " 2   Team    271116 non-null  object \n",
      " 3   Year    271116 non-null  int64  \n",
      " 4   Season  271116 non-null  object \n",
      "dtypes: float64(2), int64(1), object(2)\n",
      "memory usage: 35.3 MB\n"
     ]
    }
   ],
   "source": [
    "# Only keep Team, Season, Year, Height, and Weight columns. Now how much RAM does it use?\n",
    "\n",
    "olympic_df = pd.read_csv('olympic_athlete_events.zip',\n",
    "                        usecols=['Team', 'Season', 'Year', 'Height', 'Weight'])\n",
    "olympic_df.info(memory_usage='deep')"
   ]
  },
  {
   "cell_type": "code",
   "execution_count": 52,
   "metadata": {},
   "outputs": [
    {
     "data": {
      "text/html": [
       "<div>\n",
       "<style scoped>\n",
       "    .dataframe tbody tr th:only-of-type {\n",
       "        vertical-align: middle;\n",
       "    }\n",
       "\n",
       "    .dataframe tbody tr th {\n",
       "        vertical-align: top;\n",
       "    }\n",
       "\n",
       "    .dataframe thead th {\n",
       "        text-align: right;\n",
       "    }\n",
       "</style>\n",
       "<table border=\"1\" class=\"dataframe\">\n",
       "  <thead>\n",
       "    <tr style=\"text-align: right;\">\n",
       "      <th></th>\n",
       "      <th>Year</th>\n",
       "      <th>Height</th>\n",
       "      <th>Weight</th>\n",
       "    </tr>\n",
       "  </thead>\n",
       "  <tbody>\n",
       "    <tr>\n",
       "      <th>min</th>\n",
       "      <td>1896</td>\n",
       "      <td>127.0</td>\n",
       "      <td>25.0</td>\n",
       "    </tr>\n",
       "    <tr>\n",
       "      <th>max</th>\n",
       "      <td>2016</td>\n",
       "      <td>226.0</td>\n",
       "      <td>214.0</td>\n",
       "    </tr>\n",
       "  </tbody>\n",
       "</table>\n",
       "</div>"
      ],
      "text/plain": [
       "     Year  Height  Weight\n",
       "min  1896   127.0    25.0\n",
       "max  2016   226.0   214.0"
      ]
     },
     "execution_count": 52,
     "metadata": {},
     "output_type": "execute_result"
    }
   ],
   "source": [
    "olympic_df[['Year', 'Height', 'Weight']].agg(['min', 'max'])"
   ]
  },
  {
   "cell_type": "code",
   "execution_count": 58,
   "metadata": {},
   "outputs": [
    {
     "name": "stdout",
     "output_type": "stream",
     "text": [
      "<class 'pandas.core.frame.DataFrame'>\n",
      "RangeIndex: 271116 entries, 0 to 271115\n",
      "Data columns (total 5 columns):\n",
      " #   Column  Non-Null Count   Dtype  \n",
      "---  ------  --------------   -----  \n",
      " 0   Height  210945 non-null  float32\n",
      " 1   Weight  208241 non-null  float32\n",
      " 2   Team    271116 non-null  object \n",
      " 3   Year    271116 non-null  uint16 \n",
      " 4   Season  271116 non-null  object \n",
      "dtypes: float32(2), object(2), uint16(1)\n",
      "memory usage: 31.7 MB\n"
     ]
    }
   ],
   "source": [
    "# Modify Year, Height, and Weight to be smaller than int64. How small can they get? How much RAM do we use now?\n",
    "\n",
    "olympic_df = pd.read_csv('olympic_athlete_events.zip',\n",
    "                        usecols=['Team', 'Season', 'Year', 'Height', 'Weight'],\n",
    "                        dtype={'Year':np.uint16,\n",
    "                               'Height':np.float32,\n",
    "                              'Weight':np.float32})\n",
    "olympic_df.info(memory_usage='deep')"
   ]
  },
  {
   "cell_type": "code",
   "execution_count": 59,
   "metadata": {},
   "outputs": [
    {
     "name": "stdout",
     "output_type": "stream",
     "text": [
      "<class 'pandas.core.frame.DataFrame'>\n",
      "RangeIndex: 271116 entries, 0 to 271115\n",
      "Data columns (total 5 columns):\n",
      " #   Column  Non-Null Count   Dtype   \n",
      "---  ------  --------------   -----   \n",
      " 0   Height  210945 non-null  float32 \n",
      " 1   Weight  208241 non-null  float32 \n",
      " 2   Team    271116 non-null  category\n",
      " 3   Year    271116 non-null  uint16  \n",
      " 4   Season  271116 non-null  category\n",
      "dtypes: category(2), float32(2), uint16(1)\n",
      "memory usage: 3.5 MB\n"
     ]
    }
   ],
   "source": [
    "# Turn the text columns into categories. How much RAM are we using now?\n",
    "\n",
    "olympic_df = pd.read_csv('olympic_athlete_events.zip',\n",
    "                        usecols=['Team', 'Season', 'Year', 'Height', 'Weight'],\n",
    "                        dtype={'Year':np.uint16,\n",
    "                               'Height':np.float32,\n",
    "                              'Weight':np.float32,\n",
    "                              'Team':'category',\n",
    "                              'Season':'category'})\n",
    "olympic_df.info(memory_usage='deep')"
   ]
  },
  {
   "cell_type": "markdown",
   "metadata": {},
   "source": [
    "# Apache Arrow\n",
    "\n",
    "Wes McKinney, who created Pandas, realized that he was reinventing the wheel. He used NumPy, but having a 2D table in memory wasn't unique to Pandas. He also realized that while NumPy works, and is efficient, it's far from perfect for data analysis. He decided to create a new in-memory data structure for working with data analysis. That project is known as Apache Arrow. The Python version/bindings is known as PyArrow.\n",
    "\n",
    "There are plans to replace NumPy with PyArrow over the coming years.  Right now, you can use PyArrow in a few ways:\n",
    "\n",
    "- You can use its CSV-loading library, which is far faster than the Pandas default written in Python\n",
    "- You can use two binary file formats (Parquet and Feather) to reading/writing data frames to/from disk, which are far faster and more accurate than CSV or Excel\n",
    "- You can use it instead of NumPy, although this is considered experimental\n"
   ]
  },
  {
   "cell_type": "code",
   "execution_count": 60,
   "metadata": {},
   "outputs": [
    {
     "name": "stdout",
     "output_type": "stream",
     "text": [
      "243 ms ± 3.19 ms per loop (mean ± std. dev. of 7 runs, 1 loop each)\n"
     ]
    }
   ],
   "source": [
    "%%timeit\n",
    "\n",
    "pd.read_csv('olympic_athlete_events.zip',\n",
    "                        usecols=['Team', 'Season', 'Year', 'Height', 'Weight'],\n",
    "                        dtype={'Year':np.uint16,\n",
    "                               'Height':np.float32,\n",
    "                              'Weight':np.float32,\n",
    "                              'Team':'category',\n",
    "                              'Season':'category'})\n"
   ]
  },
  {
   "cell_type": "code",
   "execution_count": 61,
   "metadata": {},
   "outputs": [
    {
     "name": "stdout",
     "output_type": "stream",
     "text": [
      "676 ms ± 5.18 ms per loop (mean ± std. dev. of 7 runs, 1 loop each)\n"
     ]
    }
   ],
   "source": [
    "%%timeit\n",
    "\n",
    "pd.read_csv('olympic_athlete_events.zip',\n",
    "                        usecols=['Team', 'Season', 'Year', 'Height', 'Weight'],\n",
    "                        dtype={'Year':np.uint16,\n",
    "                               'Height':np.float32,\n",
    "                              'Weight':np.float32,\n",
    "                              'Team':'category',\n",
    "                              'Season':'category'},\n",
    "           engine='pyarrow')   # Use PyArrow to load the CSV -- but NumPy is still the storage backend\n"
   ]
  },
  {
   "cell_type": "code",
   "execution_count": 62,
   "metadata": {},
   "outputs": [
    {
     "name": "stdout",
     "output_type": "stream",
     "text": [
      "-rw-r--r-- 1 reuven staff 40M Oct  1  2019 /Users/reuven/Courses/Current/Data/olympic_athlete_events.csv\n"
     ]
    }
   ],
   "source": [
    "olympic_file = '/Users/reuven/Courses/Current/Data/olympic_athlete_events.csv'\n",
    "\n",
    "!ls -lh $olympic_file"
   ]
  },
  {
   "cell_type": "code",
   "execution_count": 63,
   "metadata": {},
   "outputs": [
    {
     "name": "stdout",
     "output_type": "stream",
     "text": [
      "217 ms ± 3.7 ms per loop (mean ± std. dev. of 7 runs, 1 loop each)\n"
     ]
    }
   ],
   "source": [
    "%%timeit\n",
    "\n",
    "pd.read_csv(olympic_file,\n",
    "                        usecols=['Team', 'Season', 'Year', 'Height', 'Weight'],\n",
    "                        dtype={'Year':np.uint16,\n",
    "                               'Height':np.float32,\n",
    "                              'Weight':np.float32,\n",
    "                              'Team':'category',\n",
    "                              'Season':'category'})"
   ]
  },
  {
   "cell_type": "code",
   "execution_count": 66,
   "metadata": {},
   "outputs": [
    {
     "name": "stdout",
     "output_type": "stream",
     "text": [
      "631 ms ± 8.46 ms per loop (mean ± std. dev. of 7 runs, 1 loop each)\n"
     ]
    }
   ],
   "source": [
    "%%timeit\n",
    "\n",
    "pd.read_csv(olympic_file,\n",
    "                        usecols=['Team', 'Season', 'Year', 'Height', 'Weight'],\n",
    "               engine='pyarrow')"
   ]
  },
  {
   "cell_type": "code",
   "execution_count": 65,
   "metadata": {},
   "outputs": [
    {
     "data": {
      "text/plain": [
       "'/Users/reuven/Courses/Current/data/nyc-parking-violations-2020.csv'"
      ]
     },
     "execution_count": 65,
     "metadata": {},
     "output_type": "execute_result"
    }
   ],
   "source": [
    "filename"
   ]
  },
  {
   "cell_type": "markdown",
   "metadata": {},
   "source": [
    "# PyArrow binary formats\n",
    "\n",
    "- Feather format, which is larger, but takes less time to read/write (less compression)\n",
    "- Parquet format, which is smaller, but takes more time to read/write (more compression)"
   ]
  },
  {
   "cell_type": "code",
   "execution_count": 71,
   "metadata": {},
   "outputs": [],
   "source": [
    "df.to_parquet('/tmp/nyc-tickets.parquet')"
   ]
  },
  {
   "cell_type": "code",
   "execution_count": 70,
   "metadata": {},
   "outputs": [],
   "source": [
    "df.to_feather('/tmp/nyc-tickets.feather')"
   ]
  },
  {
   "cell_type": "code",
   "execution_count": 72,
   "metadata": {},
   "outputs": [
    {
     "name": "stdout",
     "output_type": "stream",
     "text": [
      "-rw-r--r-- 1 reuven wheel 118M Aug 27 21:03 /tmp/nyc-tickets.feather\n",
      "-rw-r--r-- 1 reuven wheel 263M Aug 27 21:03 /tmp/nyc-tickets.parquet\n"
     ]
    }
   ],
   "source": [
    "!ls -lh /tmp/nyc-tickets*"
   ]
  },
  {
   "cell_type": "code",
   "execution_count": 73,
   "metadata": {},
   "outputs": [
    {
     "name": "stdout",
     "output_type": "stream",
     "text": [
      "4.72 s ± 41.5 ms per loop (mean ± std. dev. of 7 runs, 1 loop each)\n"
     ]
    }
   ],
   "source": [
    "%timeit df = pd.read_parquet('/tmp/nyc-tickets.parquet')"
   ]
  },
  {
   "cell_type": "markdown",
   "metadata": {},
   "source": [
    "You can specify, when you read data in using `read_csv`, that you want `dtype_backend='pyarrow'`. This will use PyArrow instead of NumPy.\n",
    "\n",
    "Many times, you will find that the PyArrow backend is *FAR* faster and smaller than NumPy. But it's still not ready for prime time, and there are certain things that are far slower."
   ]
  },
  {
   "cell_type": "markdown",
   "metadata": {},
   "source": [
    "# Common Pandas anti-patterns (meaning: don't do these things!)\n",
    "\n",
    "Don't use `inplace=True`! It's very common for people to learn about `inplace=True` on many methods. Instead of returning a new data frame, these methods then return `None`, and modify the original data frame. You can do this with `set_index`, `sort_values`, `dropna`, and many others.\n",
    "\n",
    "However, the core Pandas developers say loud and clear:\n",
    "\n",
    "1. It's going away!\n",
    "2. It's not really faster or smaller than returning a new data frame\n",
    "3. It kills the possibility of doing method chaining, which is increasingly in vogue"
   ]
  },
  {
   "cell_type": "markdown",
   "metadata": {},
   "source": [
    "# Don't use `for` loops on your data frames\n",
    "\n",
    "Pandas is optimized for vectorized method calls. It's really fast at doing those! If you use a `for` loop, you're giving up all of the speed and memory optimizations.\n",
    "\n",
    "You should almost always be able to find a Pandas method that does what you want. If you're working with strings, check out the `.str` accessor, and the same is true for `.dt` for datetime values.\n",
    "\n",
    "If you really need, you can use the `map` and `apply` methods, which aren't perfect, but they're still better."
   ]
  },
  {
   "cell_type": "markdown",
   "metadata": {},
   "source": [
    "# Turn dates and times into `datetime` dtypes!\n",
    "\n",
    "Strings are so much larger than `datetime` values, so this will both save you memory and also give you lots of functionality."
   ]
  },
  {
   "cell_type": "code",
   "execution_count": null,
   "metadata": {},
   "outputs": [],
   "source": []
  }
 ],
 "metadata": {
  "kernelspec": {
   "display_name": "Python 3 (ipykernel)",
   "language": "python",
   "name": "python3"
  },
  "language_info": {
   "codemirror_mode": {
    "name": "ipython",
    "version": 3
   },
   "file_extension": ".py",
   "mimetype": "text/x-python",
   "name": "python",
   "nbconvert_exporter": "python",
   "pygments_lexer": "ipython3",
   "version": "3.13.5"
  }
 },
 "nbformat": 4,
 "nbformat_minor": 4
}
