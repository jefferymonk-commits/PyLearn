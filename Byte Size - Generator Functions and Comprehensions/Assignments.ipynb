{
 "cells": [
  {
   "cell_type": "code",
   "execution_count": 4,
   "id": "971f0ecd",
   "metadata": {},
   "outputs": [
    {
     "name": "stdout",
     "output_type": "stream",
     "text": [
      "[2, 4, 6, 8, 10]\n"
     ]
    }
   ],
   "source": [
    "def funct_even_numbers_from_list():\n",
    "    my_list = [1, 2, 3, 4, 5, 6, 7, 8, 9, 10]\n",
    "    even_numbers = []\n",
    "    for num in my_list:\n",
    "        if num % 2 == 0:\n",
    "            even_numbers.append(num)\n",
    "    print(even_numbers)\n",
    "    return even_numbers\n",
    "\n",
    "\n",
    "even_nums = funct_even_numbers_from_list()\n"
   ]
  },
  {
   "cell_type": "code",
   "execution_count": 6,
   "id": "f48229f8",
   "metadata": {},
   "outputs": [
    {
     "name": "stdout",
     "output_type": "stream",
     "text": [
      "10\n",
      "12\n",
      "14\n"
     ]
    }
   ],
   "source": [
    "def only_evens(numbers):\n",
    "    for one_itme in numbers:\n",
    "        if one_itme % 2 == 0:\n",
    "            yield one_itme\n",
    "\n",
    "g = only_evens([10,11,12,13,14])\n",
    "for one_item in g:\n",
    "    print(one_item)"
   ]
  },
  {
   "cell_type": "code",
   "execution_count": 12,
   "id": "98e2df84",
   "metadata": {},
   "outputs": [
    {
     "name": "stdout",
     "output_type": "stream",
     "text": [
      "Record: line one of text file, line two of text file, line three of text file\n",
      "Record: line four of text file, line five of text file, line six of text file\n",
      "Record: line seven of text file, line eight of text file, line nine of text file\n"
     ]
    }
   ],
   "source": [
    "with open(\"line one of text file.txt\", \"r\") as file:\n",
    "    while True:\n",
    "        line1 = file.readline().strip() # Read the first line and remove newline\n",
    "        line2 = file.readline().strip() # Read the second line\n",
    "        line3 = file.readline().strip() # Read the third line\n",
    "\n",
    "        if not line1: # Check if we've reached the end of the file\n",
    "            break\n",
    "\n",
    "        # Process your three lines as a record\n",
    "\n",
    "        print(f\"Record: {line1}, {line2}, {line3}\") "
   ]
  },
  {
   "cell_type": "code",
   "execution_count": 18,
   "id": "e32a79ff",
   "metadata": {},
   "outputs": [
    {
     "name": "stdout",
     "output_type": "stream",
     "text": [
      "[5, 6, 6, 4]\n",
      "21\n"
     ]
    }
   ],
   "source": [
    "word_list = [\"apple\", \"banana\", \"cherry\", \"date\"]\n",
    "word_lengths = []\n",
    "for word in word_list:\n",
    "    word_lengths.append(len(word))\n",
    "print(word_lengths)\n",
    "\n",
    "sum_all_words = sum(word_lengths)\n",
    "print(sum_all_words)"
   ]
  },
  {
   "cell_type": "code",
   "execution_count": 20,
   "id": "41ed92bd",
   "metadata": {},
   "outputs": [
    {
     "name": "stdout",
     "output_type": "stream",
     "text": [
      "[4, 2, 1, 6, 4, 2, 4]\n",
      "23\n"
     ]
    }
   ],
   "source": [
    "line_of_text = \"This is a sample line of text\"\n",
    "word_lengths = [len(word) for word in line_of_text.split()]\n",
    "print(word_lengths)\n",
    "\n",
    "sum_all_words = sum(word_lengths)\n",
    "print(sum_all_words)"
   ]
  },
  {
   "cell_type": "code",
   "execution_count": 23,
   "id": "2f4fcbbd",
   "metadata": {},
   "outputs": [
    {
     "data": {
      "text/plain": [
       "23"
      ]
     },
     "execution_count": 23,
     "metadata": {},
     "output_type": "execute_result"
    }
   ],
   "source": [
    "s = \"This is a sample line of text\"\n",
    "\n",
    "sum(len(one_word)\n",
    "    for one_word in s.split()\n",
    "   )   "
   ]
  }
 ],
 "metadata": {
  "kernelspec": {
   "display_name": "Python 3",
   "language": "python",
   "name": "python3"
  },
  "language_info": {
   "codemirror_mode": {
    "name": "ipython",
    "version": 3
   },
   "file_extension": ".py",
   "mimetype": "text/x-python",
   "name": "python",
   "nbconvert_exporter": "python",
   "pygments_lexer": "ipython3",
   "version": "3.12.8"
  }
 },
 "nbformat": 4,
 "nbformat_minor": 5
}
