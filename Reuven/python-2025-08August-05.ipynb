{
 "cells": [
  {
   "cell_type": "markdown",
   "metadata": {},
   "source": [
    "# Agenda\n",
    "\n",
    "1. Fundamentals and core concepts\n",
    "    - What is a programming language?\n",
    "    - Values and variables\n",
    "    - Assignment to variables\n",
    "    - Displaying values on the screen with `print`\n",
    "    - Getting input from the user with `input`\n",
    "    - Comparison operators -- are things the same?\n",
    "    - Making decisions with `if`\n",
    "    - Numbers in Python (`int` and `float`)\n",
    "    - Text in Python (`str`)\n",
    "    - Methods -- what are they, and how can we use them with strings?\n",
    "2. Loops, lists, and tuples\n",
    "    - Repeating ourselves with loops\n",
    "    - The \"list\" data structure -- what it does\n",
    "    - Converting from strings to lists (and back)\n",
    "    - Tuples -- what are they, and how do they fit into things?\n",
    "    - Tuple unpacking\n",
    "3. Dictionaries and files\n",
    "    - Dicts -- what are they, how do we use them?\n",
    "    - Files -- reading from them and (a little) writing to them\n",
    "4. Functions\n",
    "    - Defining functions\n",
    "    - Invoking functions\n",
    "    - Arguments and parameters\n",
    "    - Return values\n",
    "    - Local vs. global variables\n",
    "5. Modules and packages\n",
    "    - Using code that others have provided\n",
    "    - Providing code to others\n",
    "    - Python standard library\n",
    "    - PyPI and third-party modules"
   ]
  },
  {
   "cell_type": "markdown",
   "metadata": {},
   "source": [
    "# What is a programming language? What is Python?\n",
    "\n",
    "When computers were invented, people would build a new, separate computer for every problem they had to solve. That was time consuming and expensive! At some point, they decided to create general-purpose computers that could solve many problems. The way that such a computer could solve different problems was by writing *software*. In those days, you would write the 1s and 0s (\"binary code\") that the computer can use for instructions.\n",
    "\n",
    "Pretty quickly, people decided that it would be better for us to write in a \"higher-level\" programming language, and convert that language into 1s and 0s. There are many, *many* programming languages out there.\n",
    "\n",
    "- C -- executes very quickly, because even though it's a higher-level language than 1s and 0s, it's still very tied to hardware and how it works. C is thus very hard to learn and often hard to use, but when you get things working, it runs very fast.\n",
    "- C++ -- C with object-oriented facilities for organizing your code in a modern way, using \"objects.\" C++ is a very, *very* complex language, far more even than C.\n",
    "- Java -- tries to remove some of the hardware thinking from programming, and is higher level. Java requires that you know how to use objects, and that can be complicated.\n",
    "- C# -- Microsoft's version of Java.\n",
    "- Python -- very high level language. It's not intended to execute super fast. It's intended to be easy to learn, consistent, and easy to read/debug.\n",
    "\n",
    "Python has been around for more than 30 years! But only in the last decade has it really taken off. \n",
    "\n",
    "Python is a perfect language for an age in which computers are cheap and people are expensive.\n",
    "\n",
    "Python code might not execute super fast, but it makes you very productive, which means that it's a good investment for many companies (for many individuals, too!).\n",
    "\n",
    "Python has become very popular in a number of domains:\n",
    "\n",
    "- Machine learning and AI\n",
    "- Data analysis\n",
    "- Devops\n",
    "- Web applications\n",
    "- API servers/clients\n",
    "- Education\n",
    "- Testing and automation\n",
    "\n",
    "Just because it's an easy language doesn't mean programming is always easy!\n",
    "\n",
    "Climbing two ladders at the same time when you're learning to program:\n",
    "- Concepts and ideas of programming\n",
    "- Syntax of a language (Python, in this case)"
   ]
  },
  {
   "cell_type": "markdown",
   "metadata": {},
   "source": [
    "# Jupyter\n",
    "\n",
    "If you're going to write Python code, you need (a) a place to write/edit it and (b) a place to execute it. You can use a traditional editor or IDE (integrated development environment) to do all of this.\n",
    "\n",
    "A number of programmers set up Jupyter, which gives you the illusion of writing Python in your browser.\n",
    "\n",
    "If you want to set up Jupyter on your computer, you can!\n",
    "\n",
    "If you want to use an IDE, you can!\n",
    "\n",
    "BUT if you don't want to install anything, you can just use Jupyter Lite. In that case, both Jupyter and Python run INSIDE OF YOUR BROWSER.\n",
    "\n",
    "https://jupyter.org/try-jupyter/lab/"
   ]
  },
  {
   "cell_type": "markdown",
   "metadata": {},
   "source": [
    "# A quick Jupyter tutorial\n",
    "\n",
    "When you type into Jupyter, you're typing into a *cell*. Each cell can contain any amount of text. But when you type, you can actually be in one of two modes:\n",
    "\n",
    "- Edit mode, which means that when you type, you see the text in the Jupyter cell. I'm currently in edit mode.  To enter edit mode, click inside of the rectangle (the cell) or press ENTER.\n",
    "- Command mode, in which anything you type is not displayed. Rather, it's taken as a command for Jupyter to follow. To enter command mode, click to the left of the cell or press ESC.\n",
    "\n",
    "### What commands can we use?\n",
    "\n",
    "- `c` -- copy the current cell\n",
    "- `x` -- cut the current cell\n",
    "- `v` -- paste the most recently copied/cut cell\n",
    "- `a` -- create a new, blank cell *above* the current one\n",
    "- `b` -- create a new, blank cell *below* the current one\n",
    "- `m` -- set the cell to be for Markdown-formatted text, which is turned into HTML (that's what I'm using now)\n",
    "- `y` -- set the cell to be for Python code\n",
    "\n",
    "When I'm done with a cell, I can press shift+ENTER. That will \"execute the cell:\n",
    "\n",
    "- If it contains Python code, the code will run\n",
    "- If it contains Markdown, the text will be formatted."
   ]
  },
  {
   "cell_type": "markdown",
   "metadata": {},
   "source": [
    "# Let's run some Python code!\n",
    "\n",
    "The first function (verb) we're going to learn is `print`. When you use the `print` function, you display something on the screen. \n",
    "\n",
    "- Functions are the verbs of a programming language. They do things.\n",
    "- In order to actually make the function run (\"execute\" or \"call\" the function), you need to use `()`. No parentheses? No execution of the function.\n",
    "- Inside of the parentheses, we put the values that we want to display on the screen. `print` knows how to do that with any kind of value you want.\n",
    "- In a Python cell, we can use `#` to start comments. Those start wherever the `#` is and go to the end of the line."
   ]
  },
  {
   "cell_type": "code",
   "execution_count": 1,
   "metadata": {},
   "outputs": [
    {
     "name": "stdout",
     "output_type": "stream",
     "text": [
      "Hello!\n"
     ]
    }
   ],
   "source": [
    "# here, I'm going to print the text 'Hello!'\n",
    "# I'm writing comments; Python ignores these completely.\n",
    "# If I want to print text, it must be in '' or \"\". Python doesn't care which you use, so long as you're consistent\n",
    "\n",
    "print('Hello!')"
   ]
  },
  {
   "cell_type": "code",
   "execution_count": 2,
   "metadata": {},
   "outputs": [
    {
     "name": "stdout",
     "output_type": "stream",
     "text": [
      "10\n"
     ]
    }
   ],
   "source": [
    "# I can also print numbers!\n",
    "\n",
    "print(10)"
   ]
  },
  {
   "cell_type": "code",
   "execution_count": 3,
   "metadata": {},
   "outputs": [
    {
     "name": "stdout",
     "output_type": "stream",
     "text": [
      "13\n"
     ]
    }
   ],
   "source": [
    "# I can even do some simple math calculations!\n",
    "\n",
    "print(10 + 3)   # print only sees the final value, after 10+3 has been evaluated. It doesn't know we asked to add things"
   ]
  },
  {
   "cell_type": "markdown",
   "metadata": {},
   "source": [
    "An \"expression\" is code that, when we run it, gives us a value back. We most often think of expressions as the result of a math operation, but it doesn't have to be that."
   ]
  },
  {
   "cell_type": "code",
   "execution_count": 4,
   "metadata": {},
   "outputs": [
    {
     "name": "stdout",
     "output_type": "stream",
     "text": [
      "abcdefgh\n"
     ]
    }
   ],
   "source": [
    "# can I use + on text?\n",
    "\n",
    "print('abcd' + 'efgh')"
   ]
  },
  {
   "cell_type": "code",
   "execution_count": 5,
   "metadata": {},
   "outputs": [
    {
     "name": "stdout",
     "output_type": "stream",
     "text": [
      "103\n"
     ]
    }
   ],
   "source": [
    "# what if I have digits in my text?\n",
    "\n",
    "print('10' + '3')"
   ]
  },
  {
   "cell_type": "markdown",
   "metadata": {},
   "source": [
    "The above worked because we gave Python two text strings, each in `''`. It combined the text using text rules, not number rules."
   ]
  },
  {
   "cell_type": "code",
   "execution_count": 6,
   "metadata": {},
   "outputs": [
    {
     "ename": "TypeError",
     "evalue": "unsupported operand type(s) for +: 'int' and 'str'",
     "output_type": "error",
     "traceback": [
      "\u001b[31m---------------------------------------------------------------------------\u001b[39m",
      "\u001b[31mTypeError\u001b[39m                                 Traceback (most recent call last)",
      "\u001b[36mCell\u001b[39m\u001b[36m \u001b[39m\u001b[32mIn[6]\u001b[39m\u001b[32m, line 3\u001b[39m\n\u001b[32m      1\u001b[39m \u001b[38;5;66;03m# what if we try to add text and a number together?\u001b[39;00m\n\u001b[32m----> \u001b[39m\u001b[32m3\u001b[39m \u001b[38;5;28mprint\u001b[39m(\u001b[32;43m10\u001b[39;49m\u001b[43m \u001b[49m\u001b[43m+\u001b[49m\u001b[43m \u001b[49m\u001b[33;43m'\u001b[39;49m\u001b[33;43m3\u001b[39;49m\u001b[33;43m'\u001b[39;49m)   \n\u001b[32m      5\u001b[39m \u001b[38;5;66;03m# (1) Python might treat both as text, and give us '103'\u001b[39;00m\n\u001b[32m      6\u001b[39m \u001b[38;5;66;03m# (2) Python might treat both as numbers, and give us 13\u001b[39;00m\n\u001b[32m      7\u001b[39m \u001b[38;5;66;03m# (3) Something else?\u001b[39;00m\n",
      "\u001b[31mTypeError\u001b[39m: unsupported operand type(s) for +: 'int' and 'str'"
     ]
    }
   ],
   "source": [
    "# what if we try to add text and a number together?\n",
    "\n",
    "print(10 + '3')   \n",
    "\n",
    "# (1) Python might treat both as text, and give us '103'\n",
    "# (2) Python might treat both as numbers, and give us 13\n",
    "# (3) Something else?"
   ]
  },
  {
   "cell_type": "markdown",
   "metadata": {},
   "source": [
    "# Values\n",
    "\n",
    "So far, we've seen that we use values (nouns) in Python. Each value has a different type:\n",
    "\n",
    "- Whole numbers, made just of digits, which are known as integer (`int`) in Python\n",
    "- Text, containing anything inside of `''` or `\"\"`, which are known as strings (`str`) in Python\n",
    "\n",
    "Right now, we can display any message we want... but it's kind of boring. Also, we have to repeat any value we want to use more than once. That's also a problem.\n",
    "\n",
    "A solution: Variables!"
   ]
  },
  {
   "cell_type": "markdown",
   "metadata": {},
   "source": [
    "# Variables\n",
    "\n",
    "If values in a programming language are nouns, then variables in a language are pronouns, referring to values.\n",
    "\n",
    "We can use a variable to store a value and then refer to it later on. This has a bunch of advantages:\n",
    "\n",
    "- We can refer to it, especially if it's big, with a short name\n",
    "- The name can be meaningful to us and to others, making it easier to understand/debug the program\n",
    "\n",
    "We can assign to a variable with the `=`, aka the \"assignment operator.\""
   ]
  },
  {
   "cell_type": "code",
   "execution_count": 7,
   "metadata": {},
   "outputs": [
    {
     "name": "stdout",
     "output_type": "stream",
     "text": [
      "30\n"
     ]
    }
   ],
   "source": [
    "x = 10   # this assigns the integer 10 to x\n",
    "y = 20   # this assigns the integer 20 to y\n",
    "\n",
    "# I can then use x and y instead of 10 and 20\n",
    "\n",
    "print(x + y)"
   ]
  },
  {
   "cell_type": "markdown",
   "metadata": {},
   "source": [
    "# Assignment\n",
    "\n",
    "When we want to give a value to a variable, we use `=`, the assignment operator.\n",
    "\n",
    "**THE `=` operator in Python is not in the slightest the same as the `=` in mathematics.**\n",
    "\n",
    "In Python, when we use `=`, we're really saying:\n",
    "\n",
    "- Get the value from the right side.\n",
    "- Assign that value to the variable on the left side of the `=`.\n",
    "\n",
    "If the variable on the left already exists, then it gets a new value.\n",
    "\n",
    "If the variable on the left doesn't yet exist, then the variable is created, and it gets the value we assigned."
   ]
  },
  {
   "cell_type": "code",
   "execution_count": 8,
   "metadata": {},
   "outputs": [],
   "source": [
    "total = x + y"
   ]
  },
  {
   "cell_type": "code",
   "execution_count": 9,
   "metadata": {},
   "outputs": [
    {
     "data": {
      "text/plain": [
       "30"
      ]
     },
     "execution_count": 9,
     "metadata": {},
     "output_type": "execute_result"
    }
   ],
   "source": [
    "total"
   ]
  },
  {
   "cell_type": "code",
   "execution_count": 10,
   "metadata": {},
   "outputs": [
    {
     "name": "stdout",
     "output_type": "stream",
     "text": [
      "Helloworld\n"
     ]
    }
   ],
   "source": [
    "x = 'Hello'\n",
    "y = 'world'\n",
    "\n",
    "sentence = x + y\n",
    "print(sentence)"
   ]
  },
  {
   "cell_type": "markdown",
   "metadata": {},
   "source": [
    "Computers do what you tell them to do, not what you want them to do!"
   ]
  },
  {
   "cell_type": "code",
   "execution_count": 11,
   "metadata": {},
   "outputs": [
    {
     "name": "stdout",
     "output_type": "stream",
     "text": [
      "Hello world\n"
     ]
    }
   ],
   "source": [
    "x = 'Hello'\n",
    "y = 'world'\n",
    "\n",
    "sentence = x + ' ' + y\n",
    "print(sentence)"
   ]
  },
  {
   "cell_type": "markdown",
   "metadata": {},
   "source": [
    "# Exercise:\n",
    "\n",
    "1. Assign numbers to variables `x` and `y`. Add them together with `+`, and assign the result to `total`. Now print `total`.\n",
    "2. Assign your name to a variable `name`. Print a nice greeting to yourself, along with the variable.\n",
    "\n",
    "I'm going to start a pulse check. When you're done with the exercise, mark a thumbs up.\n",
    "\n",
    "If you encounter problems, it's TOTALLY OK to message me in the Q&A."
   ]
  },
  {
   "cell_type": "code",
   "execution_count": 12,
   "metadata": {},
   "outputs": [
    {
     "name": "stdout",
     "output_type": "stream",
     "text": [
      "37\n"
     ]
    }
   ],
   "source": [
    "x = 15\n",
    "y = 22\n",
    "\n",
    "total = x + y\n",
    "print(total)"
   ]
  },
  {
   "cell_type": "code",
   "execution_count": 13,
   "metadata": {},
   "outputs": [
    {
     "data": {
      "text/plain": [
       "37"
      ]
     },
     "execution_count": 13,
     "metadata": {},
     "output_type": "execute_result"
    }
   ],
   "source": [
    "# in Jupyter, and *ONLY* in Jupyter, if the final line in a cell is a Python expression, you see the result without needing \"print\"\n",
    "\n",
    "total"
   ]
  },
  {
   "cell_type": "code",
   "execution_count": 14,
   "metadata": {},
   "outputs": [
    {
     "data": {
      "text/plain": [
       "42"
      ]
     },
     "execution_count": 14,
     "metadata": {},
     "output_type": "execute_result"
    }
   ],
   "source": [
    "total + 5"
   ]
  },
  {
   "cell_type": "code",
   "execution_count": 15,
   "metadata": {},
   "outputs": [
    {
     "data": {
      "text/plain": [
       "27"
      ]
     },
     "execution_count": 15,
     "metadata": {},
     "output_type": "execute_result"
    }
   ],
   "source": [
    "total - 10"
   ]
  },
  {
   "cell_type": "code",
   "execution_count": 17,
   "metadata": {},
   "outputs": [
    {
     "name": "stdout",
     "output_type": "stream",
     "text": [
      "Hello, Reuven.\n"
     ]
    }
   ],
   "source": [
    "name = 'Reuven'\n",
    "print('Hello, ' + name + '.')"
   ]
  },
  {
   "cell_type": "markdown",
   "metadata": {},
   "source": [
    "# Variable names\n",
    "\n",
    "Python doesn't care at all what you name your variables. But you should consider the following:\n",
    "\n",
    "- Capitalization counts! Python is a \"case sensitive\" language, meaning that the variable `x` and the variable `X` are totally different.\n",
    "- With rare exception, everything in Python is `snake_case`, with all lowercase letters and `_` between any words we might have\n",
    "- You can use `_` along with letters and digits\n",
    "- A variable name cannot start with a digit\n",
    "- You shouldn't start or end a variable name with `_`, because that is for special Python purposes.\n",
    "\n",
    "Remember that you (now) or you (in the future) or your colleagues will be trying to understand your program, and good variable names are a major part of that."
   ]
  },
  {
   "cell_type": "markdown",
   "metadata": {},
   "source": [
    "# Next up\n",
    "\n",
    "- Get input from the user with `input`\n",
    "- Comparison operators to compare values\n",
    "- Conditional code with `if`\n",
    "  "
   ]
  },
  {
   "cell_type": "markdown",
   "metadata": {},
   "source": [
    "# Getting input from the user\n",
    "\n",
    "If we want to get input from the user, and thus have different values each time in our program, we can use the `input` function.\n",
    "\n",
    "When we call `input`:\n",
    "\n",
    "- Inside of the `()`, we put text, what we want to be displayed in order for the user to answer a question or generally provide text.\n",
    "- The return value from `input` -- the value we get back when we invoke it -- is a text string!\n",
    "- Normally, most of the time, `input` will be put on the right side of `=`, the assignment operator, and on the left side, we'll have a variable."
   ]
  },
  {
   "cell_type": "code",
   "execution_count": 20,
   "metadata": {},
   "outputs": [
    {
     "name": "stdin",
     "output_type": "stream",
     "text": [
      "Enter your name:  someone else\n"
     ]
    }
   ],
   "source": [
    "# (1) input runs, displaying our prompt, and waiting for us to answer\n",
    "# (2) when we type something and press ENTER, whatever we typed is turned into a text string and returned by input\n",
    "# (3) that value is assigned to the variable on the left, \"name\"\n",
    "\n",
    "name = input('Enter your name: ')"
   ]
  },
  {
   "cell_type": "code",
   "execution_count": 21,
   "metadata": {},
   "outputs": [
    {
     "name": "stdout",
     "output_type": "stream",
     "text": [
      "Hello, someone else\n"
     ]
    }
   ],
   "source": [
    "print('Hello, ' + name)"
   ]
  },
  {
   "cell_type": "markdown",
   "metadata": {},
   "source": [
    "Remember that what we get from `input` is *always* a text string, even if it only contains digits!\n",
    "\n",
    "If and when we want to get values of other types, we'll need to convert them in order to use them."
   ]
  },
  {
   "cell_type": "markdown",
   "metadata": {},
   "source": [
    "# Comparison operators\n",
    "\n",
    "So far, the only operator (symbol) we've used is `+`, to add two things together:\n",
    "\n",
    "- When we use `+` with two numbers, we get a new number back\n",
    "- When we use `+` with two text strings, we get a new text string back\n",
    "\n",
    "But there are other operators, *comparison* operators, that are not going to give us a new value. Rather, they're going to return either `True` or `False` (and yes, these are capitalized in Python). This `True` or `False` will tell us whether the relationship we're asking about between the values is accurate.\n",
    "\n",
    "The most commonly used comparison operator is `==`, which asks the question: Are the two values equal?\n",
    "\n"
   ]
  },
  {
   "cell_type": "code",
   "execution_count": 22,
   "metadata": {},
   "outputs": [
    {
     "data": {
      "text/plain": [
       "True"
      ]
     },
     "execution_count": 22,
     "metadata": {},
     "output_type": "execute_result"
    }
   ],
   "source": [
    "x = 10\n",
    "y = 10\n",
    "\n",
    "x == y"
   ]
  },
  {
   "cell_type": "code",
   "execution_count": 23,
   "metadata": {},
   "outputs": [
    {
     "data": {
      "text/plain": [
       "False"
      ]
     },
     "execution_count": 23,
     "metadata": {},
     "output_type": "execute_result"
    }
   ],
   "source": [
    "x = 10\n",
    "y = '10'  # text string '10'\n",
    "\n",
    "x == y"
   ]
  },
  {
   "cell_type": "markdown",
   "metadata": {},
   "source": [
    " # Comparison operators\n",
    "\n",
    " - `==` -- are the values equal?\n",
    " - `!=` -- are the values unequal?\n",
    " - `<` -- is the left side smaller than the right side?\n",
    " - `<=` -- is the left side smaller or equal to the right side?\n",
    " - `>` -- is the left side greater than the right side?\n",
    " - `>=` -- is the left side greater than or equal to the right side?"
   ]
  },
  {
   "cell_type": "code",
   "execution_count": 24,
   "metadata": {},
   "outputs": [
    {
     "data": {
      "text/plain": [
       "False"
      ]
     },
     "execution_count": 24,
     "metadata": {},
     "output_type": "execute_result"
    }
   ],
   "source": [
    "10 < 5"
   ]
  },
  {
   "cell_type": "code",
   "execution_count": 25,
   "metadata": {},
   "outputs": [
    {
     "data": {
      "text/plain": [
       "True"
      ]
     },
     "execution_count": 25,
     "metadata": {},
     "output_type": "execute_result"
    }
   ],
   "source": [
    "5 < 10"
   ]
  },
  {
   "cell_type": "code",
   "execution_count": 27,
   "metadata": {
    "jupyter": {
     "source_hidden": true
    }
   },
   "outputs": [
    {
     "data": {
      "text/plain": [
       "True"
      ]
     },
     "execution_count": 27,
     "metadata": {},
     "output_type": "execute_result"
    }
   ],
   "source": [
    "# if we use text strings with comparison operators, Python compares them\n",
    "# much as we do dictionary words. It checks whether the 1st letter of \n",
    "# one word comes before the 1st letter of the second word. If so, we get \n",
    "# a value. If not, then it goes onto the second letter...\n",
    "\n",
    "'abcd' < 'efgh'"
   ]
  },
  {
   "cell_type": "code",
   "execution_count": 30,
   "metadata": {},
   "outputs": [
    {
     "data": {
      "text/plain": [
       "True"
      ]
     },
     "execution_count": 30,
     "metadata": {},
     "output_type": "execute_result"
    }
   ],
   "source": [
    "'eat' < 'eats'     #if one word is a subset of the other (from the start), then the shorter one comes earlier"
   ]
  },
  {
   "cell_type": "code",
   "execution_count": 28,
   "metadata": {},
   "outputs": [
    {
     "ename": "TypeError",
     "evalue": "'<' not supported between instances of 'int' and 'str'",
     "output_type": "error",
     "traceback": [
      "\u001b[31m---------------------------------------------------------------------------\u001b[39m",
      "\u001b[31mTypeError\u001b[39m                                 Traceback (most recent call last)",
      "\u001b[36mCell\u001b[39m\u001b[36m \u001b[39m\u001b[32mIn[28]\u001b[39m\u001b[32m, line 1\u001b[39m\n\u001b[32m----> \u001b[39m\u001b[32m1\u001b[39m \u001b[32;43m10\u001b[39;49m\u001b[43m \u001b[49m\u001b[43m<\u001b[49m\u001b[43m \u001b[49m\u001b[33;43m'\u001b[39;49m\u001b[33;43m123\u001b[39;49m\u001b[33;43m'\u001b[39;49m\n",
      "\u001b[31mTypeError\u001b[39m: '<' not supported between instances of 'int' and 'str'"
     ]
    }
   ],
   "source": [
    "10 < '123'"
   ]
  },
  {
   "cell_type": "markdown",
   "metadata": {},
   "source": [
    "# Conditional execution\n",
    "\n",
    "Until now, when we wrote some code, we wanted *all* of it to execute. However, we often only want some code to execute, based on some condition. We can do that with the `if` statement.\n",
    "\n",
    "- `if` looks to its right, and tries to find a `True` or `False` value, usually with a comparison operator.\n",
    "- If the value is `True`, then the `if` statement's block runs.\n",
    "- If the value is `False`, and if there is an `else` block, then that block runs.\n",
    "\n",
    "In this situation, only one of the blocks runs. One and only one runs -- cannot be zero, and cannot be 2!"
   ]
  },
  {
   "cell_type": "code",
   "execution_count": 32,
   "metadata": {},
   "outputs": [
    {
     "name": "stdin",
     "output_type": "stream",
     "text": [
      "Enter your name:  someone else\n"
     ]
    },
    {
     "name": "stdout",
     "output_type": "stream",
     "text": [
      "Hello, someone else.\n"
     ]
    }
   ],
   "source": [
    "name = input('Enter your name: ')\n",
    "\n",
    "if name == 'Reuven':\n",
    "    print('Hi, boss!')\n",
    "    print('It is great to see you!')\n",
    "else:\n",
    "    print('Hello, ' + name + '.')"
   ]
  },
  {
   "cell_type": "markdown",
   "metadata": {},
   "source": [
    "# About the above code:\n",
    "\n",
    "- `if` always starts a line, and it looks to its right for `True` or `False`.\n",
    "- At the end of the line, we have `:`\n",
    "- That `:` means: We're about to start an indented block.\n",
    "- The indentation is PART OF PYTHON'S SYNTAX!\n",
    "- Indentation usually means 4 spaces per level -- but if you're counting spaces, you're doing it wrong!\n",
    "- To end a block, just backspace to the earlier level\n",
    "- What can go in an `if` block? Absolutely , positively, anything at all.\n",
    "- The `else` doesn't have a condition, because it just runs if `if` did not.\n",
    "- `else` is optional, but often a good idea.\n",
    "- It doesn't have a condition, because it runs if `if` didn't run.\n",
    "- It also has a block.\n",
    "- Blocks can be as long (or as short) as you want."
   ]
  },
  {
   "cell_type": "markdown",
   "metadata": {},
   "source": [
    "# Exercise: Which word comes first?\n",
    "\n",
    "1. Ask the user to enter a word, and assign to `first`.\n",
    "2. Ask the user to enter a second word, and assign to `second`.\n",
    "3. We can assume that the words are all lowercase and different.\n",
    "4. Tell the user which word comes first alphabetically.\n",
    "\n",
    "Example:\n",
    "\n",
    "    Enter first word: chicken\n",
    "    Enter second word: egg\n",
    "    chicken comes before egg\n",
    "\n",
    "    Enter first word: egg\n",
    "    Enter second word: chicken\n",
    "    chicken comes before egg   "
   ]
  },
  {
   "cell_type": "code",
   "execution_count": 36,
   "metadata": {},
   "outputs": [
    {
     "name": "stdin",
     "output_type": "stream",
     "text": [
      "Enter first word:  cart\n",
      "Enter second word:  horse\n"
     ]
    },
    {
     "name": "stdout",
     "output_type": "stream",
     "text": [
      "cart comes before horse.\n"
     ]
    }
   ],
   "source": [
    "first = input('Enter first word: ')\n",
    "second = input('Enter second word: ')\n",
    "\n",
    "if first < second:\n",
    "    print(first + ' comes before ' + second + '.')\n",
    "else:\n",
    "    print(second + ' comes before ' + first + '.')"
   ]
  },
  {
   "cell_type": "code",
   "execution_count": 37,
   "metadata": {},
   "outputs": [
    {
     "data": {
      "text/plain": [
       "True"
      ]
     },
     "execution_count": 37,
     "metadata": {},
     "output_type": "execute_result"
    }
   ],
   "source": [
    "x = 'abcd'\n",
    "y = 'efgh'\n",
    "\n",
    "x < y  \n",
    "\n",
    "# 1. Python compares the first letter of each text string, 'a' and 'e'. Are they different? Which comes first?\n",
    "# 2. If they are the same, then we check the second letter, third letter, etc., until we find a difference and who comes first"
   ]
  },
  {
   "cell_type": "markdown",
   "metadata": {},
   "source": [
    "# Printing things\n",
    "\n",
    "So far, we've been using `print` to display things (which is good) and we've been displaying a lot of text strings. It's kind of annoying that we have to use `+` to patch together what we want to write on the screen. \n",
    "\n",
    "Enter f-strings (\"format strings\")! These allow us to write text in a more normal, natural way than would otherwise be the case.\n",
    "\n",
    "How f-strings do things:\n",
    "\n",
    "- An `f` before the opening quote\n",
    "- Inside of the string, everything is normal as per usual *except* that you can have `{}`, and those are treated specially\n",
    "- Inside of `{}`, Python treats what you wrote as a Python expression (e.g., a variable), not to be displayed literally\n",
    "- Moreover, it converts all of the values to text strings, so you can have numeric values in there, as well!"
   ]
  },
  {
   "cell_type": "code",
   "execution_count": 38,
   "metadata": {},
   "outputs": [
    {
     "name": "stdin",
     "output_type": "stream",
     "text": [
      "Enter first word:  chicken\n",
      "Enter second word:  egg\n"
     ]
    },
    {
     "name": "stdout",
     "output_type": "stream",
     "text": [
      "chicken comes before egg.\n"
     ]
    }
   ],
   "source": [
    "first = input('Enter first word: ')\n",
    "second = input('Enter second word: ')\n",
    "\n",
    "if first < second:\n",
    "    print(f'{first} comes before {second}.')\n",
    "else:\n",
    "    print(f'{second} comes before {first}.')"
   ]
  },
  {
   "cell_type": "markdown",
   "metadata": {},
   "source": [
    "# Complex conditions\n",
    "\n",
    "What if we have more than two options? We can have additional clauses that start with `elif`:\n",
    "\n",
    "- `elif` comes after `if`, and also has a condition to its right\n",
    "- It works the same as `if`, but you can have as many `elif` clauses as you want\n",
    "- The first one for which the condition is `True` fires its block, and no one else does.\n",
    "- You can, of course, still have an `else` condition. It'll fire if none of the `if` or `elif` conditions did."
   ]
  },
  {
   "cell_type": "code",
   "execution_count": 41,
   "metadata": {},
   "outputs": [
    {
     "name": "stdin",
     "output_type": "stream",
     "text": [
      "Enter your name:  whatever\n"
     ]
    },
    {
     "name": "stdout",
     "output_type": "stream",
     "text": [
      "Hello whatever.\n"
     ]
    }
   ],
   "source": [
    "name = input('Enter your name: ')\n",
    "\n",
    "if name == 'Reuven':\n",
    "    print('Hi, boss!')\n",
    "    print('It is great to see you!')\n",
    "elif name == 'someone else':\n",
    "    print(f'Is that really your name, {name}?')\n",
    "else:\n",
    "    print(f'Hello {name}.')"
   ]
  },
  {
   "cell_type": "code",
   "execution_count": 43,
   "metadata": {},
   "outputs": [
    {
     "name": "stdout",
     "output_type": "stream",
     "text": [
      "Greater than 30\n"
     ]
    }
   ],
   "source": [
    "# the first one that has a True condition is the one that fires\n",
    "\n",
    "x = 35\n",
    "\n",
    "if x > 60:\n",
    "    print('Greater than 60')\n",
    "elif x > 50:\n",
    "    print('Greater than 50')\n",
    "elif x > 40:\n",
    "    print('Greater than 40')\n",
    "elif x > 30:\n",
    "    print('Greater than 30')\n",
    "elif x > 20:\n",
    "    print('Greater than 20')\n",
    "elif x > 10:\n",
    "    print('Greater than 10')\n",
    "else:\n",
    "    print('No match.')"
   ]
  },
  {
   "cell_type": "code",
   "execution_count": 44,
   "metadata": {},
   "outputs": [
    {
     "name": "stdout",
     "output_type": "stream",
     "text": [
      "Greater than 10\n"
     ]
    }
   ],
   "source": [
    "# flip this logic...\n",
    "\n",
    "x = 35\n",
    "\n",
    "if x > 10:\n",
    "    print('Greater than 10')\n",
    "elif x > 20:\n",
    "    print('Greater than 20')\n",
    "elif x > 30:\n",
    "    print('Greater than 30')\n",
    "elif x > 40:\n",
    "    print('Greater than 40')\n",
    "elif x > 50:\n",
    "    print('Greater than 50')\n",
    "elif x > 60:\n",
    "    print('Greater than 60')\n",
    "else:\n",
    "    print('No match.')"
   ]
  },
  {
   "cell_type": "markdown",
   "metadata": {},
   "source": [
    "# Exercise: Which word comes first (2nd edition)\n",
    "\n",
    "Repeat the previous exercise, but now we are willing to get the same word twice. Indicate which word comes first alphabetically, or that they are the same word."
   ]
  },
  {
   "cell_type": "code",
   "execution_count": 46,
   "metadata": {},
   "outputs": [
    {
     "name": "stdin",
     "output_type": "stream",
     "text": [
      "Enter first word:  hello\n",
      "Enter second word:  hello\n"
     ]
    },
    {
     "name": "stdout",
     "output_type": "stream",
     "text": [
      "hello and hello are the same.\n"
     ]
    }
   ],
   "source": [
    "first = input('Enter first word: ')\n",
    "second = input('Enter second word: ')\n",
    "\n",
    "if first < second:\n",
    "    print(f'{first} comes before {second}.')\n",
    "elif second < first:\n",
    "    print(f'{second} comes before {first}.')\n",
    "else:\n",
    "    print(f'{first} and {second} are the same.')"
   ]
  },
  {
   "cell_type": "code",
   "execution_count": null,
   "metadata": {},
   "outputs": [],
   "source": [
    "first = input('Enter first word: ')\n",
    "second = input('Enter second word: ')\n",
    "\n",
    "if first < second:\n",
    "    print(f'{first} comes before {second}.')\n",
    "elif first == second:\n",
    "    print(f'{first} and {second} are the same.')\n",
    "else:\n",
    "    print(f'{second} comes before {first}.')"
   ]
  },
  {
   "cell_type": "markdown",
   "metadata": {},
   "source": [
    "# Next up\n",
    "\n",
    "1. More advanced conditions with `and`, `or`, and a little `not`\n",
    "2. Data structures -- starting with `int` and `float`"
   ]
  },
  {
   "cell_type": "markdown",
   "metadata": {},
   "source": [
    "What if I want to know if *two* things are both `True`, and then act if they are?\n",
    "\n",
    "1. We can have an `if` and inside of its block, have another `if`.\n",
    "2. Better, we can use `and`\n",
    "\n",
    "`and` expects to see two expressions, one on its left and the other on its right. If both of those expressions have `True` values, then we'll get `True` from `and`. Otherwise, we get `False`.\n",
    "\n",
    "In other words, `and` returns `True` if the items on its left and right both return `True`.\n",
    "\n",
    "Similarly, we have `or`, which looks to its left and right -- but it returns `True` if one of those conditions is `True`. It doesn't demand that both be `True`."
   ]
  },
  {
   "cell_type": "code",
   "execution_count": 47,
   "metadata": {},
   "outputs": [
    {
     "data": {
      "text/plain": [
       "True"
      ]
     },
     "execution_count": 47,
     "metadata": {},
     "output_type": "execute_result"
    }
   ],
   "source": [
    "x = 10\n",
    "y = 20\n",
    "\n",
    "#   True   and     True --> True\n",
    "x == 10    and    y == 20   "
   ]
  },
  {
   "cell_type": "code",
   "execution_count": 48,
   "metadata": {},
   "outputs": [
    {
     "name": "stdout",
     "output_type": "stream",
     "text": [
      "Yes, both are what you want!\n"
     ]
    }
   ],
   "source": [
    "if x == 10    and    y == 20:\n",
    "    print('Yes, both are what you want!')"
   ]
  },
  {
   "cell_type": "code",
   "execution_count": 49,
   "metadata": {},
   "outputs": [
    {
     "data": {
      "text/plain": [
       "False"
      ]
     },
     "execution_count": 49,
     "metadata": {},
     "output_type": "execute_result"
    }
   ],
   "source": [
    "x = 10\n",
    "y = 999\n",
    "\n",
    "#   True  and    False -> False\n",
    "x == 10    and    y == 20   "
   ]
  },
  {
   "cell_type": "code",
   "execution_count": 51,
   "metadata": {},
   "outputs": [
    {
     "name": "stdout",
     "output_type": "stream",
     "text": [
      "At least one is not what you want!\n"
     ]
    }
   ],
   "source": [
    "if x == 10    and    y == 20:\n",
    "    print('Yes, both are what you want!')\n",
    "else:\n",
    "    print('At least one is not what you want!')"
   ]
  },
  {
   "cell_type": "markdown",
   "metadata": {},
   "source": [
    "# Exercise: Name and company\n",
    "\n",
    "1. Ask the user to enter their name, and assign to `name`.\n",
    "2. Ask the user to enter their company, and assign to `company`.\n",
    "3. Give one of four responses:\n",
    "    - You must be me (if both match)\n",
    "    - Great name, terrible company (if the name matches, but the company doesn't)\n",
    "    - Hello, colleague! (if the name doesn't match, but the company does)\n",
    "    - Your name and company are both bad (if neither matches)"
   ]
  },
  {
   "cell_type": "code",
   "execution_count": 54,
   "metadata": {},
   "outputs": [
    {
     "name": "stdin",
     "output_type": "stream",
     "text": [
      "Enter your name:  asdfsafaf\n",
      "Enter your company:  l;jkkl;jkl;jl;j\n"
     ]
    },
    {
     "name": "stdout",
     "output_type": "stream",
     "text": [
      "Hello, asdfsafaf from bad company l;jkkl;jkl;jl;j!\n"
     ]
    }
   ],
   "source": [
    "my_name = 'Reuven'\n",
    "my_company = 'Lerner'\n",
    "\n",
    "name = input('Enter your name: ')\n",
    "company = input('Enter your company: ')\n",
    "\n",
    "if name == my_name and company == my_company:\n",
    "    print('You must be me!')\n",
    "elif name == my_name:\n",
    "    print(f'Great name, bad company!')\n",
    "elif company == my_company:\n",
    "    print('Hello, my colleague!')\n",
    "else:\n",
    "    print(f'Hello, {name} from bad company {company}!')"
   ]
  },
  {
   "cell_type": "markdown",
   "metadata": {},
   "source": [
    "# A few words about `not`\n",
    "\n",
    "If we want to flip the logic on something that returns `True`/`False`, we can put `not` in front of it. That flips the logic.\n",
    "\n",
    "Most of the time, we don't need to use `not`, because we can use such things as `!=`. But it can be useful, and we should know about it."
   ]
  },
  {
   "cell_type": "code",
   "execution_count": 55,
   "metadata": {},
   "outputs": [
    {
     "name": "stdout",
     "output_type": "stream",
     "text": [
      "Good news! x is not 20!\n"
     ]
    }
   ],
   "source": [
    "x = 10\n",
    "\n",
    "if not x == 20:\n",
    "    print('Good news! x is not 20!')"
   ]
  },
  {
   "cell_type": "markdown",
   "metadata": {},
   "source": [
    "# Data structures\n",
    "\n",
    "While the computer uses only 1s and 0s, we can think at a higher level, collecting them into larger nouns, data structures. Each data structure is designed to handle a particular type of data and to solve particular problems. Using the wrong one will usually end up wasting computation time, memory, or both -- if it even works.\n",
    "\n",
    "We're now going to walk throught the main, builtin data structures that Python comes with. This will take through week #3 of the course!\n",
    "\n",
    "The best Python coders out there are really, intimately familiar with these data structures and how to use them."
   ]
  },
  {
   "cell_type": "markdown",
   "metadata": {},
   "source": [
    "# Numbers\n",
    "\n",
    "Python has two types of numbers, `int` (whole numbers) and `float` (for numbers with a decimal point).\n",
    "\n",
    "We've seen that if we have a value that's just made of digits, we have an integer.\n",
    "\n"
   ]
  },
  {
   "cell_type": "code",
   "execution_count": 56,
   "metadata": {},
   "outputs": [],
   "source": [
    "x = 10\n",
    "y = 3"
   ]
  },
  {
   "cell_type": "code",
   "execution_count": 57,
   "metadata": {},
   "outputs": [
    {
     "data": {
      "text/plain": [
       "int"
      ]
     },
     "execution_count": 57,
     "metadata": {},
     "output_type": "execute_result"
    }
   ],
   "source": [
    "type(x)   # we can use the \"type\" function to find out what kind of value is in a variable (or even a value)"
   ]
  },
  {
   "cell_type": "code",
   "execution_count": 58,
   "metadata": {},
   "outputs": [
    {
     "data": {
      "text/plain": [
       "int"
      ]
     },
     "execution_count": 58,
     "metadata": {},
     "output_type": "execute_result"
    }
   ],
   "source": [
    "type(10)"
   ]
  },
  {
   "cell_type": "code",
   "execution_count": 59,
   "metadata": {},
   "outputs": [
    {
     "data": {
      "text/plain": [
       "13"
      ]
     },
     "execution_count": 59,
     "metadata": {},
     "output_type": "execute_result"
    }
   ],
   "source": [
    "# operators we can use with our integers\n",
    "\n",
    "x + y"
   ]
  },
  {
   "cell_type": "code",
   "execution_count": 60,
   "metadata": {},
   "outputs": [
    {
     "data": {
      "text/plain": [
       "7"
      ]
     },
     "execution_count": 60,
     "metadata": {},
     "output_type": "execute_result"
    }
   ],
   "source": [
    "x - y   # subtraction"
   ]
  },
  {
   "cell_type": "code",
   "execution_count": 61,
   "metadata": {},
   "outputs": [
    {
     "data": {
      "text/plain": [
       "30"
      ]
     },
     "execution_count": 61,
     "metadata": {},
     "output_type": "execute_result"
    }
   ],
   "source": [
    "x * y  # multiplication"
   ]
  },
  {
   "cell_type": "code",
   "execution_count": 62,
   "metadata": {},
   "outputs": [
    {
     "data": {
      "text/plain": [
       "3.3333333333333335"
      ]
     },
     "execution_count": 62,
     "metadata": {},
     "output_type": "execute_result"
    }
   ],
   "source": [
    "x / y  # division -- truediv, gives us a float back"
   ]
  },
  {
   "cell_type": "code",
   "execution_count": 63,
   "metadata": {},
   "outputs": [
    {
     "data": {
      "text/plain": [
       "3"
      ]
     },
     "execution_count": 63,
     "metadata": {},
     "output_type": "execute_result"
    }
   ],
   "source": [
    "x // y  # floordiv -- gives us an integer value, removing (not rounding!) any fractional part"
   ]
  },
  {
   "cell_type": "code",
   "execution_count": 64,
   "metadata": {},
   "outputs": [
    {
     "data": {
      "text/plain": [
       "1000"
      ]
     },
     "execution_count": 64,
     "metadata": {},
     "output_type": "execute_result"
    }
   ],
   "source": [
    "x ** y   # exponentiation"
   ]
  },
  {
   "cell_type": "code",
   "execution_count": 65,
   "metadata": {},
   "outputs": [
    {
     "data": {
      "text/plain": [
       "1"
      ]
     },
     "execution_count": 65,
     "metadata": {},
     "output_type": "execute_result"
    }
   ],
   "source": [
    "x % y  # modulo -- give the remainder after integer division"
   ]
  },
  {
   "cell_type": "code",
   "execution_count": 66,
   "metadata": {},
   "outputs": [
    {
     "data": {
      "text/plain": [
       "11"
      ]
     },
     "execution_count": 66,
     "metadata": {},
     "output_type": "execute_result"
    }
   ],
   "source": [
    "# what if I want to add 1 to a variable's value?\n",
    "\n",
    "x = 10\n",
    "x = x + 1   \n",
    "\n",
    "x"
   ]
  },
  {
   "cell_type": "code",
   "execution_count": 67,
   "metadata": {},
   "outputs": [
    {
     "data": {
      "text/plain": [
       "11"
      ]
     },
     "execution_count": 67,
     "metadata": {},
     "output_type": "execute_result"
    }
   ],
   "source": [
    "# I can also say\n",
    "\n",
    "x = 10\n",
    "x += 1   # this is basically the same as x = x + 1\n",
    "x"
   ]
  },
  {
   "cell_type": "code",
   "execution_count": 68,
   "metadata": {},
   "outputs": [
    {
     "ename": "TypeError",
     "evalue": "unsupported operand type(s) for +: 'int' and 'str'",
     "output_type": "error",
     "traceback": [
      "\u001b[31m---------------------------------------------------------------------------\u001b[39m",
      "\u001b[31mTypeError\u001b[39m                                 Traceback (most recent call last)",
      "\u001b[36mCell\u001b[39m\u001b[36m \u001b[39m\u001b[32mIn[68]\u001b[39m\u001b[32m, line 6\u001b[39m\n\u001b[32m      3\u001b[39m x = \u001b[32m10\u001b[39m\n\u001b[32m      4\u001b[39m y = \u001b[33m'\u001b[39m\u001b[33m20\u001b[39m\u001b[33m'\u001b[39m\n\u001b[32m----> \u001b[39m\u001b[32m6\u001b[39m \u001b[43mx\u001b[49m\u001b[43m \u001b[49m\u001b[43m+\u001b[49m\u001b[43m \u001b[49m\u001b[43my\u001b[49m\n",
      "\u001b[31mTypeError\u001b[39m: unsupported operand type(s) for +: 'int' and 'str'"
     ]
    }
   ],
   "source": [
    "# What if I have a string, and I want to turn it into an integer?\n",
    "\n",
    "x = 10\n",
    "y = '20'\n",
    "\n",
    "x + y"
   ]
  },
  {
   "cell_type": "markdown",
   "metadata": {},
   "source": [
    "In general in Python, if I have a value and want to get a new value of type T back, I can say `T(value)`, and I get a new value back of the right type (if it's possible). This doesn't replace or change the existing value! But it odes return what we need."
   ]
  },
  {
   "cell_type": "code",
   "execution_count": 69,
   "metadata": {},
   "outputs": [
    {
     "data": {
      "text/plain": [
       "30"
      ]
     },
     "execution_count": 69,
     "metadata": {},
     "output_type": "execute_result"
    }
   ],
   "source": [
    "x + int(y)   # add x and the new int based on '20'"
   ]
  },
  {
   "cell_type": "code",
   "execution_count": 70,
   "metadata": {},
   "outputs": [
    {
     "data": {
      "text/plain": [
       "30"
      ]
     },
     "execution_count": 70,
     "metadata": {},
     "output_type": "execute_result"
    }
   ],
   "source": [
    "# I can even do this:\n",
    "\n",
    "y = int(y)  # get an integer from y, then assign it back to y\n",
    "\n",
    "x + y       # now y really does contain an integer"
   ]
  },
  {
   "cell_type": "markdown",
   "metadata": {},
   "source": [
    "# Exercise: Guessing game!\n",
    "\n",
    "1. Assign a number between 0-100 to `secret`. This is the number that the user will try to guess.\n",
    "2. Ask the user to enter a guess, and assign to `guess`.\n",
    "3. If it's right, say 'You got it!'\n",
    "4. If it's too low, say \"Too low!\"\n",
    "5. If it's too high, say \"Too high!\"\n",
    "6. The user only gets a single shot at guessing!"
   ]
  },
  {
   "cell_type": "code",
   "execution_count": 77,
   "metadata": {},
   "outputs": [
    {
     "name": "stdin",
     "output_type": "stream",
     "text": [
      "Guess the number:  hello\n"
     ]
    },
    {
     "ename": "ValueError",
     "evalue": "invalid literal for int() with base 10: 'hello'",
     "output_type": "error",
     "traceback": [
      "\u001b[31m---------------------------------------------------------------------------\u001b[39m",
      "\u001b[31mValueError\u001b[39m                                Traceback (most recent call last)",
      "\u001b[36mCell\u001b[39m\u001b[36m \u001b[39m\u001b[32mIn[77]\u001b[39m\u001b[32m, line 4\u001b[39m\n\u001b[32m      1\u001b[39m secret = \u001b[32m72\u001b[39m\n\u001b[32m      3\u001b[39m guess = \u001b[38;5;28minput\u001b[39m(\u001b[33m'\u001b[39m\u001b[33mGuess the number: \u001b[39m\u001b[33m'\u001b[39m)\n\u001b[32m----> \u001b[39m\u001b[32m4\u001b[39m guess = \u001b[38;5;28;43mint\u001b[39;49m\u001b[43m(\u001b[49m\u001b[43mguess\u001b[49m\u001b[43m)\u001b[49m  \u001b[38;5;66;03m# get an integer back from the user's textual input\u001b[39;00m\n\u001b[32m      6\u001b[39m \u001b[38;5;28;01mif\u001b[39;00m guess == secret:\n\u001b[32m      7\u001b[39m     \u001b[38;5;28mprint\u001b[39m(\u001b[33m'\u001b[39m\u001b[33mYou got it!\u001b[39m\u001b[33m'\u001b[39m)\n",
      "\u001b[31mValueError\u001b[39m: invalid literal for int() with base 10: 'hello'"
     ]
    }
   ],
   "source": [
    "secret = 72\n",
    "\n",
    "guess = input('Guess the number: ')\n",
    "guess = int(guess)  # get an integer back from the user's textual input\n",
    "\n",
    "if guess == secret:\n",
    "    print('You got it!')\n",
    "elif guess < secret:\n",
    "    print('Too low!')\n",
    "else:\n",
    "    print('Too high!')"
   ]
  },
  {
   "cell_type": "code",
   "execution_count": 72,
   "metadata": {},
   "outputs": [
    {
     "data": {
      "text/plain": [
       "False"
      ]
     },
     "execution_count": 72,
     "metadata": {},
     "output_type": "execute_result"
    }
   ],
   "source": [
    "secret == guess"
   ]
  },
  {
   "cell_type": "code",
   "execution_count": 73,
   "metadata": {
    "scrolled": true
   },
   "outputs": [
    {
     "ename": "TypeError",
     "evalue": "'<' not supported between instances of 'int' and 'str'",
     "output_type": "error",
     "traceback": [
      "\u001b[31m---------------------------------------------------------------------------\u001b[39m",
      "\u001b[31mTypeError\u001b[39m                                 Traceback (most recent call last)",
      "\u001b[36mCell\u001b[39m\u001b[36m \u001b[39m\u001b[32mIn[73]\u001b[39m\u001b[32m, line 1\u001b[39m\n\u001b[32m----> \u001b[39m\u001b[32m1\u001b[39m \u001b[43msecret\u001b[49m\u001b[43m \u001b[49m\u001b[43m<\u001b[49m\u001b[43m \u001b[49m\u001b[43mguess\u001b[49m\n",
      "\u001b[31mTypeError\u001b[39m: '<' not supported between instances of 'int' and 'str'"
     ]
    }
   ],
   "source": [
    "secret < guess"
   ]
  },
  {
   "cell_type": "markdown",
   "metadata": {},
   "source": [
    "# Floats\n",
    "\n",
    "Floating-point numbers have a decimal point and some digits after the decimal point. We can use them in calculations along with integers; the int is turned into a float (by invoking `float`) and then the two are the same type.\n",
    "\n",
    "In your computer's hardware, in the chips/CPUs running your computer, there are separate pieces of the CPU for dealing with integer math and floating-point math. Integer math is much faster. "
   ]
  },
  {
   "cell_type": "markdown",
   "metadata": {},
   "source": [
    "# Strings \n",
    "\n",
    "In Python, all text is handled with strings -- no matter how short or how long.\n",
    "\n",
    "We create a string (as we've seen) with either `''` or `\"\"`.\n",
    "\n",
    "If your string contains a `'`, then you can use `\"\"` on the outside *or* use `\\'` inside of the string, which \"escapes\" the quote and makes it text, rather than the string delimiter."
   ]
  },
  {
   "cell_type": "code",
   "execution_count": 78,
   "metadata": {},
   "outputs": [
    {
     "data": {
      "text/plain": [
       "\"He's coming for dinner\""
      ]
     },
     "execution_count": 78,
     "metadata": {},
     "output_type": "execute_result"
    }
   ],
   "source": [
    "s = 'He\\'s coming for dinner'  # escaped quote in a string\n",
    "s"
   ]
  },
  {
   "cell_type": "code",
   "execution_count": 79,
   "metadata": {},
   "outputs": [
    {
     "ename": "SyntaxError",
     "evalue": "unterminated string literal (detected at line 3) (1622135060.py, line 3)",
     "output_type": "error",
     "traceback": [
      "  \u001b[36mCell\u001b[39m\u001b[36m \u001b[39m\u001b[32mIn[79]\u001b[39m\u001b[32m, line 3\u001b[39m\n\u001b[31m    \u001b[39m\u001b[31ms = 'abcdef\u001b[39m\n        ^\n\u001b[31mSyntaxError\u001b[39m\u001b[31m:\u001b[39m unterminated string literal (detected at line 3)\n"
     ]
    }
   ],
   "source": [
    "# what if I want my string to extend over more than one line?\n",
    "\n",
    "s = 'abcdef\n",
    "ghijkl'"
   ]
  },
  {
   "cell_type": "code",
   "execution_count": 80,
   "metadata": {},
   "outputs": [
    {
     "name": "stdout",
     "output_type": "stream",
     "text": [
      "abcdef\n",
      "ghijkl\n"
     ]
    }
   ],
   "source": [
    "# if we want a newline in our string, we can type \\n -- we type two characters, but it's really one,\n",
    "# \"newline,\" which when we print things will go down one line\n",
    "\n",
    "s = 'abcdef\\nghijkl'\n",
    "\n",
    "print(s)"
   ]
  },
  {
   "cell_type": "code",
   "execution_count": 81,
   "metadata": {},
   "outputs": [
    {
     "data": {
      "text/plain": [
       "13"
      ]
     },
     "execution_count": 81,
     "metadata": {},
     "output_type": "execute_result"
    }
   ],
   "source": [
    "len(s)"
   ]
  },
  {
   "cell_type": "code",
   "execution_count": 82,
   "metadata": {},
   "outputs": [
    {
     "data": {
      "text/plain": [
       "13"
      ]
     },
     "execution_count": 82,
     "metadata": {},
     "output_type": "execute_result"
    }
   ],
   "source": [
    "# get the length of a string with len\n",
    "\n",
    "len(s)"
   ]
  },
  {
   "cell_type": "code",
   "execution_count": 83,
   "metadata": {},
   "outputs": [
    {
     "data": {
      "text/plain": [
       "26"
      ]
     },
     "execution_count": 83,
     "metadata": {},
     "output_type": "execute_result"
    }
   ],
   "source": [
    "s = 'abcdefghijklmnopqrstuvwxyz'\n",
    "len(s)"
   ]
  },
  {
   "cell_type": "code",
   "execution_count": 84,
   "metadata": {},
   "outputs": [
    {
     "data": {
      "text/plain": [
       "'a'"
      ]
     },
     "execution_count": 84,
     "metadata": {},
     "output_type": "execute_result"
    }
   ],
   "source": [
    "# what if I want to retrieve one character from a string?\n",
    "# we can use []\n",
    "# inside of the [], we put the integer index of the character we want - starting with an index of 0 for the first character!\n",
    "\n",
    "s[0]  # this is how we get the first character"
   ]
  },
  {
   "cell_type": "code",
   "execution_count": 85,
   "metadata": {},
   "outputs": [
    {
     "data": {
      "text/plain": [
       "'b'"
      ]
     },
     "execution_count": 85,
     "metadata": {},
     "output_type": "execute_result"
    }
   ],
   "source": [
    "s[1]"
   ]
  },
  {
   "cell_type": "code",
   "execution_count": 86,
   "metadata": {},
   "outputs": [
    {
     "data": {
      "text/plain": [
       "'c'"
      ]
     },
     "execution_count": 86,
     "metadata": {},
     "output_type": "execute_result"
    }
   ],
   "source": [
    "s[2]"
   ]
  },
  {
   "cell_type": "markdown",
   "metadata": {},
   "source": [
    "The fact that Python starts indexes at 0 is both very standard in programming languages and very annoying. \n",
    "\n",
    "It also leads to bugs known as \"off by one errors.\" "
   ]
  },
  {
   "cell_type": "code",
   "execution_count": 87,
   "metadata": {},
   "outputs": [
    {
     "ename": "IndexError",
     "evalue": "string index out of range",
     "output_type": "error",
     "traceback": [
      "\u001b[31m---------------------------------------------------------------------------\u001b[39m",
      "\u001b[31mIndexError\u001b[39m                                Traceback (most recent call last)",
      "\u001b[36mCell\u001b[39m\u001b[36m \u001b[39m\u001b[32mIn[87]\u001b[39m\u001b[32m, line 2\u001b[39m\n\u001b[32m      1\u001b[39m \u001b[38;5;66;03m# what's the final character in s, the alphabet?\u001b[39;00m\n\u001b[32m----> \u001b[39m\u001b[32m2\u001b[39m \u001b[43ms\u001b[49m\u001b[43m[\u001b[49m\u001b[32;43m26\u001b[39;49m\u001b[43m]\u001b[49m\n",
      "\u001b[31mIndexError\u001b[39m: string index out of range"
     ]
    }
   ],
   "source": [
    "# what's the final character in s, the alphabet?\n",
    "s[26]"
   ]
  },
  {
   "cell_type": "code",
   "execution_count": 88,
   "metadata": {},
   "outputs": [
    {
     "data": {
      "text/plain": [
       "'z'"
      ]
     },
     "execution_count": 88,
     "metadata": {},
     "output_type": "execute_result"
    }
   ],
   "source": [
    "s[25]  # the indexes are 0-25, since there are 26 characters"
   ]
  },
  {
   "cell_type": "code",
   "execution_count": 89,
   "metadata": {},
   "outputs": [
    {
     "data": {
      "text/plain": [
       "'z'"
      ]
     },
     "execution_count": 89,
     "metadata": {},
     "output_type": "execute_result"
    }
   ],
   "source": [
    "# I can use a variable, or calculate!\n",
    "s[ len(s)-1 ]"
   ]
  },
  {
   "cell_type": "code",
   "execution_count": 90,
   "metadata": {},
   "outputs": [
    {
     "data": {
      "text/plain": [
       "'z'"
      ]
     },
     "execution_count": 90,
     "metadata": {},
     "output_type": "execute_result"
    }
   ],
   "source": [
    "i = 25\n",
    "s[i]"
   ]
  },
  {
   "cell_type": "code",
   "execution_count": 91,
   "metadata": {},
   "outputs": [
    {
     "data": {
      "text/plain": [
       "'z'"
      ]
     },
     "execution_count": 91,
     "metadata": {},
     "output_type": "execute_result"
    }
   ],
   "source": [
    "# also, I can use a negative index!\n",
    "s[-1]  # this counts from the right!"
   ]
  },
  {
   "cell_type": "markdown",
   "metadata": {},
   "source": [
    "# Exercise: Get a character\n",
    "\n",
    "1. Ask the user to enter a text string.\n",
    "2. Ask the user to enter an integer, the index of a character we want from the text string.\n",
    "3. If the integer is < 0, give an error message.\n",
    "4. if the integer is too high, give an error message.\n",
    "5. Print the index, the string, and the character\n",
    "\n",
    "Example:\n",
    "\n",
    "    Enter a word: Python\n",
    "    Enter an index: 3\n",
    "    index 3 in Python is h\n",
    "\n",
    "    Enter a word: Python\n",
    "    Enter an index: 30\n",
    "    index 30 is too big for Python"
   ]
  },
  {
   "cell_type": "code",
   "execution_count": 100,
   "metadata": {},
   "outputs": [
    {
     "name": "stdin",
     "output_type": "stream",
     "text": [
      "Enter a word:  Python\n",
      "Enter an index:  -3\n"
     ]
    },
    {
     "name": "stdout",
     "output_type": "stream",
     "text": [
      "Too low!\n"
     ]
    }
   ],
   "source": [
    "text = input('Enter a word: ')\n",
    "\n",
    "index = input('Enter an index: ')\n",
    "index = int(index)\n",
    "\n",
    "if index < 0:\n",
    "    print('Too low!')\n",
    "elif index >= len(text):\n",
    "    print('Too high!')\n",
    "else:    \n",
    "    character = text[index]\n",
    "    print(f'Index {index} in {text} is {character}')"
   ]
  },
  {
   "cell_type": "code",
   "execution_count": 105,
   "metadata": {},
   "outputs": [
    {
     "name": "stdout",
     "output_type": "stream",
     "text": [
      "p\n"
     ]
    }
   ],
   "source": [
    "i = 15\n",
    "\n",
    "if i > len(s):\n",
    "    print('is too big')\n",
    "else:\n",
    "    print(s[i])"
   ]
  },
  {
   "cell_type": "markdown",
   "metadata": {},
   "source": [
    "# Next up\n",
    "\n",
    "- More with strings!\n",
    "- Methods, including string methods"
   ]
  },
  {
   "cell_type": "code",
   "execution_count": 106,
   "metadata": {},
   "outputs": [
    {
     "ename": "TypeError",
     "evalue": "'str' object is not callable",
     "output_type": "error",
     "traceback": [
      "\u001b[31m---------------------------------------------------------------------------\u001b[39m",
      "\u001b[31mTypeError\u001b[39m                                 Traceback (most recent call last)",
      "\u001b[36mCell\u001b[39m\u001b[36m \u001b[39m\u001b[32mIn[106]\u001b[39m\u001b[32m, line 5\u001b[39m\n\u001b[32m      1\u001b[39m \u001b[38;5;66;03m# what does it mean when you hear \"str is not callable\"?\u001b[39;00m\n\u001b[32m      3\u001b[39m s = \u001b[33m'\u001b[39m\u001b[33mabcd\u001b[39m\u001b[33m'\u001b[39m\n\u001b[32m----> \u001b[39m\u001b[32m5\u001b[39m \u001b[43ms\u001b[49m\u001b[43m(\u001b[49m\u001b[43m)\u001b[49m   \u001b[38;5;66;03m# round parentheses, (), mean: Invoke this function!\u001b[39;00m\n",
      "\u001b[31mTypeError\u001b[39m: 'str' object is not callable"
     ]
    }
   ],
   "source": [
    "# what does it mean when you hear \"str is not callable\"?\n",
    "\n",
    "s = 'abcd'\n",
    "\n",
    "s()   # round parentheses, (), mean: Invoke this function!"
   ]
  },
  {
   "cell_type": "markdown",
   "metadata": {},
   "source": [
    "# Why would you get this?\n",
    "\n",
    "1. You used `()` and not `[]` when trying to retrieve from the index of a string\n",
    "2. You used `()` on a string, thinking it was a function\n",
    "3. You accidentally redefined a function as a string!\n",
    "\n",
    "For example, you might have said `print = 'abcd'`, and you've basically removed `print` from your system.\n",
    "\n",
    "To solve this, you can go to the \"Kernel\" menu and choose restart."
   ]
  },
  {
   "cell_type": "markdown",
   "metadata": {},
   "source": [
    "# A few more string things\n",
    "\n"
   ]
  },
  {
   "cell_type": "code",
   "execution_count": 109,
   "metadata": {},
   "outputs": [
    {
     "data": {
      "text/plain": [
       "True"
      ]
     },
     "execution_count": 109,
     "metadata": {},
     "output_type": "execute_result"
    }
   ],
   "source": [
    "s = 'abcdefghijklmnopqrstuvwxyz'\n",
    "\n",
    "# how can I check if a character is *in* the string?\n",
    "# I can use the \"in\" operator\n",
    "\n",
    "'d' in s    # is 'd' in s?"
   ]
  },
  {
   "cell_type": "code",
   "execution_count": 110,
   "metadata": {},
   "outputs": [
    {
     "data": {
      "text/plain": [
       "True"
      ]
     },
     "execution_count": 110,
     "metadata": {},
     "output_type": "execute_result"
    }
   ],
   "source": [
    "'defg' in s   # is the 4-character sequence 'defg' in s?"
   ]
  },
  {
   "cell_type": "code",
   "execution_count": 111,
   "metadata": {},
   "outputs": [
    {
     "data": {
      "text/plain": [
       "False"
      ]
     },
     "execution_count": 111,
     "metadata": {},
     "output_type": "execute_result"
    }
   ],
   "source": [
    "# \"in\" checks if the thing on the left is in the thing on the right\n",
    "\n",
    "'dg' in s  # is the 2-character sequence 'dg' in s?"
   ]
  },
  {
   "cell_type": "code",
   "execution_count": 112,
   "metadata": {},
   "outputs": [
    {
     "data": {
      "text/plain": [
       "'klmnopqrst'"
      ]
     },
     "execution_count": 112,
     "metadata": {},
     "output_type": "execute_result"
    }
   ],
   "source": [
    "# we've seen that we can retrieve one character.\n",
    "# we can retrieve a bunch of characters with a \"slice\"\n",
    "\n",
    "# a slice uses [], but inside we put two numbers separated by :\n",
    "\n",
    "s[10:20]  # this returns a new string, based on s, from its index 10 up to (and not including) its index 20"
   ]
  },
  {
   "cell_type": "code",
   "execution_count": 113,
   "metadata": {},
   "outputs": [
    {
     "data": {
      "text/plain": [
       "'fghijkl'"
      ]
     },
     "execution_count": 113,
     "metadata": {},
     "output_type": "execute_result"
    }
   ],
   "source": [
    "s[5:12]  # a new string, based on s, from its index 5 up to (not including) index 12"
   ]
  },
  {
   "cell_type": "code",
   "execution_count": 114,
   "metadata": {},
   "outputs": [
    {
     "data": {
      "text/plain": [
       "'abcdefghijkl'"
      ]
     },
     "execution_count": 114,
     "metadata": {},
     "output_type": "execute_result"
    }
   ],
   "source": [
    "# I can even ignore the first index, and have it start from the beginning\n",
    "\n",
    "s[:12]"
   ]
  },
  {
   "cell_type": "code",
   "execution_count": 115,
   "metadata": {},
   "outputs": [
    {
     "data": {
      "text/plain": [
       "'mnopqrstuvwxyz'"
      ]
     },
     "execution_count": 115,
     "metadata": {},
     "output_type": "execute_result"
    }
   ],
   "source": [
    "# I can ignore the final index, and have it go through the end\n",
    "s[12:]"
   ]
  },
  {
   "cell_type": "code",
   "execution_count": 116,
   "metadata": {},
   "outputs": [
    {
     "data": {
      "text/plain": [
       "True"
      ]
     },
     "execution_count": 116,
     "metadata": {},
     "output_type": "execute_result"
    }
   ],
   "source": [
    "# check if both d and g are in the string -- we can use \"and\"\n",
    "\n",
    "'d' in s and 'g' in s"
   ]
  },
  {
   "cell_type": "markdown",
   "metadata": {},
   "source": [
    "# Exercise: Pig Latin\n",
    "\n",
    "Pig Latin is a children's \"secret\" language. The idea is to translate a word from English into Pig Latin. The rules are:\n",
    "\n",
    "- If the first character is a vowel (a, e, i, o, u) then add `way` to the word\n",
    "- Otherwise, move the first character to the end, and add `ay`\n",
    "\n",
    "In other words:\n",
    "\n",
    "- `phone` -> `honepay`\n",
    "- `computer` -> `omputercay`\n",
    "- `papaya` -> `apayapay`\n",
    "- `elephant` -> `elephantway`\n",
    "- `octopus` -> `octopusway`\n",
    "\n",
    "1. Ask the user to enter a word. (All lowercase, no punctuation, no spaces)\n",
    "2. Print the translation of the word into Pig Latin, as per the above rules."
   ]
  },
  {
   "cell_type": "code",
   "execution_count": 118,
   "metadata": {},
   "outputs": [
    {
     "name": "stdin",
     "output_type": "stream",
     "text": [
      "Enter a word:  octopus\n"
     ]
    },
    {
     "name": "stdout",
     "output_type": "stream",
     "text": [
      "octopusway\n"
     ]
    }
   ],
   "source": [
    "word = input('Enter a word: ')\n",
    "\n",
    "if word[0] == 'a' or word[0] == 'e' or word[0] == 'i' or word[0] == 'o' or word[0] == 'u':\n",
    "    print(word + 'way')"
   ]
  },
  {
   "cell_type": "code",
   "execution_count": 119,
   "metadata": {},
   "outputs": [
    {
     "name": "stdin",
     "output_type": "stream",
     "text": [
      "Enter a word:  octopus\n"
     ]
    },
    {
     "name": "stdout",
     "output_type": "stream",
     "text": [
      "octopusway\n"
     ]
    }
   ],
   "source": [
    "word = input('Enter a word: ')\n",
    "\n",
    "if word[0] in 'aeiou':\n",
    "    print(word + 'way')"
   ]
  },
  {
   "cell_type": "code",
   "execution_count": null,
   "metadata": {},
   "outputs": [],
   "source": [
    "# DO NOT DO THIS! UNDER ANY CIRCUMSTANCES!\n",
    "\n",
    "word = input('Enter a word: ')\n",
    "\n",
    "# if word[0] == 'a' or True or True or True or True\n",
    "if word[0] == 'a' or 'e' or 'i' or 'o' or  'u':\n",
    "    print(word + 'way')"
   ]
  },
  {
   "cell_type": "code",
   "execution_count": 121,
   "metadata": {},
   "outputs": [
    {
     "name": "stdin",
     "output_type": "stream",
     "text": [
      "Enter a word:  whatever\n"
     ]
    },
    {
     "name": "stdout",
     "output_type": "stream",
     "text": [
      "hateverway\n"
     ]
    }
   ],
   "source": [
    "word = input('Enter a word: ')\n",
    "\n",
    "if word[0] in 'aeiou':\n",
    "    print(word + 'way')\n",
    "else:\n",
    "    print(word[1:] + word[0] + 'ay')"
   ]
  },
  {
   "cell_type": "code",
   "execution_count": 123,
   "metadata": {},
   "outputs": [
    {
     "data": {
      "text/plain": [
       "False"
      ]
     },
     "execution_count": 123,
     "metadata": {},
     "output_type": "execute_result"
    }
   ],
   "source": [
    "# DN\n",
    "\n",
    "'aeiou' in word[0]   # this asks if the 5-character string 'aeiou' can be found in word[0], which is 1 character long"
   ]
  },
  {
   "cell_type": "markdown",
   "metadata": {},
   "source": [
    "# You cannot change a string: They are *immutable*\n",
    "\n",
    "It's very tempting to take a string and change a character in it by assigning to that index."
   ]
  },
  {
   "cell_type": "code",
   "execution_count": 122,
   "metadata": {},
   "outputs": [
    {
     "ename": "TypeError",
     "evalue": "'str' object does not support item assignment",
     "output_type": "error",
     "traceback": [
      "\u001b[31m---------------------------------------------------------------------------\u001b[39m",
      "\u001b[31mTypeError\u001b[39m                                 Traceback (most recent call last)",
      "\u001b[36mCell\u001b[39m\u001b[36m \u001b[39m\u001b[32mIn[122]\u001b[39m\u001b[32m, line 3\u001b[39m\n\u001b[32m      1\u001b[39m s = \u001b[33m'\u001b[39m\u001b[33mabcdefg\u001b[39m\u001b[33m'\u001b[39m\n\u001b[32m----> \u001b[39m\u001b[32m3\u001b[39m \u001b[43ms\u001b[49m\u001b[43m[\u001b[49m\u001b[32;43m2\u001b[39;49m\u001b[43m]\u001b[49m = \u001b[33m'\u001b[39m\u001b[33m!\u001b[39m\u001b[33m'\u001b[39m\n",
      "\u001b[31mTypeError\u001b[39m: 'str' object does not support item assignment"
     ]
    }
   ],
   "source": [
    "s = 'abcdefg'\n",
    "\n",
    "s[2] = '!'"
   ]
  },
  {
   "cell_type": "markdown",
   "metadata": {},
   "source": [
    "# Methods\n",
    "\n",
    "So far, the verbs we've used in Python have all been *functions*. But actually, most verbs in the language are *methods*, which are mostly like functions, but look a bit different.\n",
    "\n",
    "Instead of saying\n",
    "\n",
    "    FUNCTION(DATA)\n",
    "\n",
    "we can instead say\n",
    "\n",
    "    DATA.METHOD()\n",
    "\n",
    "This ensures that we have a good categorization of our methods, and that we know which method goes with which data type. Methods always come after a `.`, and always after a data structure of the appropriate type.     "
   ]
  },
  {
   "cell_type": "code",
   "execution_count": 124,
   "metadata": {},
   "outputs": [
    {
     "name": "stdin",
     "output_type": "stream",
     "text": [
      "Enter your name:               Reuven           \n"
     ]
    },
    {
     "name": "stdout",
     "output_type": "stream",
     "text": [
      "Hello,              Reuven           !\n"
     ]
    }
   ],
   "source": [
    "# strings have a *ton* of methods!\n",
    "\n",
    "name = input('Enter your name: ')\n",
    "print(f'Hello, {name}!')"
   ]
  },
  {
   "cell_type": "code",
   "execution_count": 125,
   "metadata": {},
   "outputs": [
    {
     "data": {
      "text/plain": [
       "'             Reuven           '"
      ]
     },
     "execution_count": 125,
     "metadata": {},
     "output_type": "execute_result"
    }
   ],
   "source": [
    "name"
   ]
  },
  {
   "cell_type": "code",
   "execution_count": 126,
   "metadata": {},
   "outputs": [
    {
     "data": {
      "text/plain": [
       "'Reuven'"
      ]
     },
     "execution_count": 126,
     "metadata": {},
     "output_type": "execute_result"
    }
   ],
   "source": [
    "# if a string has leading/trailing spaces (\"whitespace\"), we can invoke str.strip\n",
    "# this returns a new string without that leading/trailing whitespace\n",
    "\n",
    "name.strip()"
   ]
  },
  {
   "cell_type": "code",
   "execution_count": 127,
   "metadata": {},
   "outputs": [
    {
     "data": {
      "text/plain": [
       "'Reuven'"
      ]
     },
     "execution_count": 127,
     "metadata": {},
     "output_type": "execute_result"
    }
   ],
   "source": [
    "# I could say\n",
    "\n",
    "name = name.strip()\n",
    "name"
   ]
  },
  {
   "cell_type": "code",
   "execution_count": 128,
   "metadata": {},
   "outputs": [
    {
     "name": "stdin",
     "output_type": "stream",
     "text": [
      "Enter your name:         Reuven        \n"
     ]
    },
    {
     "name": "stdout",
     "output_type": "stream",
     "text": [
      "Hello, Reuven!\n"
     ]
    }
   ],
   "source": [
    "# what about this:\n",
    "\n",
    "name = input('Enter your name: ').strip()\n",
    "print(f'Hello, {name}!')"
   ]
  },
  {
   "cell_type": "markdown",
   "metadata": {},
   "source": [
    "# other string methods\n",
    "\n",
    "- `str.lower` -- returns a new string with all characters from the original lowercased\n",
    "- `str.upper` -- returns a new string with all characters from the original uppercase\n"
   ]
  },
  {
   "cell_type": "code",
   "execution_count": 129,
   "metadata": {},
   "outputs": [
    {
     "data": {
      "text/plain": [
       "'abcdefg'"
      ]
     },
     "execution_count": 129,
     "metadata": {},
     "output_type": "execute_result"
    }
   ],
   "source": [
    "s"
   ]
  },
  {
   "cell_type": "code",
   "execution_count": 130,
   "metadata": {},
   "outputs": [
    {
     "data": {
      "text/plain": [
       "'abcd efgh'"
      ]
     },
     "execution_count": 130,
     "metadata": {},
     "output_type": "execute_result"
    }
   ],
   "source": [
    "s = 'aBcD eFgH'\n",
    "s.lower()"
   ]
  },
  {
   "cell_type": "code",
   "execution_count": 131,
   "metadata": {},
   "outputs": [
    {
     "data": {
      "text/plain": [
       "'ABCD EFGH'"
      ]
     },
     "execution_count": 131,
     "metadata": {},
     "output_type": "execute_result"
    }
   ],
   "source": [
    "s.upper()"
   ]
  },
  {
   "cell_type": "code",
   "execution_count": 132,
   "metadata": {},
   "outputs": [
    {
     "data": {
      "text/plain": [
       "'AbCd EfGh'"
      ]
     },
     "execution_count": 132,
     "metadata": {},
     "output_type": "execute_result"
    }
   ],
   "source": [
    "s.swapcase()  # this is the most useless method in all of Python!"
   ]
  },
  {
   "cell_type": "code",
   "execution_count": 133,
   "metadata": {},
   "outputs": [
    {
     "data": {
      "text/plain": [
       "'abcdefghijkl'"
      ]
     },
     "execution_count": 133,
     "metadata": {},
     "output_type": "execute_result"
    }
   ],
   "source": [
    "# str.replace gives a new string, based on replacing characters in the string\n",
    "\n",
    "s = 'abcd efgh ijkl'\n",
    "s.replace(' ', '')  "
   ]
  },
  {
   "cell_type": "code",
   "execution_count": 134,
   "metadata": {},
   "outputs": [
    {
     "data": {
      "text/plain": [
       "'abcd !!!fgh ijkl'"
      ]
     },
     "execution_count": 134,
     "metadata": {},
     "output_type": "execute_result"
    }
   ],
   "source": [
    "s.replace('e', '!!!')"
   ]
  },
  {
   "cell_type": "markdown",
   "metadata": {},
   "source": [
    "# `str.isdigit`\n",
    "\n",
    "This method returns `True` if a string contains only digits (0-9). This allows us to avoid errors when we try to invoke `int` on a string that cannot be turned into an integer.\n",
    "\n"
   ]
  },
  {
   "cell_type": "code",
   "execution_count": 135,
   "metadata": {},
   "outputs": [
    {
     "data": {
      "text/plain": [
       "True"
      ]
     },
     "execution_count": 135,
     "metadata": {},
     "output_type": "execute_result"
    }
   ],
   "source": [
    "s = '1234'  # this is a string!\n",
    "\n",
    "s.isdigit()  # this is a string method!\n"
   ]
  },
  {
   "cell_type": "code",
   "execution_count": 136,
   "metadata": {},
   "outputs": [
    {
     "data": {
      "text/plain": [
       "False"
      ]
     },
     "execution_count": 136,
     "metadata": {},
     "output_type": "execute_result"
    }
   ],
   "source": [
    "s = '12ab34'\n",
    "s.isdigit()"
   ]
  },
  {
   "cell_type": "code",
   "execution_count": 138,
   "metadata": {},
   "outputs": [
    {
     "name": "stdin",
     "output_type": "stream",
     "text": [
      "Enter your favorite number:  hello 37\n"
     ]
    },
    {
     "name": "stdout",
     "output_type": "stream",
     "text": [
      "Sorry, but hello 37 is not numeric\n"
     ]
    }
   ],
   "source": [
    "# a small flaw here -- str.isdigit returns False for strings starting with -\n",
    "\n",
    "number = input('Enter your favorite number: ').strip()\n",
    "\n",
    "if number.isdigit():\n",
    "    n = int(number)\n",
    "    print(f'{n} * 5 = {n*5}')\n",
    "else:\n",
    "    print(f'Sorry, but {number} is not numeric')"
   ]
  },
  {
   "cell_type": "code",
   "execution_count": 139,
   "metadata": {},
   "outputs": [],
   "source": [
    "# RegexpCrashCourse.com -- free, 14-part e-mail series on regular expressions"
   ]
  },
  {
   "cell_type": "markdown",
   "metadata": {},
   "source": [
    "# Exercise: Character in string\n",
    "\n",
    "1. Ask the user to enter a string.\n",
    "2. Ask the user to enter an index.\n",
    "3. If the index is numeric, then print the index, string, and character\n",
    "4. If the index is *not* numeric, then scold the user."
   ]
  },
  {
   "cell_type": "code",
   "execution_count": 144,
   "metadata": {},
   "outputs": [
    {
     "name": "stdin",
     "output_type": "stream",
     "text": [
      "Enter a string:  python\n",
      "Enter an index:  6\n"
     ]
    },
    {
     "name": "stdout",
     "output_type": "stream",
     "text": [
      "Too high\n"
     ]
    }
   ],
   "source": [
    "text = input('Enter a string: ').strip()\n",
    "index = input('Enter an index: ').strip()\n",
    "\n",
    "if index.isdigit():  # if this string only contains digits 0-9\n",
    "    i = int(index)\n",
    "\n",
    "    if i < 0:\n",
    "        print('Too low')\n",
    "    elif i >= len(text):\n",
    "        print('Too high')\n",
    "    else:\n",
    "        character = text[i]\n",
    "        print(f'Index {i} in {text} is {character}')\n",
    "else:\n",
    "    print(f'{index} is not numeric')"
   ]
  },
  {
   "cell_type": "code",
   "execution_count": null,
   "metadata": {},
   "outputs": [],
   "source": []
  }
 ],
 "metadata": {
  "kernelspec": {
   "display_name": "Python 3 (ipykernel)",
   "language": "python",
   "name": "python3"
  },
  "language_info": {
   "codemirror_mode": {
    "name": "ipython",
    "version": 3
   },
   "file_extension": ".py",
   "mimetype": "text/x-python",
   "name": "python",
   "nbconvert_exporter": "python",
   "pygments_lexer": "ipython3",
   "version": "3.13.5"
  }
 },
 "nbformat": 4,
 "nbformat_minor": 4
}
