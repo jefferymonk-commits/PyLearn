{
 "cells": [
  {
   "cell_type": "code",
   "execution_count": 1,
   "id": "5d868e22",
   "metadata": {},
   "outputs": [
    {
     "name": "stdout",
     "output_type": "stream",
     "text": [
      "\tIn __init__ with self.data='abcde' and self.index=0\n",
      "\tIn __iter__ with self.data='abcde' and self.index=0\n",
      "\tIn __next__ with self.data='abcde' and self.index=0\n",
      "\t\tReturning a!\n",
      "a\n",
      "\tIn __next__ with self.data='abcde' and self.index=1\n",
      "\t\tReturning b!\n",
      "b\n",
      "\tIn __next__ with self.data='abcde' and self.index=2\n",
      "\t\tReturning c!\n",
      "c\n",
      "\tIn __next__ with self.data='abcde' and self.index=3\n",
      "\t\tReturning d!\n",
      "d\n",
      "\tIn __next__ with self.data='abcde' and self.index=4\n",
      "\t\tReturning e!\n",
      "e\n",
      "\tIn __next__ with self.data='abcde' and self.index=5\n",
      "\t\tRaising StopIteration!\n"
     ]
    }
   ],
   "source": [
    "class MyClass:\n",
    "    def __init__(self, data):\n",
    "        self.data = data\n",
    "        self.index = 0\n",
    "        print(f'\\tIn __init__ with {self.data=} and {self.index=}')\n",
    "    def __iter__(self):\n",
    "        print(f'\\tIn __iter__ with {self.data=} and {self.index=}')\n",
    "        return self    # this says: I'm my own iterator!\n",
    "    def __next__(self):\n",
    "        print(f'\\tIn __next__ with {self.data=} and {self.index=}')\n",
    "\n",
    "        if self.index >= len(self.data):\n",
    "            print(f'\\t\\tRaising StopIteration!')\n",
    "            raise StopIteration('too far!')\n",
    "\n",
    "        value = self.data[self.index]   # Grab the current value\n",
    "        self.index += 1\n",
    "        print(f'\\t\\tReturning {value}!')\n",
    "        return value\n",
    "\n",
    "m = MyClass('abcde')    \n",
    "\n",
    "for one_item in m:\n",
    "    print(one_item)"
   ]
  },
  {
   "cell_type": "code",
   "execution_count": null,
   "id": "69ba814b",
   "metadata": {},
   "outputs": [
    {
     "name": "stdout",
     "output_type": "stream",
     "text": [
      "a\n",
      "b\n",
      "c\n",
      "d\n",
      "a\n",
      "b\n",
      "c\n",
      "d\n"
     ]
    }
   ],
   "source": [
    "class Circle:\n",
    "    def __init__(self, data, maxtimes):\n",
    "        self.data = data\n",
    "        self.maxtimes = maxtimes\n",
    "        self.index = 0\n",
    "    def __iter__(self):\n",
    "        return self    # this says: I'm my own iterator!\n",
    "    def __next__(self):\n",
    "\n",
    "        if self.index >= self.maxtimes:\n",
    "            raise StopIteration('too far!')\n",
    "\n",
    "        value = self.data[self.index % len(self.data)] # the % operator does integer division, and returns the remainder\n",
    "        self.index += 1\n",
    "        return value\n",
    "\n",
    "c = Circle('abcd',8)\n",
    "\n",
    "for one_item in c:\n",
    "    print(one_item)   # a b c d a b c"
   ]
  },
  {
   "cell_type": "code",
   "execution_count": 11,
   "id": "50a86964",
   "metadata": {},
   "outputs": [
    {
     "data": {
      "text/plain": [
       "1"
      ]
     },
     "execution_count": 11,
     "metadata": {},
     "output_type": "execute_result"
    }
   ],
   "source": [
    "1 % 4"
   ]
  },
  {
   "cell_type": "code",
   "execution_count": 12,
   "id": "2c06bc4b",
   "metadata": {},
   "outputs": [
    {
     "data": {
      "text/plain": [
       "0"
      ]
     },
     "execution_count": 12,
     "metadata": {},
     "output_type": "execute_result"
    }
   ],
   "source": [
    "4 % 4"
   ]
  },
  {
   "cell_type": "code",
   "execution_count": 13,
   "id": "6ecf2e9c",
   "metadata": {},
   "outputs": [
    {
     "name": "stdout",
     "output_type": "stream",
     "text": [
      "a\n",
      "b\n",
      "c\n",
      "d\n",
      "a\n",
      "b\n",
      "c\n",
      "d\n"
     ]
    }
   ],
   "source": [
    "c = Circle('abcd',8)\n",
    "\n",
    "for one_item in c:\n",
    "    print(one_item)"
   ]
  },
  {
   "cell_type": "markdown",
   "id": "a07c562a",
   "metadata": {},
   "source": [
    "Exercise: Only vowels\n",
    "\n",
    "Define a class, OnlyVowels, that takes a string as input.\n",
    "When we iterate over an instance of OnlyVowels, we get, one by one, each of the vowels in the string. We ignore non-vowels entirely.\n",
    "When there are no vowels left, we raise StopIteration\n",
    "Create this class as its own iterator. Then separate it out into a two-class structure."
   ]
  },
  {
   "cell_type": "code",
   "execution_count": 17,
   "id": "ecdab1df",
   "metadata": {},
   "outputs": [
    {
     "name": "stdout",
     "output_type": "stream",
     "text": [
      "e o o e e o e o u e e "
     ]
    }
   ],
   "source": [
    "class OnlyVowels:\n",
    "    def __init__(self, text):\n",
    "        self.text = text\n",
    "        self.index = 0\n",
    "    def __iter__(self):\n",
    "        return self\n",
    "    def __next__(self):\n",
    "        while self.index < len(self.text):\n",
    "            value = self.text[self.index]\n",
    "            self.index += 1\n",
    "\n",
    "            if value in 'aeiou':\n",
    "                return value\n",
    "\n",
    "        raise StopIteration\n",
    "    \n",
    "text = 'hello to everyone out there!'\n",
    "\n",
    "for one_vowel in OnlyVowels(text):\n",
    "    print(one_vowel, end=' ')"
   ]
  },
  {
   "cell_type": "markdown",
   "id": "4fd7469d",
   "metadata": {},
   "source": [
    "# two-class implementation"
   ]
  },
  {
   "cell_type": "code",
   "execution_count": 14,
   "id": "5453bb06",
   "metadata": {},
   "outputs": [
    {
     "name": "stdout",
     "output_type": "stream",
     "text": [
      "e o o e e o e o u e e "
     ]
    }
   ],
   "source": [
    "class OnlyVowelsIterator:\n",
    "    def __init__(self, text):\n",
    "        self.text = text\n",
    "        self.index = 0\n",
    "    def __next__(self):\n",
    "        while self.index < len(self.text):\n",
    "            value = self.text[self.index]\n",
    "            self.index += 1\n",
    "\n",
    "            if value in 'aeiou':\n",
    "                return value\n",
    "\n",
    "        raise StopIteration    \n",
    "        \n",
    "class OnlyVowels:\n",
    "    def __init__(self, text):\n",
    "        self.text = text\n",
    "    def __iter__(self):\n",
    "        return OnlyVowelsIterator(self.text)\n",
    "\n",
    "text = 'hello to everyone out there!'\n",
    "\n",
    "for one_vowel in OnlyVowels(text):\n",
    "    print(one_vowel, end=' ')"
   ]
  },
  {
   "cell_type": "markdown",
   "id": "500368f4",
   "metadata": {},
   "source": [
    "# if you want a two-class iterator, but you don't want a second class, you\n",
    "# could use a generator function! If __iter__ is implemented as a generator function (method),\n",
    "# then it returns an iterable (generator) that Python can invoke next on,time after time,\n",
    "# and get one value for each iteration.\n",
    "\n",
    "# single-class implelmentation"
   ]
  },
  {
   "cell_type": "code",
   "execution_count": 15,
   "id": "2e8becf2",
   "metadata": {},
   "outputs": [
    {
     "name": "stdout",
     "output_type": "stream",
     "text": [
      "e o o e e o e o u e e "
     ]
    }
   ],
   "source": [
    "class OnlyVowels:\n",
    "    def __init__(self, text):\n",
    "        self.text = text\n",
    "        self.index = 0\n",
    "    def __iter__(self):\n",
    "        while self.index < len(self.text):\n",
    "            value = self.text[self.index]\n",
    "            self.index += 1\n",
    "\n",
    "            if value in 'aeiou':\n",
    "                yield value\n",
    "\n",
    "text = 'hello to everyone out there!'\n",
    "\n",
    "for one_vowel in OnlyVowels(text):\n",
    "    print(one_vowel, end=' ')"
   ]
  }
 ],
 "metadata": {
  "kernelspec": {
   "display_name": "Python 3",
   "language": "python",
   "name": "python3"
  },
  "language_info": {
   "codemirror_mode": {
    "name": "ipython",
    "version": 3
   },
   "file_extension": ".py",
   "mimetype": "text/x-python",
   "name": "python",
   "nbconvert_exporter": "python",
   "pygments_lexer": "ipython3",
   "version": "3.12.8"
  }
 },
 "nbformat": 4,
 "nbformat_minor": 5
}
