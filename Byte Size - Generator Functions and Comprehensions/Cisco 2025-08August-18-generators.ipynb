{
 "cells": [
  {
   "cell_type": "markdown",
   "id": "204b311f-76c7-42f0-ad44-8237650b91fc",
   "metadata": {},
   "source": [
    "# Agenda\n",
    "\n",
    "1. Review the iterator protocol\n",
    "2. Generator functions\n",
    "    - How to define them\n",
    "    - How they're different from regular functions\n",
    "    - Keeping state across invocations\n",
    "    - How do they work? What's happening behind the scenes?\n",
    "3. Generator expressions (aka generator comprehensions)\n",
    "    - How to define them\n",
    "    - Where/when/how to use them"
   ]
  },
  {
   "cell_type": "markdown",
   "id": "d989d4e6-f3b2-4fab-a04c-2f6e7f725e39",
   "metadata": {},
   "source": [
    "# The iterator protocol\n",
    "\n",
    "How does iteration work in Python?  We know that it works on many different types of values."
   ]
  },
  {
   "cell_type": "code",
   "execution_count": 1,
   "id": "80d6d0c1-bcea-4ed2-8c5c-da71a4c0870e",
   "metadata": {},
   "outputs": [
    {
     "name": "stdout",
     "output_type": "stream",
     "text": [
      "a\n",
      "b\n",
      "c\n",
      "d\n",
      "e\n"
     ]
    }
   ],
   "source": [
    "for one_item in 'abcde':\n",
    "    print(one_item)"
   ]
  },
  {
   "cell_type": "code",
   "execution_count": 2,
   "id": "4d028d5e-bdce-42b5-a646-ab4da566c12f",
   "metadata": {},
   "outputs": [
    {
     "name": "stdout",
     "output_type": "stream",
     "text": [
      "10\n",
      "20\n",
      "30\n",
      "40\n",
      "50\n"
     ]
    }
   ],
   "source": [
    "for one_item in [10, 20, 30, 40, 50]:\n",
    "    print(one_item)"
   ]
  },
  {
   "cell_type": "code",
   "execution_count": 3,
   "id": "fedfcc71-e8c6-4c06-8662-59d5779c154e",
   "metadata": {},
   "outputs": [
    {
     "name": "stdout",
     "output_type": "stream",
     "text": [
      "a\n",
      "b\n",
      "c\n"
     ]
    }
   ],
   "source": [
    "d = {'a':10, 'b':20, 'c':30}\n",
    "\n",
    "for one_item in d:\n",
    "    print(one_item)"
   ]
  },
  {
   "cell_type": "markdown",
   "id": "cb3960bb-ff9b-42ab-8915-2a28690d7ecd",
   "metadata": {},
   "source": [
    "# Things are iterable!\n",
    "\n",
    "The iterator protocol in Python means that we can run a `for` loop over nearly any object, because nearly every object is *iterable*. For an object to be iterable, it needs a few things to be true:\n",
    "\n",
    "1. It needs to respond to the `iter` builtin function. If you run `iter` on an object, it'll either give you its iterator, or it'll respond with a `TypeError`.\n",
    "2. The iterator it responds with can be itself, or can be another object. The key thing about an iterator is that it knows how to respond to the `next` builtin function.\n",
    "3. When the iterator wants to indicate that it has no more values to share, it raises `StopIteration`."
   ]
  },
  {
   "cell_type": "markdown",
   "id": "a0a9533d-fcf9-4649-ac33-98f50934fed9",
   "metadata": {},
   "source": [
    "In this session, we're going to be talking about *generators*. Generators are iterable objects, meaning that they know how to behave inside of a `for` loop. But they are written very differently from most iterables -- they look like functions, and give us all of the benefits of functions.\n",
    "\n",
    "If I use generators, then I can think at a higher level, in terms of a function, rather than the very low-level details."
   ]
  },
  {
   "cell_type": "code",
   "execution_count": 4,
   "id": "fd600f5a-6bbd-4617-b083-8f46c9ad823f",
   "metadata": {},
   "outputs": [],
   "source": [
    "# let's start with the world's dumbest Python function\n",
    "\n",
    "def myfunc():\n",
    "    return 1\n",
    "    return 2\n",
    "    return 3"
   ]
  },
  {
   "cell_type": "code",
   "execution_count": 5,
   "id": "36865bed-40ca-4e27-84bf-65f1ec69004d",
   "metadata": {},
   "outputs": [
    {
     "data": {
      "text/plain": [
       "1"
      ]
     },
     "execution_count": 5,
     "metadata": {},
     "output_type": "execute_result"
    }
   ],
   "source": [
    "myfunc()"
   ]
  },
  {
   "cell_type": "code",
   "execution_count": 6,
   "id": "6de870aa-a05a-41f2-82b8-9de9adc40f61",
   "metadata": {},
   "outputs": [],
   "source": [
    "import dis  # Python dis-assembler"
   ]
  },
  {
   "cell_type": "code",
   "execution_count": 7,
   "id": "3e2643a6-ba41-4dcc-96db-d41872199aae",
   "metadata": {},
   "outputs": [
    {
     "name": "stdout",
     "output_type": "stream",
     "text": [
      "  3           RESUME                   0\n",
      "\n",
      "  4           RETURN_CONST             1 (1)\n"
     ]
    }
   ],
   "source": [
    "dis.dis(myfunc)"
   ]
  },
  {
   "cell_type": "code",
   "execution_count": 8,
   "id": "eb864ddf-38fe-4f21-85e2-91537f983bfe",
   "metadata": {},
   "outputs": [],
   "source": [
    "# what if I do something that appears slightly different?\n",
    "\n",
    "def myfunc():\n",
    "    yield 1\n",
    "    yield 2\n",
    "    yield 3"
   ]
  },
  {
   "cell_type": "code",
   "execution_count": 9,
   "id": "1b5250f8-9607-4726-ac05-93faadd2a833",
   "metadata": {},
   "outputs": [
    {
     "data": {
      "text/plain": [
       "<generator object myfunc at 0x107baa560>"
      ]
     },
     "execution_count": 9,
     "metadata": {},
     "output_type": "execute_result"
    }
   ],
   "source": [
    "# what happens when I invoke this function? What do I get back?\n",
    "\n",
    "myfunc()"
   ]
  },
  {
   "cell_type": "markdown",
   "id": "e7b5540e-9471-4445-b905-880cbe95530f",
   "metadata": {},
   "source": [
    "By getting a generator object back, I can put this object in a `for` loop, and it'll know how to behave."
   ]
  },
  {
   "cell_type": "code",
   "execution_count": 10,
   "id": "9e343db0-0e16-4f21-99cc-a65ef4a03102",
   "metadata": {},
   "outputs": [],
   "source": [
    "g = myfunc()   # assign it to g"
   ]
  },
  {
   "cell_type": "code",
   "execution_count": 11,
   "id": "e0ec9ce4-fcf8-4c3f-8515-9b91fdba15b2",
   "metadata": {},
   "outputs": [
    {
     "data": {
      "text/plain": [
       "<generator object myfunc at 0x107bab3d0>"
      ]
     },
     "execution_count": 11,
     "metadata": {},
     "output_type": "execute_result"
    }
   ],
   "source": [
    "iter(g)"
   ]
  },
  {
   "cell_type": "code",
   "execution_count": 12,
   "id": "ad432840-b1a5-4e60-99d0-439462e8cb2a",
   "metadata": {},
   "outputs": [
    {
     "data": {
      "text/plain": [
       "<generator object myfunc at 0x107bab3d0>"
      ]
     },
     "execution_count": 12,
     "metadata": {},
     "output_type": "execute_result"
    }
   ],
   "source": [
    "g"
   ]
  },
  {
   "cell_type": "code",
   "execution_count": 14,
   "id": "77cc928c-0c47-4c8e-82e9-b5a017a1b249",
   "metadata": {},
   "outputs": [
    {
     "data": {
      "text/plain": [
       "True"
      ]
     },
     "execution_count": 14,
     "metadata": {},
     "output_type": "execute_result"
    }
   ],
   "source": [
    "iter(g) is g    # a generator is its own iterator"
   ]
  },
  {
   "cell_type": "code",
   "execution_count": 15,
   "id": "9c09a698-af53-4982-9b98-09e69f75ce27",
   "metadata": {},
   "outputs": [
    {
     "data": {
      "text/plain": [
       "1"
      ]
     },
     "execution_count": 15,
     "metadata": {},
     "output_type": "execute_result"
    }
   ],
   "source": [
    "next(g)"
   ]
  },
  {
   "cell_type": "code",
   "execution_count": 16,
   "id": "efa3c933-9b22-4c60-98c2-5f5ef552cfc7",
   "metadata": {},
   "outputs": [
    {
     "data": {
      "text/plain": [
       "2"
      ]
     },
     "execution_count": 16,
     "metadata": {},
     "output_type": "execute_result"
    }
   ],
   "source": [
    "next(g)"
   ]
  },
  {
   "cell_type": "code",
   "execution_count": 17,
   "id": "9a5637e4-eaa0-43f8-a0e6-f459501afbfb",
   "metadata": {},
   "outputs": [
    {
     "data": {
      "text/plain": [
       "3"
      ]
     },
     "execution_count": 17,
     "metadata": {},
     "output_type": "execute_result"
    }
   ],
   "source": [
    "next(g)"
   ]
  },
  {
   "cell_type": "code",
   "execution_count": 18,
   "id": "40206f68-fa3a-4833-a03c-87770b922310",
   "metadata": {},
   "outputs": [
    {
     "ename": "StopIteration",
     "evalue": "",
     "output_type": "error",
     "traceback": [
      "\u001b[0;31m---------------------------------------------------------------------------\u001b[0m",
      "\u001b[0;31mStopIteration\u001b[0m                             Traceback (most recent call last)",
      "Cell \u001b[0;32mIn[18], line 1\u001b[0m\n\u001b[0;32m----> 1\u001b[0m \u001b[38;5;28;43mnext\u001b[39;49m\u001b[43m(\u001b[49m\u001b[43mg\u001b[49m\u001b[43m)\u001b[49m\n",
      "\u001b[0;31mStopIteration\u001b[0m: "
     ]
    }
   ],
   "source": [
    "next(g)"
   ]
  },
  {
   "cell_type": "markdown",
   "id": "224c19f5-9a3d-4d54-abdc-079cc92cd1c0",
   "metadata": {},
   "source": [
    "# What's happening?\n",
    "\n",
    "When we invoke a *generator function*, Python notices that it has the `yield` keyword. When it compiles the function, it marks this down. And when we invoke the function, the function body doesn't run. Rather, we get a generator that when iterated over will invoke the function body.\n",
    "\n",
    "With each iteration -- that is, each invocation of `next` -- the function will run up to and including the next `yield` statement.\n",
    "\n",
    "`yield` is kind of like `return`, in that it returns a value. But `return` also exits from the function. `yield`, by contrast, goes to sleep immediately after returning the value. This means that when we ask for the next value, the function picks up from where it left off, and keeps going as if nothing happened.\n",
    "\n",
    "If you use `return` in a generator function body, that just ends the loop by raising `StopIteration`. If the function body ends naturally, then it also raises `StopIteration`. You can, in theory, use `return` with a value, but you probably don't want to -- since that passes your value as the message to the `StopIteration` exception that was raised."
   ]
  },
  {
   "cell_type": "code",
   "execution_count": 19,
   "id": "6bf93184-d653-4e6e-be16-f40856832da4",
   "metadata": {},
   "outputs": [
    {
     "name": "stdout",
     "output_type": "stream",
     "text": [
      "1\n",
      "2\n",
      "3\n"
     ]
    }
   ],
   "source": [
    "# will this work?\n",
    "\n",
    "for one_item in myfunc():\n",
    "    print(one_item)"
   ]
  },
  {
   "cell_type": "code",
   "execution_count": 22,
   "id": "907ac582-83eb-44de-a982-0a33e0e9569d",
   "metadata": {},
   "outputs": [],
   "source": [
    "# a generator function is a function, and can do function-like things!\n",
    "\n",
    "\n",
    "def myfunc():\n",
    "    print('\\tLine 5, before yield 1')\n",
    "    yield 1\n",
    "    print('\\tLine 7, after yield 1 and before yield 2')\n",
    "    yield 2\n",
    "    print('\\tLine 9, after yield 2 and before yield 3')\n",
    "    yield 3\n",
    "    print('\\tLine 11, after yield 3')"
   ]
  },
  {
   "cell_type": "code",
   "execution_count": 23,
   "id": "4e678ced-af19-4b9d-b258-0e558a32a7f6",
   "metadata": {},
   "outputs": [
    {
     "name": "stdout",
     "output_type": "stream",
     "text": [
      "\tLine 5, before yield 1\n",
      "1\n",
      "\tLine 7, after yield 1 and before yield 2\n",
      "2\n",
      "\tLine 9, after yield 2 and before yield 3\n",
      "3\n",
      "\tLine 11, after yield 3\n"
     ]
    }
   ],
   "source": [
    "for one_item in myfunc():\n",
    "    print(one_item)"
   ]
  },
  {
   "cell_type": "code",
   "execution_count": 24,
   "id": "71d2a915-4104-44d6-82ea-ee6f67c6de9f",
   "metadata": {},
   "outputs": [],
   "source": [
    "def squares(n):\n",
    "    for one_number in range(n):\n",
    "        yield one_number ** 2"
   ]
  },
  {
   "cell_type": "code",
   "execution_count": 25,
   "id": "0cbb85e4-09c1-489f-91d2-67d4860f37e7",
   "metadata": {},
   "outputs": [
    {
     "name": "stdout",
     "output_type": "stream",
     "text": [
      "0 1 2 3 4 5 6 7 8 9 "
     ]
    }
   ],
   "source": [
    "for one_item in range(10):\n",
    "    print(one_item, end=' ')"
   ]
  },
  {
   "cell_type": "code",
   "execution_count": 26,
   "id": "7ad32955-7ce6-4d26-88da-7fc02a589041",
   "metadata": {},
   "outputs": [
    {
     "name": "stdout",
     "output_type": "stream",
     "text": [
      "0 1 4 9 16 25 36 49 64 81 "
     ]
    }
   ],
   "source": [
    "for one_item in squares(10):\n",
    "    print(one_item, end=' ')"
   ]
  },
  {
   "cell_type": "markdown",
   "id": "886198d1-221e-47cc-989e-b32f0a88ee84",
   "metadata": {},
   "source": [
    "# Why generator functions?\n",
    "\n",
    "1. We might have an infinite (or just very long) series of values we're going to get. This way, we can get them one at a time, rather than all at once in a huge list.\n",
    "2. It's easy(ish) to write a generator function that filters values, or that maps them to another value.\n"
   ]
  },
  {
   "cell_type": "markdown",
   "id": "5cc3dc28-db39-4b08-80a0-14e21cec6440",
   "metadata": {},
   "source": [
    "# Exercise: Only evens\n",
    "\n",
    "Write a generator function that takes a list (or other iterable) of integers as an argument. It should return, with each iteration, the next EVEN number in that iterable. When we get to the end of the values (or just the evens), the generator should exit.\n",
    "\n"
   ]
  },
  {
   "cell_type": "code",
   "execution_count": 27,
   "id": "c791f72f-3efc-4954-a8ca-85408db120a5",
   "metadata": {},
   "outputs": [],
   "source": [
    "def only_evens(numbers):\n",
    "    for one_item in numbers:\n",
    "        if one_item % 2 == 0:\n",
    "            yield one_item"
   ]
  },
  {
   "cell_type": "code",
   "execution_count": 29,
   "id": "a8142e64-5c2c-4171-b4de-dbd5689f44b5",
   "metadata": {},
   "outputs": [],
   "source": [
    "g = only_evens([10, 11, 12, 13, 15, 18, 21, 22])"
   ]
  },
  {
   "cell_type": "code",
   "execution_count": 30,
   "id": "08658ee4-7426-4fac-8eab-c8ed423b7512",
   "metadata": {},
   "outputs": [
    {
     "name": "stdout",
     "output_type": "stream",
     "text": [
      "10\n",
      "12\n",
      "18\n",
      "22\n"
     ]
    }
   ],
   "source": [
    "for one_item in g:\n",
    "    print(one_item)"
   ]
  },
  {
   "cell_type": "markdown",
   "id": "2b344de8-7959-414c-a3ee-1d91064ba832",
   "metadata": {},
   "source": [
    "# When are generators removed from memory?\n",
    "\n",
    "Python manages memory for us. It normally removes any object whose reference count (i.e., the number of references to it from variables and other data structures) drops to zero. \n",
    "\n",
    "If you refer to a generator in a global variable, then the global only goes away when Python exits!\n",
    "\n",
    "This means that if you don't delete a variable referring to a generator that you no longer care about, you will still consume that memory. In many cases, that's not a big deal, because the whole point of a generator is that it doesn't consume lots of memory, but does things in little pieces.\n",
    "\n"
   ]
  },
  {
   "cell_type": "code",
   "execution_count": 31,
   "id": "08f91f68-5d4b-4f3f-a94a-1d0a6d362bd0",
   "metadata": {},
   "outputs": [],
   "source": [
    "# what about an infinite sequence? That's perfect for a generator!\n",
    "# Fibonacci sequence\n",
    "\n",
    "def fib():\n",
    "    first = 0\n",
    "    second = 1\n",
    "\n",
    "    while True:\n",
    "        yield first\n",
    "        first, second = second, first+second\n",
    "\n",
    "g = fib()        "
   ]
  },
  {
   "cell_type": "code",
   "execution_count": 32,
   "id": "135d1397-38a0-47b7-a7ee-53f13366ecf2",
   "metadata": {},
   "outputs": [],
   "source": [
    "# if I'm really dumb or don't like my computer (or my job), I can say\n",
    "\n",
    "# list(g)"
   ]
  },
  {
   "cell_type": "code",
   "execution_count": 33,
   "id": "ff8f22f1-6063-44f0-bde5-7f065cc4ced2",
   "metadata": {},
   "outputs": [
    {
     "name": "stdout",
     "output_type": "stream",
     "text": [
      "0 1 1 2 3 5 8 13 21 34 55 89 144 233 377 610 987 1597 2584 4181 6765 10946 17711 28657 46368 75025 121393 196418 317811 514229 832040 1346269 2178309 3524578 5702887 9227465 14930352 24157817 39088169 63245986 102334155 165580141 267914296 433494437 701408733 1134903170 1836311903 2971215073 4807526976 7778742049 12586269025 "
     ]
    }
   ],
   "source": [
    "for one_item in g:\n",
    "    print(one_item, end=' ')\n",
    "\n",
    "    if one_item > 10_000_000_000:\n",
    "        break"
   ]
  },
  {
   "cell_type": "markdown",
   "id": "fb34f85d-99c3-4b25-8eed-db68a3bc29b3",
   "metadata": {},
   "source": [
    "# Exercise: `read_n`\n",
    "\n",
    "When we iterate over a file object, we get each line of the file, one at a time. Each returned value is a string ending with `'\\n'`. The final iteration returns an empty string.\n",
    "\n",
    "This works well, because a very large number of files are strucured with one record per line.\n",
    "\n",
    "What if you want to read from a file whose records each take three lines?\n",
    "\n",
    "I want you to write a generator function, `read_n`, that takes two arguments:\n",
    "\n",
    "- `filename`, the name of a text file you want to read from\n",
    "- `n`, an integer, the number of lines from `filename` that should be returned with each iteration\n",
    "\n",
    "The final iteration might contain fewer than `n` lines. \n",
    "\n",
    "The idea is that we can invoke `read_n` with an integer, and then we'll get that many lines back from the file with each iteration.\n",
    "\n",
    "A few things:\n",
    "\n",
    "- If you invoke `readline` on a file, you get back the next line, including the next newline\n",
    "- If you are already at the end of a file, you'll get an empty string back from `readline`"
   ]
  },
  {
   "cell_type": "code",
   "execution_count": 40,
   "id": "364df108-2602-43ab-8a95-3de9f70769de",
   "metadata": {},
   "outputs": [
    {
     "name": "stdout",
     "output_type": "stream",
     "text": [
      "##\n",
      "# User Database\n",
      "# \n",
      "# Note that this file is consulted directly only when the system is running\n",
      "# in single-user mode.  At other times this information is provided by\n",
      "# Open Directory.\n",
      "\n",
      "#\n",
      "# See the opendirectoryd(8) man page for additional information about\n",
      "# Open Directory.\n",
      "##\n",
      "nobody:*:-2:-2:Unprivileged User:/var/empty:/usr/bin/false\n",
      "root:*:0:0:System Administrator:/var/root:/bin/sh\n",
      "\n",
      "daemon:*:1:1:System Services:/var/root:/usr/bin/false\n",
      "_uucp:*:4:4:Unix to Unix Copy Protocol:/var/spool/uucp:/usr/sbin/uucico\n",
      "_taskgated:*:13:13:Task Gate Daemon:/var/empty:/usr/bin/false\n",
      "_networkd:*:24:24:Network Services:/var/networkd:/usr/bin/false\n",
      "_installassistant:*:25:25:Install Assistant:/var/empty:/usr/bin/false\n",
      "_lp:*:26:26:Printing Services:/var/spool/cups:/usr/bin/false\n",
      "\n",
      "_postfix:*:27:27:Postfix Mail Server:/var/spool/postfix:/usr/bin/false\n",
      "_scsd:*:31:31:Service Configuration Service:/var/empty:/usr/bin/false\n",
      "_ces:*:32:32:Certificate Enrollment Service:/var/empty:/usr/bin/false\n",
      "_appstore:*:33:33:Mac App Store Service:/var/db/appstore:/usr/bin/false\n",
      "_mcxalr:*:54:54:MCX AppLaunch:/var/empty:/usr/bin/false\n",
      "_appleevents:*:55:55:AppleEvents Daemon:/var/empty:/usr/bin/false\n",
      "\n",
      "_geod:*:56:56:Geo Services Daemon:/var/db/geod:/usr/bin/false\n",
      "_devdocs:*:59:59:Developer Documentation:/var/empty:/usr/bin/false\n",
      "_sandbox:*:60:60:Seatbelt:/var/empty:/usr/bin/false\n",
      "_mdnsresponder:*:65:65:mDNSResponder:/var/empty:/usr/bin/false\n",
      "_ard:*:67:67:Apple Remote Desktop:/var/empty:/usr/bin/false\n",
      "_www:*:70:70:World Wide Web Server:/Library/WebServer:/usr/bin/false\n",
      "\n",
      "_eppc:*:71:71:Apple Events User:/var/empty:/usr/bin/false\n",
      "_cvs:*:72:72:CVS Server:/var/empty:/usr/bin/false\n",
      "_svn:*:73:73:SVN Server:/var/empty:/usr/bin/false\n",
      "_mysql:*:74:74:MySQL Server:/var/empty:/usr/bin/false\n",
      "_sshd:*:75:75:sshd Privilege separation:/var/empty:/usr/bin/false\n",
      "_qtss:*:76:76:QuickTime Streaming Server:/var/empty:/usr/bin/false\n",
      "\n",
      "_cyrus:*:77:6:Cyrus Administrator:/var/imap:/usr/bin/false\n",
      "_mailman:*:78:78:Mailman List Server:/var/empty:/usr/bin/false\n",
      "_appserver:*:79:79:Application Server:/var/empty:/usr/bin/false\n",
      "_clamav:*:82:82:ClamAV Daemon:/var/virusmails:/usr/bin/false\n",
      "_amavisd:*:83:83:AMaViS Daemon:/var/virusmails:/usr/bin/false\n",
      "_jabber:*:84:84:Jabber XMPP Server:/var/empty:/usr/bin/false\n",
      "\n",
      "_appowner:*:87:87:Application Owner:/var/empty:/usr/bin/false\n",
      "_windowserver:*:88:88:WindowServer:/var/empty:/usr/bin/false\n",
      "_spotlight:*:89:89:Spotlight:/var/empty:/usr/bin/false\n",
      "_tokend:*:91:91:Token Daemon:/var/empty:/usr/bin/false\n",
      "_securityagent:*:92:92:SecurityAgent:/var/db/securityagent:/usr/bin/false\n",
      "_calendar:*:93:93:Calendar:/var/empty:/usr/bin/false\n",
      "\n",
      "_teamsserver:*:94:94:TeamsServer:/var/teamsserver:/usr/bin/false\n",
      "_update_sharing:*:95:-2:Update Sharing:/var/empty:/usr/bin/false\n",
      "_installer:*:96:-2:Installer:/var/empty:/usr/bin/false\n",
      "_atsserver:*:97:97:ATS Server:/var/empty:/usr/bin/false\n",
      "_ftp:*:98:-2:FTP Daemon:/var/empty:/usr/bin/false\n",
      "_unknown:*:99:99:Unknown User:/var/empty:/usr/bin/false\n",
      "\n",
      "_softwareupdate:*:200:200:Software Update Service:/var/db/softwareupdate:/usr/bin/false\n",
      "_coreaudiod:*:202:202:Core Audio Daemon:/var/empty:/usr/bin/false\n",
      "_screensaver:*:203:203:Screensaver:/var/empty:/usr/bin/false\n",
      "_locationd:*:205:205:Location Daemon:/var/db/locationd:/usr/bin/false\n",
      "_trustevaluationagent:*:208:208:Trust Evaluation Agent:/var/empty:/usr/bin/false\n",
      "_timezone:*:210:210:AutoTimeZoneDaemon:/var/empty:/usr/bin/false\n",
      "\n",
      "_lda:*:211:211:Local Delivery Agent:/var/empty:/usr/bin/false\n",
      "_cvmsroot:*:212:212:CVMS Root:/var/empty:/usr/bin/false\n",
      "_usbmuxd:*:213:213:iPhone OS Device Helper:/var/db/lockdown:/usr/bin/false\n",
      "_dovecot:*:214:6:Dovecot Administrator:/var/empty:/usr/bin/false\n",
      "_dpaudio:*:215:215:DP Audio:/var/empty:/usr/bin/false\n",
      "_postgres:*:216:216:PostgreSQL Server:/var/empty:/usr/bin/false\n",
      "\n",
      "_krbtgt:*:217:-2:Kerberos Ticket Granting Ticket:/var/empty:/usr/bin/false\n",
      "_kadmin_admin:*:218:-2:Kerberos Admin Service:/var/empty:/usr/bin/false\n",
      "_kadmin_changepw:*:219:-2:Kerberos Change Password Service:/var/empty:/usr/bin/false\n",
      "_devicemgr:*:220:220:Device Management Server:/var/empty:/usr/bin/false\n",
      "_webauthserver:*:221:221:Web Auth Server:/var/empty:/usr/bin/false\n",
      "_netbios:*:222:222:NetBIOS:/var/empty:/usr/bin/false\n",
      "\n",
      "_warmd:*:224:224:Warm Daemon:/var/empty:/usr/bin/false\n",
      "_dovenull:*:227:227:Dovecot Authentication:/var/empty:/usr/bin/false\n",
      "_netstatistics:*:228:228:Network Statistics Daemon:/var/empty:/usr/bin/false\n",
      "_avbdeviced:*:229:-2:Ethernet AVB Device Daemon:/var/empty:/usr/bin/false\n",
      "_krb_krbtgt:*:230:-2:Open Directory Kerberos Ticket Granting Ticket:/var/empty:/usr/bin/false\n",
      "_krb_kadmin:*:231:-2:Open Directory Kerberos Admin Service:/var/empty:/usr/bin/false\n",
      "\n",
      "_krb_changepw:*:232:-2:Open Directory Kerberos Change Password Service:/var/empty:/usr/bin/false\n",
      "_krb_kerberos:*:233:-2:Open Directory Kerberos:/var/empty:/usr/bin/false\n",
      "_krb_anonymous:*:234:-2:Open Directory Kerberos Anonymous:/var/empty:/usr/bin/false\n",
      "_assetcache:*:235:235:Asset Cache Service:/var/empty:/usr/bin/false\n",
      "_coremediaiod:*:236:236:Core Media IO Daemon:/var/empty:/usr/bin/false\n",
      "_launchservicesd:*:239:239:_launchservicesd:/var/empty:/usr/bin/false\n",
      "\n",
      "_iconservices:*:240:240:IconServices:/var/empty:/usr/bin/false\n",
      "_distnote:*:241:241:DistNote:/var/empty:/usr/bin/false\n",
      "_nsurlsessiond:*:242:242:NSURLSession Daemon:/var/db/nsurlsessiond:/usr/bin/false\n",
      "_displaypolicyd:*:244:244:Display Policy Daemon:/var/empty:/usr/bin/false\n",
      "_astris:*:245:245:Astris Services:/var/db/astris:/usr/bin/false\n",
      "_krbfast:*:246:-2:Kerberos FAST Account:/var/empty:/usr/bin/false\n",
      "\n",
      "_gamecontrollerd:*:247:247:Game Controller Daemon:/var/empty:/usr/bin/false\n",
      "_mbsetupuser:*:248:248:Setup User:/var/setup:/bin/bash\n",
      "_ondemand:*:249:249:On Demand Resource Daemon:/var/db/ondemand:/usr/bin/false\n",
      "_xserverdocs:*:251:251:macOS Server Documents Service:/var/empty:/usr/bin/false\n",
      "_wwwproxy:*:252:252:WWW Proxy:/var/empty:/usr/bin/false\n",
      "_mobileasset:*:253:253:MobileAsset User:/var/ma:/usr/bin/false\n",
      "\n",
      "_findmydevice:*:254:254:Find My Device Daemon:/var/db/findmydevice:/usr/bin/false\n",
      "_datadetectors:*:257:257:DataDetectors:/var/db/datadetectors:/usr/bin/false\n",
      "_captiveagent:*:258:258:captiveagent:/var/empty:/usr/bin/false\n",
      "_ctkd:*:259:259:ctkd Account:/var/empty:/usr/bin/false\n",
      "_applepay:*:260:260:applepay Account:/var/db/applepay:/usr/bin/false\n",
      "_hidd:*:261:261:HID Service User:/var/db/hidd:/usr/bin/false\n",
      "\n",
      "_cmiodalassistants:*:262:262:CoreMedia IO Assistants User:/var/db/cmiodalassistants:/usr/bin/false\n",
      "_analyticsd:*:263:263:Analytics Daemon:/var/db/analyticsd:/usr/bin/false\n",
      "_fpsd:*:265:265:FPS Daemon:/var/db/fpsd:/usr/bin/false\n",
      "_timed:*:266:266:Time Sync Daemon:/var/db/timed:/usr/bin/false\n",
      "_nearbyd:*:268:268:Proximity and Ranging Daemon:/var/db/nearbyd:/usr/bin/false\n",
      "_reportmemoryexception:*:269:269:ReportMemoryException:/var/db/reportmemoryexception:/usr/bin/false\n",
      "\n",
      "_driverkit:*:270:270:DriverKit:/var/empty:/usr/bin/false\n",
      "_diskimagesiod:*:271:271:DiskImages IO Daemon:/var/db/diskimagesiod:/usr/bin/false\n",
      "_logd:*:272:272:Log Daemon:/var/db/diagnostics:/usr/bin/false\n",
      "_appinstalld:*:273:273:App Install Daemon:/var/db/appinstalld:/usr/bin/false\n",
      "_installcoordinationd:*:274:274:Install Coordination Daemon:/var/db/installcoordinationd:/usr/bin/false\n",
      "_demod:*:275:275:Demo Daemon:/var/empty:/usr/bin/false\n",
      "\n",
      "_rmd:*:277:277:Remote Management Daemon:/var/db/rmd:/usr/bin/false\n",
      "_accessoryupdater:*:278:278:Accessory Update Daemon:/var/db/accessoryupdater:/usr/bin/false\n",
      "_knowledgegraphd:*:279:279:Knowledge Graph Daemon:/var/db/knowledgegraphd:/usr/bin/false\n",
      "_coreml:*:280:280:CoreML Services:/var/db/coreml:/usr/bin/false\n",
      "_sntpd:*:281:281:SNTP Server Daemon:/var/empty:/usr/bin/false\n",
      "_trustd:*:282:282:trustd:/var/empty:/usr/bin/false\n",
      "\n",
      "_mmaintenanced:*:283:283:mmaintenanced:/var/db/mmaintenanced:/usr/bin/false\n",
      "_darwindaemon:*:284:284:Darwin Daemon:/var/db/darwindaemon:/usr/bin/false\n",
      "_notification_proxy:*:285:285:Notification Proxy:/var/empty:/usr/bin/false\n",
      "_avphidbridge:*:288:288:Apple Virtual Platform HID Bridge:/var/empty:/usr/bin/false\n",
      "_biome:*:289:289:Biome:/var/db/biome:/usr/bin/false\n",
      "_backgroundassets:*:291:291:Background Assets Service:/var/empty:/usr/bin/false\n",
      "\n",
      "_mobilegestalthelper:*:293:293:MobileGestaltHelper:/var/empty:/usr/bin/false\n",
      "_audiomxd:*:294:294:Audio and MediaExperience Daemon:/var/db/audiomxd:/usr/bin/false\n",
      "_terminusd:*:295:295:Terminus:/var/db/terminus:/usr/bin/false\n",
      "_neuralengine:*:296:296:AppleNeuralEngine:/var/db/neuralengine:/usr/bin/false\n",
      "_eligibilityd:*:297:297:OS Eligibility Daemon:/var/db/eligibilityd:/usr/bin/false\n",
      "_systemstatusd:*:298:298:SystemStatus Services:/var/empty:/usr/bin/false\n",
      "\n",
      "_aonsensed:*:300:300:Always On Sense Daemon:/var/db/aonsensed:/usr/bin/false\n",
      "_modelmanagerd:*:301:301:Model Manager:/var/db/modelmanagerd:/usr/bin/false\n",
      "_reportsystemmemory:*:302:302:ReportSystemMemory:/var/empty:/usr/bin/false\n",
      "_swtransparencyd:*:303:303:Software Transparency Services:/var/db/swtransparencyd:/usr/bin/false\n",
      "_naturallanguaged:*:304:304:Natural Language Services:/var/db/com.apple.naturallanguaged:/usr/bin/false\n",
      "_corespeechd:*:306:306:CoreSpeech Services:/var/empty:/usr/bin/false\n",
      "\n",
      "_diagnosticservicesd:*:307:307:Diagnostic Services:/var/empty:/usr/bin/false\n",
      "_oahd:*:441:441:OAH Daemon:/var/empty:/usr/bin/false\n",
      "\n"
     ]
    }
   ],
   "source": [
    "def read_n(filename, n):\n",
    "    with open(filename) as infile:\n",
    "        while True:\n",
    "            output = []\n",
    "            for counter in range(n):\n",
    "                output.append(infile.readline())\n",
    "\n",
    "            string_output = ''.join(output)\n",
    "\n",
    "            if string_output:\n",
    "                yield string_output\n",
    "            else:\n",
    "                break\n",
    "\n",
    "for one_item in read_n('/etc/passwd', 6):\n",
    "    print(one_item)"
   ]
  },
  {
   "cell_type": "code",
   "execution_count": 41,
   "id": "069159db-c7ed-432c-8cf1-6ed5e81f3996",
   "metadata": {},
   "outputs": [
    {
     "name": "stdout",
     "output_type": "stream",
     "text": [
      "##\n",
      "# User Database\n",
      "# \n",
      "# Note that this file is consulted directly only when the system is running\n",
      "# in single-user mode.  At other times this information is provided by\n",
      "# Open Directory.\n",
      "\n",
      "#\n",
      "# See the opendirectoryd(8) man page for additional information about\n",
      "# Open Directory.\n",
      "##\n",
      "nobody:*:-2:-2:Unprivileged User:/var/empty:/usr/bin/false\n",
      "root:*:0:0:System Administrator:/var/root:/bin/sh\n",
      "\n",
      "daemon:*:1:1:System Services:/var/root:/usr/bin/false\n",
      "_uucp:*:4:4:Unix to Unix Copy Protocol:/var/spool/uucp:/usr/sbin/uucico\n",
      "_taskgated:*:13:13:Task Gate Daemon:/var/empty:/usr/bin/false\n",
      "_networkd:*:24:24:Network Services:/var/networkd:/usr/bin/false\n",
      "_installassistant:*:25:25:Install Assistant:/var/empty:/usr/bin/false\n",
      "_lp:*:26:26:Printing Services:/var/spool/cups:/usr/bin/false\n",
      "\n",
      "_postfix:*:27:27:Postfix Mail Server:/var/spool/postfix:/usr/bin/false\n",
      "_scsd:*:31:31:Service Configuration Service:/var/empty:/usr/bin/false\n",
      "_ces:*:32:32:Certificate Enrollment Service:/var/empty:/usr/bin/false\n",
      "_appstore:*:33:33:Mac App Store Service:/var/db/appstore:/usr/bin/false\n",
      "_mcxalr:*:54:54:MCX AppLaunch:/var/empty:/usr/bin/false\n",
      "_appleevents:*:55:55:AppleEvents Daemon:/var/empty:/usr/bin/false\n",
      "\n",
      "_geod:*:56:56:Geo Services Daemon:/var/db/geod:/usr/bin/false\n",
      "_devdocs:*:59:59:Developer Documentation:/var/empty:/usr/bin/false\n",
      "_sandbox:*:60:60:Seatbelt:/var/empty:/usr/bin/false\n",
      "_mdnsresponder:*:65:65:mDNSResponder:/var/empty:/usr/bin/false\n",
      "_ard:*:67:67:Apple Remote Desktop:/var/empty:/usr/bin/false\n",
      "_www:*:70:70:World Wide Web Server:/Library/WebServer:/usr/bin/false\n",
      "\n",
      "_eppc:*:71:71:Apple Events User:/var/empty:/usr/bin/false\n",
      "_cvs:*:72:72:CVS Server:/var/empty:/usr/bin/false\n",
      "_svn:*:73:73:SVN Server:/var/empty:/usr/bin/false\n",
      "_mysql:*:74:74:MySQL Server:/var/empty:/usr/bin/false\n",
      "_sshd:*:75:75:sshd Privilege separation:/var/empty:/usr/bin/false\n",
      "_qtss:*:76:76:QuickTime Streaming Server:/var/empty:/usr/bin/false\n",
      "\n",
      "_cyrus:*:77:6:Cyrus Administrator:/var/imap:/usr/bin/false\n",
      "_mailman:*:78:78:Mailman List Server:/var/empty:/usr/bin/false\n",
      "_appserver:*:79:79:Application Server:/var/empty:/usr/bin/false\n",
      "_clamav:*:82:82:ClamAV Daemon:/var/virusmails:/usr/bin/false\n",
      "_amavisd:*:83:83:AMaViS Daemon:/var/virusmails:/usr/bin/false\n",
      "_jabber:*:84:84:Jabber XMPP Server:/var/empty:/usr/bin/false\n",
      "\n",
      "_appowner:*:87:87:Application Owner:/var/empty:/usr/bin/false\n",
      "_windowserver:*:88:88:WindowServer:/var/empty:/usr/bin/false\n",
      "_spotlight:*:89:89:Spotlight:/var/empty:/usr/bin/false\n",
      "_tokend:*:91:91:Token Daemon:/var/empty:/usr/bin/false\n",
      "_securityagent:*:92:92:SecurityAgent:/var/db/securityagent:/usr/bin/false\n",
      "_calendar:*:93:93:Calendar:/var/empty:/usr/bin/false\n",
      "\n",
      "_teamsserver:*:94:94:TeamsServer:/var/teamsserver:/usr/bin/false\n",
      "_update_sharing:*:95:-2:Update Sharing:/var/empty:/usr/bin/false\n",
      "_installer:*:96:-2:Installer:/var/empty:/usr/bin/false\n",
      "_atsserver:*:97:97:ATS Server:/var/empty:/usr/bin/false\n",
      "_ftp:*:98:-2:FTP Daemon:/var/empty:/usr/bin/false\n",
      "_unknown:*:99:99:Unknown User:/var/empty:/usr/bin/false\n",
      "\n",
      "_softwareupdate:*:200:200:Software Update Service:/var/db/softwareupdate:/usr/bin/false\n",
      "_coreaudiod:*:202:202:Core Audio Daemon:/var/empty:/usr/bin/false\n",
      "_screensaver:*:203:203:Screensaver:/var/empty:/usr/bin/false\n",
      "_locationd:*:205:205:Location Daemon:/var/db/locationd:/usr/bin/false\n",
      "_trustevaluationagent:*:208:208:Trust Evaluation Agent:/var/empty:/usr/bin/false\n",
      "_timezone:*:210:210:AutoTimeZoneDaemon:/var/empty:/usr/bin/false\n",
      "\n",
      "_lda:*:211:211:Local Delivery Agent:/var/empty:/usr/bin/false\n",
      "_cvmsroot:*:212:212:CVMS Root:/var/empty:/usr/bin/false\n",
      "_usbmuxd:*:213:213:iPhone OS Device Helper:/var/db/lockdown:/usr/bin/false\n",
      "_dovecot:*:214:6:Dovecot Administrator:/var/empty:/usr/bin/false\n",
      "_dpaudio:*:215:215:DP Audio:/var/empty:/usr/bin/false\n",
      "_postgres:*:216:216:PostgreSQL Server:/var/empty:/usr/bin/false\n",
      "\n",
      "_krbtgt:*:217:-2:Kerberos Ticket Granting Ticket:/var/empty:/usr/bin/false\n",
      "_kadmin_admin:*:218:-2:Kerberos Admin Service:/var/empty:/usr/bin/false\n",
      "_kadmin_changepw:*:219:-2:Kerberos Change Password Service:/var/empty:/usr/bin/false\n",
      "_devicemgr:*:220:220:Device Management Server:/var/empty:/usr/bin/false\n",
      "_webauthserver:*:221:221:Web Auth Server:/var/empty:/usr/bin/false\n",
      "_netbios:*:222:222:NetBIOS:/var/empty:/usr/bin/false\n",
      "\n",
      "_warmd:*:224:224:Warm Daemon:/var/empty:/usr/bin/false\n",
      "_dovenull:*:227:227:Dovecot Authentication:/var/empty:/usr/bin/false\n",
      "_netstatistics:*:228:228:Network Statistics Daemon:/var/empty:/usr/bin/false\n",
      "_avbdeviced:*:229:-2:Ethernet AVB Device Daemon:/var/empty:/usr/bin/false\n",
      "_krb_krbtgt:*:230:-2:Open Directory Kerberos Ticket Granting Ticket:/var/empty:/usr/bin/false\n",
      "_krb_kadmin:*:231:-2:Open Directory Kerberos Admin Service:/var/empty:/usr/bin/false\n",
      "\n",
      "_krb_changepw:*:232:-2:Open Directory Kerberos Change Password Service:/var/empty:/usr/bin/false\n",
      "_krb_kerberos:*:233:-2:Open Directory Kerberos:/var/empty:/usr/bin/false\n",
      "_krb_anonymous:*:234:-2:Open Directory Kerberos Anonymous:/var/empty:/usr/bin/false\n",
      "_assetcache:*:235:235:Asset Cache Service:/var/empty:/usr/bin/false\n",
      "_coremediaiod:*:236:236:Core Media IO Daemon:/var/empty:/usr/bin/false\n",
      "_launchservicesd:*:239:239:_launchservicesd:/var/empty:/usr/bin/false\n",
      "\n",
      "_iconservices:*:240:240:IconServices:/var/empty:/usr/bin/false\n",
      "_distnote:*:241:241:DistNote:/var/empty:/usr/bin/false\n",
      "_nsurlsessiond:*:242:242:NSURLSession Daemon:/var/db/nsurlsessiond:/usr/bin/false\n",
      "_displaypolicyd:*:244:244:Display Policy Daemon:/var/empty:/usr/bin/false\n",
      "_astris:*:245:245:Astris Services:/var/db/astris:/usr/bin/false\n",
      "_krbfast:*:246:-2:Kerberos FAST Account:/var/empty:/usr/bin/false\n",
      "\n",
      "_gamecontrollerd:*:247:247:Game Controller Daemon:/var/empty:/usr/bin/false\n",
      "_mbsetupuser:*:248:248:Setup User:/var/setup:/bin/bash\n",
      "_ondemand:*:249:249:On Demand Resource Daemon:/var/db/ondemand:/usr/bin/false\n",
      "_xserverdocs:*:251:251:macOS Server Documents Service:/var/empty:/usr/bin/false\n",
      "_wwwproxy:*:252:252:WWW Proxy:/var/empty:/usr/bin/false\n",
      "_mobileasset:*:253:253:MobileAsset User:/var/ma:/usr/bin/false\n",
      "\n",
      "_findmydevice:*:254:254:Find My Device Daemon:/var/db/findmydevice:/usr/bin/false\n",
      "_datadetectors:*:257:257:DataDetectors:/var/db/datadetectors:/usr/bin/false\n",
      "_captiveagent:*:258:258:captiveagent:/var/empty:/usr/bin/false\n",
      "_ctkd:*:259:259:ctkd Account:/var/empty:/usr/bin/false\n",
      "_applepay:*:260:260:applepay Account:/var/db/applepay:/usr/bin/false\n",
      "_hidd:*:261:261:HID Service User:/var/db/hidd:/usr/bin/false\n",
      "\n",
      "_cmiodalassistants:*:262:262:CoreMedia IO Assistants User:/var/db/cmiodalassistants:/usr/bin/false\n",
      "_analyticsd:*:263:263:Analytics Daemon:/var/db/analyticsd:/usr/bin/false\n",
      "_fpsd:*:265:265:FPS Daemon:/var/db/fpsd:/usr/bin/false\n",
      "_timed:*:266:266:Time Sync Daemon:/var/db/timed:/usr/bin/false\n",
      "_nearbyd:*:268:268:Proximity and Ranging Daemon:/var/db/nearbyd:/usr/bin/false\n",
      "_reportmemoryexception:*:269:269:ReportMemoryException:/var/db/reportmemoryexception:/usr/bin/false\n",
      "\n",
      "_driverkit:*:270:270:DriverKit:/var/empty:/usr/bin/false\n",
      "_diskimagesiod:*:271:271:DiskImages IO Daemon:/var/db/diskimagesiod:/usr/bin/false\n",
      "_logd:*:272:272:Log Daemon:/var/db/diagnostics:/usr/bin/false\n",
      "_appinstalld:*:273:273:App Install Daemon:/var/db/appinstalld:/usr/bin/false\n",
      "_installcoordinationd:*:274:274:Install Coordination Daemon:/var/db/installcoordinationd:/usr/bin/false\n",
      "_demod:*:275:275:Demo Daemon:/var/empty:/usr/bin/false\n",
      "\n",
      "_rmd:*:277:277:Remote Management Daemon:/var/db/rmd:/usr/bin/false\n",
      "_accessoryupdater:*:278:278:Accessory Update Daemon:/var/db/accessoryupdater:/usr/bin/false\n",
      "_knowledgegraphd:*:279:279:Knowledge Graph Daemon:/var/db/knowledgegraphd:/usr/bin/false\n",
      "_coreml:*:280:280:CoreML Services:/var/db/coreml:/usr/bin/false\n",
      "_sntpd:*:281:281:SNTP Server Daemon:/var/empty:/usr/bin/false\n",
      "_trustd:*:282:282:trustd:/var/empty:/usr/bin/false\n",
      "\n",
      "_mmaintenanced:*:283:283:mmaintenanced:/var/db/mmaintenanced:/usr/bin/false\n",
      "_darwindaemon:*:284:284:Darwin Daemon:/var/db/darwindaemon:/usr/bin/false\n",
      "_notification_proxy:*:285:285:Notification Proxy:/var/empty:/usr/bin/false\n",
      "_avphidbridge:*:288:288:Apple Virtual Platform HID Bridge:/var/empty:/usr/bin/false\n",
      "_biome:*:289:289:Biome:/var/db/biome:/usr/bin/false\n",
      "_backgroundassets:*:291:291:Background Assets Service:/var/empty:/usr/bin/false\n",
      "\n",
      "_mobilegestalthelper:*:293:293:MobileGestaltHelper:/var/empty:/usr/bin/false\n",
      "_audiomxd:*:294:294:Audio and MediaExperience Daemon:/var/db/audiomxd:/usr/bin/false\n",
      "_terminusd:*:295:295:Terminus:/var/db/terminus:/usr/bin/false\n",
      "_neuralengine:*:296:296:AppleNeuralEngine:/var/db/neuralengine:/usr/bin/false\n",
      "_eligibilityd:*:297:297:OS Eligibility Daemon:/var/db/eligibilityd:/usr/bin/false\n",
      "_systemstatusd:*:298:298:SystemStatus Services:/var/empty:/usr/bin/false\n",
      "\n",
      "_aonsensed:*:300:300:Always On Sense Daemon:/var/db/aonsensed:/usr/bin/false\n",
      "_modelmanagerd:*:301:301:Model Manager:/var/db/modelmanagerd:/usr/bin/false\n",
      "_reportsystemmemory:*:302:302:ReportSystemMemory:/var/empty:/usr/bin/false\n",
      "_swtransparencyd:*:303:303:Software Transparency Services:/var/db/swtransparencyd:/usr/bin/false\n",
      "_naturallanguaged:*:304:304:Natural Language Services:/var/db/com.apple.naturallanguaged:/usr/bin/false\n",
      "_corespeechd:*:306:306:CoreSpeech Services:/var/empty:/usr/bin/false\n",
      "\n",
      "_diagnosticservicesd:*:307:307:Diagnostic Services:/var/empty:/usr/bin/false\n",
      "_oahd:*:441:441:OAH Daemon:/var/empty:/usr/bin/false\n",
      "\n"
     ]
    }
   ],
   "source": [
    "# list comprehension\n",
    "\n",
    "def read_n(filename, n):\n",
    "    with open(filename) as infile:\n",
    "        while True:\n",
    "            string_output = ''.join([infile.readline()\n",
    "                                    for counter in range(n)])\n",
    "\n",
    "            if string_output:\n",
    "                yield string_output\n",
    "            else:\n",
    "                break\n",
    "\n",
    "for one_item in read_n('/etc/passwd', 6):\n",
    "    print(one_item)"
   ]
  },
  {
   "cell_type": "code",
   "execution_count": 42,
   "id": "46468a4b-02f2-48b7-81c3-6f9300695747",
   "metadata": {},
   "outputs": [],
   "source": [
    "g = read_n('/etc/passwd', 6)"
   ]
  },
  {
   "cell_type": "code",
   "execution_count": 43,
   "id": "f08b0160-8014-4a3d-9f03-75f22cfe8424",
   "metadata": {},
   "outputs": [
    {
     "data": {
      "text/plain": [
       "'##\\n# User Database\\n# \\n# Note that this file is consulted directly only when the system is running\\n# in single-user mode.  At other times this information is provided by\\n# Open Directory.\\n'"
      ]
     },
     "execution_count": 43,
     "metadata": {},
     "output_type": "execute_result"
    }
   ],
   "source": [
    "next(g)"
   ]
  },
  {
   "cell_type": "code",
   "execution_count": 44,
   "id": "2c422fd8-e400-4165-9eaf-55d465ecb5d2",
   "metadata": {},
   "outputs": [
    {
     "data": {
      "text/plain": [
       "'#\\n# See the opendirectoryd(8) man page for additional information about\\n# Open Directory.\\n##\\nnobody:*:-2:-2:Unprivileged User:/var/empty:/usr/bin/false\\nroot:*:0:0:System Administrator:/var/root:/bin/sh\\n'"
      ]
     },
     "execution_count": 44,
     "metadata": {},
     "output_type": "execute_result"
    }
   ],
   "source": [
    "next(g)"
   ]
  },
  {
   "cell_type": "code",
   "execution_count": 45,
   "id": "93f8e228-e4a0-4c0b-b62b-72b854ca8259",
   "metadata": {},
   "outputs": [
    {
     "data": {
      "text/plain": [
       "'daemon:*:1:1:System Services:/var/root:/usr/bin/false\\n_uucp:*:4:4:Unix to Unix Copy Protocol:/var/spool/uucp:/usr/sbin/uucico\\n_taskgated:*:13:13:Task Gate Daemon:/var/empty:/usr/bin/false\\n_networkd:*:24:24:Network Services:/var/networkd:/usr/bin/false\\n_installassistant:*:25:25:Install Assistant:/var/empty:/usr/bin/false\\n_lp:*:26:26:Printing Services:/var/spool/cups:/usr/bin/false\\n'"
      ]
     },
     "execution_count": 45,
     "metadata": {},
     "output_type": "execute_result"
    }
   ],
   "source": [
    "next(g)"
   ]
  },
  {
   "cell_type": "code",
   "execution_count": 46,
   "id": "420221f6-f022-4f11-bce9-4fbf870b2e0f",
   "metadata": {},
   "outputs": [
    {
     "data": {
      "text/plain": [
       "<generator object read_n at 0x1085088c0>"
      ]
     },
     "execution_count": 46,
     "metadata": {},
     "output_type": "execute_result"
    }
   ],
   "source": [
    "# what is really happening inside of the generator object?\n",
    "\n",
    "g"
   ]
  },
  {
   "cell_type": "code",
   "execution_count": 47,
   "id": "792a1498-185b-40e1-86bb-944a4bc764e1",
   "metadata": {},
   "outputs": [
    {
     "data": {
      "text/plain": [
       "False"
      ]
     },
     "execution_count": 47,
     "metadata": {},
     "output_type": "execute_result"
    }
   ],
   "source": [
    "g.gi_running  # is the generator currently running?"
   ]
  },
  {
   "cell_type": "code",
   "execution_count": 48,
   "id": "5665f56b-05af-4541-a67f-66d8ff21dc9b",
   "metadata": {},
   "outputs": [
    {
     "data": {
      "text/plain": [
       "<code object read_n at 0x108510570, file \"/var/folders/n7/3xckdj8j3dz45qz4xnlk1fy40000gn/T/ipykernel_44593/1366442129.py\", line 3>"
      ]
     },
     "execution_count": 48,
     "metadata": {},
     "output_type": "execute_result"
    }
   ],
   "source": [
    "g.gi_code   # this is the code object, which contains the bytecode and lots of hints, like a function"
   ]
  },
  {
   "cell_type": "code",
   "execution_count": 50,
   "id": "35be9eb7-2772-4200-8338-983eab76a3a2",
   "metadata": {},
   "outputs": [
    {
     "data": {
      "text/plain": [
       "('filename', 'n', 'infile', 'counter', 'string_output')"
      ]
     },
     "execution_count": 50,
     "metadata": {},
     "output_type": "execute_result"
    }
   ],
   "source": [
    "g.gi_code.co_varnames"
   ]
  },
  {
   "cell_type": "code",
   "execution_count": 51,
   "id": "6021cd2f-477a-40be-b26a-cc71ac7f6f7b",
   "metadata": {},
   "outputs": [
    {
     "data": {
      "text/plain": [
       "2"
      ]
     },
     "execution_count": 51,
     "metadata": {},
     "output_type": "execute_result"
    }
   ],
   "source": [
    "g.gi_code.co_argcount"
   ]
  },
  {
   "cell_type": "code",
   "execution_count": 52,
   "id": "f5769a4a-e1a3-469b-8b12-825728c8f80c",
   "metadata": {},
   "outputs": [
    {
     "data": {
      "text/plain": [
       "<frame at 0x1087bca40, file '/var/folders/n7/3xckdj8j3dz45qz4xnlk1fy40000gn/T/ipykernel_44593/1366442129.py', line 10, code read_n>"
      ]
     },
     "execution_count": 52,
     "metadata": {},
     "output_type": "execute_result"
    }
   ],
   "source": [
    "# this is the stack frame for the function that is running\n",
    "g.gi_frame"
   ]
  },
  {
   "cell_type": "code",
   "execution_count": 53,
   "id": "b838d920-876d-45dd-a5ae-485f4edc6ae3",
   "metadata": {},
   "outputs": [
    {
     "data": {
      "text/plain": [
       "10"
      ]
     },
     "execution_count": 53,
     "metadata": {},
     "output_type": "execute_result"
    }
   ],
   "source": [
    "g.gi_frame.f_lineno"
   ]
  },
  {
   "cell_type": "code",
   "execution_count": 54,
   "id": "ca129da1-d151-4870-b188-c8523750ba56",
   "metadata": {},
   "outputs": [
    {
     "data": {
      "text/plain": [
       "{'filename': '/etc/passwd', 'n': 6, 'infile': <_io.TextIOWrapper name='/etc/passwd' mode='r' encoding='UTF-8'>, 'string_output': 'daemon:*:1:1:System Services:/var/root:/usr/bin/false\\n_uucp:*:4:4:Unix to Unix Copy Protocol:/var/spool/uucp:/usr/sbin/uucico\\n_taskgated:*:13:13:Task Gate Daemon:/var/empty:/usr/bin/false\\n_networkd:*:24:24:Network Services:/var/networkd:/usr/bin/false\\n_installassistant:*:25:25:Install Assistant:/var/empty:/usr/bin/false\\n_lp:*:26:26:Printing Services:/var/spool/cups:/usr/bin/false\\n'}"
      ]
     },
     "execution_count": 54,
     "metadata": {},
     "output_type": "execute_result"
    }
   ],
   "source": [
    "g.gi_frame.f_locals"
   ]
  },
  {
   "cell_type": "markdown",
   "id": "e7d43e18-7cce-4503-90c8-50d75caae530",
   "metadata": {},
   "source": [
    "# Comprehensions\n",
    "\n",
    "You've seen list comprehensions"
   ]
  },
  {
   "cell_type": "code",
   "execution_count": 55,
   "id": "94feffeb-9258-441d-a458-be077080f7ee",
   "metadata": {},
   "outputs": [
    {
     "data": {
      "text/plain": [
       "[25, 16, 9, 4, 1, 0, 1, 4, 9, 16]"
      ]
     },
     "execution_count": 55,
     "metadata": {},
     "output_type": "execute_result"
    }
   ],
   "source": [
    "[x ** 2\n",
    " for x in range(-5, 5)]"
   ]
  },
  {
   "cell_type": "code",
   "execution_count": 56,
   "id": "88cb8248-f032-4006-85f0-f59f3652e0a6",
   "metadata": {},
   "outputs": [
    {
     "data": {
      "text/plain": [
       "{0, 1, 4, 9, 16, 25}"
      ]
     },
     "execution_count": 56,
     "metadata": {},
     "output_type": "execute_result"
    }
   ],
   "source": [
    "# set comprehensions\n",
    "\n",
    "{x ** 2\n",
    " for x in range(-5, 5)}"
   ]
  },
  {
   "cell_type": "code",
   "execution_count": 58,
   "id": "b38313b6-40da-47c9-a1b8-7f7949486d6c",
   "metadata": {},
   "outputs": [
    {
     "data": {
      "text/plain": [
       "{-5: 25, -4: 16, -3: 9, -2: 4, -1: 1, 0: 0, 1: 1, 2: 4, 3: 9, 4: 16}"
      ]
     },
     "execution_count": 58,
     "metadata": {},
     "output_type": "execute_result"
    }
   ],
   "source": [
    "# dict comprehensions\n",
    "\n",
    "{x : x ** 2\n",
    " for x in range(-5, 5)}"
   ]
  },
  {
   "cell_type": "code",
   "execution_count": 59,
   "id": "04328aaf-cc44-4d49-ab25-e5667fe1ba4a",
   "metadata": {},
   "outputs": [
    {
     "data": {
      "text/plain": [
       "<generator object <genexpr> at 0x108463370>"
      ]
     },
     "execution_count": 59,
     "metadata": {},
     "output_type": "execute_result"
    }
   ],
   "source": [
    "# many people see this, and say: What about round parentheses, () ?\n",
    "# they try it, thinking theyll get a \"tuple comprehension\"\n",
    "\n",
    "(x ** 2\n",
    " for x in range(-5, 5))"
   ]
  },
  {
   "cell_type": "markdown",
   "id": "f2ac0563-9b3c-490d-aaad-24530cbed925",
   "metadata": {},
   "source": [
    "The core Python developers decided it would be useful to be able to create generators even more easily than with generator functions. They used comprehension syntax to let us create \"generator expressions,\" or \"generator comprehensions.\"\n",
    "\n",
    "When use a generator comprehension?\n",
    "\n",
    "- If you have an iterable\n",
    "- You want to invoke a function, method, or operator on each element of the iterable\n",
    "- You want to return those values in an iteable, but not necessarily in a list\n",
    "\n",
    "Another way to say this: You want a list comprehension, but without the potential for extreme memory usage that a list would produce.\n",
    "\n",
    "There are many people nowadays who almost only use generator comprehensions, and almost never use list comprehension."
   ]
  },
  {
   "cell_type": "code",
   "execution_count": 60,
   "id": "b301349c-9513-4749-b71d-b4f1da35c9ba",
   "metadata": {},
   "outputs": [],
   "source": [
    "numbers = [10, 11, 15, 17, 20, 22,23, 29, 32]\n",
    "\n",
    "g = (one_number\n",
    "    for one_number in numbers\n",
    "    if one_number % 2 == 0)"
   ]
  },
  {
   "cell_type": "code",
   "execution_count": 61,
   "id": "4cfec181-0210-4f63-8be7-6975a2075079",
   "metadata": {},
   "outputs": [
    {
     "data": {
      "text/plain": [
       "[10, 20, 22, 32]"
      ]
     },
     "execution_count": 61,
     "metadata": {},
     "output_type": "execute_result"
    }
   ],
   "source": [
    "list(g)"
   ]
  },
  {
   "cell_type": "code",
   "execution_count": 62,
   "id": "835b5420-f8d5-489d-98d8-bc15c6f9c0c2",
   "metadata": {},
   "outputs": [],
   "source": [
    "# if you want it as a function, you can use a regular function that *returns* a generator expression.\n",
    "# this is equivalent to implementing the function and having it return a generator comprehension."
   ]
  },
  {
   "cell_type": "code",
   "execution_count": 63,
   "id": "e7a94274-2ba1-4cf0-9aab-04013343e0a5",
   "metadata": {},
   "outputs": [],
   "source": [
    "def evens_only(numbers):\n",
    "    return (one_number\n",
    "    for one_number in numbers\n",
    "    if one_number % 2 == 0)    "
   ]
  },
  {
   "cell_type": "code",
   "execution_count": 65,
   "id": "2730eec5-4d32-477e-9684-7ba708422f85",
   "metadata": {},
   "outputs": [
    {
     "data": {
      "text/plain": [
       "[10, 20, 22, 32]"
      ]
     },
     "execution_count": 65,
     "metadata": {},
     "output_type": "execute_result"
    }
   ],
   "source": [
    "list(evens_only([10, 11, 15, 17, 20, 22,23, 29, 32]))"
   ]
  },
  {
   "cell_type": "markdown",
   "id": "b81343cc-749f-4687-94f0-86b4630c16fd",
   "metadata": {},
   "source": [
    "# Exercise: Word lengths\n",
    "\n",
    "1. Define a string containing several words.\n",
    "2. Use a generator expression to calculate the total of all word lengths in the string.  (The comprehension should return the length of each word, and you then run `sum` on the output to get the total number.)"
   ]
  },
  {
   "cell_type": "code",
   "execution_count": 70,
   "id": "5456adb9-772f-46c5-90e8-612db91bf228",
   "metadata": {},
   "outputs": [
    {
     "data": {
      "text/plain": [
       "40"
      ]
     },
     "execution_count": 70,
     "metadata": {},
     "output_type": "execute_result"
    }
   ],
   "source": [
    "s = 'this is a bunch of words for my generators course'\n",
    "\n",
    "sum(len(one_word)\n",
    "    for one_word in s.split()\n",
    "   )"
   ]
  },
  {
   "cell_type": "code",
   "execution_count": null,
   "id": "3b46625a-2f41-4093-98a1-1d1439eb78cb",
   "metadata": {},
   "outputs": [],
   "source": []
  }
 ],
 "metadata": {
  "kernelspec": {
   "display_name": "Python 3 (ipykernel)",
   "language": "python",
   "name": "python3"
  },
  "language_info": {
   "codemirror_mode": {
    "name": "ipython",
    "version": 3
   },
   "file_extension": ".py",
   "mimetype": "text/x-python",
   "name": "python",
   "nbconvert_exporter": "python",
   "pygments_lexer": "ipython3",
   "version": "3.13.5"
  },
  "widgets": {
   "application/vnd.jupyter.widget-state+json": {
    "state": {},
    "version_major": 2,
    "version_minor": 0
   }
  }
 },
 "nbformat": 4,
 "nbformat_minor": 5
}
