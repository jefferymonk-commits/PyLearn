{
 "cells": [
  {
   "cell_type": "markdown",
   "id": "ac011ec3-a131-4e68-80f3-1328671021cd",
   "metadata": {},
   "source": [
    "# Agenda: Making your classes iterable\n",
    "\n",
    "1. What is the iterator protocol in Python?\n",
    "2. How can we implement this protocol in our own classes?\n",
    "3. How can we do it even better with two classes?\n",
    "4. Using generators for yet a third way to accomplish things"
   ]
  },
  {
   "cell_type": "markdown",
   "id": "83527004-9fad-4dcc-a32b-bb24e09b4664",
   "metadata": {},
   "source": [
    "# Iterator protocol\n",
    "\n",
    "One of the first things that people learn when they learn Python is that they can iterate over a number of different data structures with a `for` loop."
   ]
  },
  {
   "cell_type": "code",
   "execution_count": 1,
   "id": "a3c01089-833c-4088-bf53-0d51a49911c8",
   "metadata": {},
   "outputs": [
    {
     "name": "stdout",
     "output_type": "stream",
     "text": [
      "a\n",
      "b\n",
      "c\n",
      "d\n"
     ]
    }
   ],
   "source": [
    "for one_character in 'abcd':\n",
    "    print(one_character)"
   ]
  },
  {
   "cell_type": "code",
   "execution_count": 2,
   "id": "cf664c03-8a1b-42fa-b7b4-fb866e7c25be",
   "metadata": {},
   "outputs": [
    {
     "name": "stdout",
     "output_type": "stream",
     "text": [
      "10\n",
      "20\n",
      "30\n"
     ]
    }
   ],
   "source": [
    "for one_item in [10, 20, 30]:\n",
    "    print(one_item)"
   ]
  },
  {
   "cell_type": "markdown",
   "id": "6a138abe-46a1-49b4-a20e-008359c6408b",
   "metadata": {},
   "source": [
    "# What's happening here? How can this be?\n",
    "\n",
    "1. The `for` loop asks the object at the end of the line: Are you iterable?\n",
    "   - If the answer is \"no,\" then we get a `TypeError` exception, and the loop (and program) ends\n",
    "2. If we didn't get an error, then the `for` loop asks the object for its next value\n",
    "    - If there are no more values, then the object raises `StopIteration`\n",
    "3. The value is assigned to the loop variable\n",
    "4. The body of the loop executes with that loop variable assigned\n",
    "5. We go back to step 2, asking for the next value"
   ]
  },
  {
   "cell_type": "code",
   "execution_count": 3,
   "id": "d4d91e32-3cb6-4e28-8e87-bc9946fe76c1",
   "metadata": {},
   "outputs": [
    {
     "ename": "TypeError",
     "evalue": "'int' object is not iterable",
     "output_type": "error",
     "traceback": [
      "\u001b[0;31m---------------------------------------------------------------------------\u001b[0m",
      "\u001b[0;31mTypeError\u001b[0m                                 Traceback (most recent call last)",
      "Cell \u001b[0;32mIn[3], line 1\u001b[0m\n\u001b[0;32m----> 1\u001b[0m \u001b[38;5;28;43;01mfor\u001b[39;49;00m\u001b[43m \u001b[49m\u001b[43mcounter\u001b[49m\u001b[43m \u001b[49m\u001b[38;5;129;43;01min\u001b[39;49;00m\u001b[43m \u001b[49m\u001b[38;5;241;43m5\u001b[39;49m\u001b[43m:\u001b[49m\n\u001b[1;32m      2\u001b[0m \u001b[43m    \u001b[49m\u001b[38;5;28;43mprint\u001b[39;49m\u001b[43m(\u001b[49m\u001b[43mcounter\u001b[49m\u001b[43m)\u001b[49m\n",
      "\u001b[0;31mTypeError\u001b[0m: 'int' object is not iterable"
     ]
    }
   ],
   "source": [
    "for counter in 5:\n",
    "    print(counter)"
   ]
  },
  {
   "cell_type": "code",
   "execution_count": 4,
   "id": "70fad42d-1261-4295-b40b-cb15d567faab",
   "metadata": {},
   "outputs": [
    {
     "name": "stdout",
     "output_type": "stream",
     "text": [
      "0\n",
      "1\n",
      "2\n",
      "3\n",
      "4\n"
     ]
    }
   ],
   "source": [
    "for counter in range(5):\n",
    "    print(counter)"
   ]
  },
  {
   "cell_type": "markdown",
   "id": "6651f1fc-f816-4381-b249-6d5f9b2617f1",
   "metadata": {},
   "source": [
    "# `for` loops are pretty dumb!\n",
    "\n",
    "- The loop doesn't know how many iterations we'll have, and doesn't control it\n",
    "- The loop doesn't know what values we'll get back, what type they are, or how many there will be\n",
    "- There is no index!"
   ]
  },
  {
   "cell_type": "markdown",
   "id": "d0f63d5c-69cf-4381-8492-2b3b01304653",
   "metadata": {},
   "source": [
    "# The whole protocol is\n",
    "\n",
    "- `iter`\n",
    "- `next`\n",
    "- `StopIteration`\n",
    "\n",
    "Let's rewrite what we said before, and integrate these pieces.\n",
    "\n",
    "1. The `for` loop invokes `iter` on the object at the end of the line. The value we get back is known as an `iterator`.\n",
    "   - If the value is not iterable, then we get a `TypeError` exception, and the loop (and program) ends\n",
    "2. If we didn't get an error, then the `for` loop invokes `next` on the returned iterator object\n",
    "    - If there are no more values, then the iterator raises `StopIteration`\n",
    "3. The value is assigned to the loop variable\n",
    "4. The body of the loop executes with that loop variable assigned\n",
    "5. We go back to step 2, asking for the next value"
   ]
  },
  {
   "cell_type": "code",
   "execution_count": 5,
   "id": "8fed25d1-96c4-4787-94bd-4512bddabc91",
   "metadata": {},
   "outputs": [
    {
     "ename": "TypeError",
     "evalue": "'int' object is not iterable",
     "output_type": "error",
     "traceback": [
      "\u001b[0;31m---------------------------------------------------------------------------\u001b[0m",
      "\u001b[0;31mTypeError\u001b[0m                                 Traceback (most recent call last)",
      "Cell \u001b[0;32mIn[5], line 1\u001b[0m\n\u001b[0;32m----> 1\u001b[0m \u001b[38;5;28;43miter\u001b[39;49m\u001b[43m(\u001b[49m\u001b[38;5;241;43m5\u001b[39;49m\u001b[43m)\u001b[49m\n",
      "\u001b[0;31mTypeError\u001b[0m: 'int' object is not iterable"
     ]
    }
   ],
   "source": [
    "iter(5)"
   ]
  },
  {
   "cell_type": "code",
   "execution_count": 6,
   "id": "db41137e-ccfb-499c-b855-d9b8bd30b2b0",
   "metadata": {},
   "outputs": [],
   "source": [
    "s = 'abcde'"
   ]
  },
  {
   "cell_type": "code",
   "execution_count": 7,
   "id": "8cd4f727-aad7-4a22-9fa4-c26a334e719d",
   "metadata": {},
   "outputs": [
    {
     "data": {
      "text/plain": [
       "<str_ascii_iterator at 0x1103abc10>"
      ]
     },
     "execution_count": 7,
     "metadata": {},
     "output_type": "execute_result"
    }
   ],
   "source": [
    "iter(s)"
   ]
  },
  {
   "cell_type": "code",
   "execution_count": 8,
   "id": "ee790f76-f825-4bf6-9580-4aaf2f66ede4",
   "metadata": {},
   "outputs": [
    {
     "data": {
      "text/plain": [
       "<str_ascii_iterator at 0x1103abe50>"
      ]
     },
     "execution_count": 8,
     "metadata": {},
     "output_type": "execute_result"
    }
   ],
   "source": [
    "iter(s)"
   ]
  },
  {
   "cell_type": "code",
   "execution_count": 9,
   "id": "d626d543-fa7a-41cd-b5f7-02cacdf34235",
   "metadata": {},
   "outputs": [
    {
     "data": {
      "text/plain": [
       "<str_ascii_iterator at 0x1103aba30>"
      ]
     },
     "execution_count": 9,
     "metadata": {},
     "output_type": "execute_result"
    }
   ],
   "source": [
    "iter(s)"
   ]
  },
  {
   "cell_type": "code",
   "execution_count": 10,
   "id": "23417f13-d207-4f42-8bad-0bd9be934d58",
   "metadata": {},
   "outputs": [],
   "source": [
    "f = open('/etc/passwd')"
   ]
  },
  {
   "cell_type": "code",
   "execution_count": 11,
   "id": "bc5425d0-7a3b-4a93-a9d7-58f7a030a75f",
   "metadata": {},
   "outputs": [
    {
     "data": {
      "text/plain": [
       "<_io.TextIOWrapper name='/etc/passwd' mode='r' encoding='UTF-8'>"
      ]
     },
     "execution_count": 11,
     "metadata": {},
     "output_type": "execute_result"
    }
   ],
   "source": [
    "iter(f)"
   ]
  },
  {
   "cell_type": "code",
   "execution_count": 12,
   "id": "a91c4b32-e049-44ff-82f4-ac785520ad97",
   "metadata": {},
   "outputs": [
    {
     "data": {
      "text/plain": [
       "<_io.TextIOWrapper name='/etc/passwd' mode='r' encoding='UTF-8'>"
      ]
     },
     "execution_count": 12,
     "metadata": {},
     "output_type": "execute_result"
    }
   ],
   "source": [
    "f"
   ]
  },
  {
   "cell_type": "code",
   "execution_count": 13,
   "id": "9cddd3c9-a60d-4489-81e2-aca33281fe87",
   "metadata": {},
   "outputs": [
    {
     "data": {
      "text/plain": [
       "True"
      ]
     },
     "execution_count": 13,
     "metadata": {},
     "output_type": "execute_result"
    }
   ],
   "source": [
    "iter(f) is f"
   ]
  },
  {
   "cell_type": "markdown",
   "id": "ec530c73-a8aa-44b7-a5d9-ec000cd3bccd",
   "metadata": {},
   "source": [
    "We see that when we ask an object to give us its iterator with `iter`, we might get the object itself back. Some objects are their own iterators. But other objects give us new values, special-purpose iterators."
   ]
  },
  {
   "cell_type": "code",
   "execution_count": 14,
   "id": "4caebcde-bf67-49af-8205-5ab643b08c0e",
   "metadata": {},
   "outputs": [
    {
     "data": {
      "text/plain": [
       "'abcde'"
      ]
     },
     "execution_count": 14,
     "metadata": {},
     "output_type": "execute_result"
    }
   ],
   "source": [
    "s"
   ]
  },
  {
   "cell_type": "code",
   "execution_count": 15,
   "id": "645fdd11-04c4-49a1-87dd-e2fa28a17662",
   "metadata": {},
   "outputs": [],
   "source": [
    "i = iter(s)   # now I've grabbed the iterator for s"
   ]
  },
  {
   "cell_type": "code",
   "execution_count": 16,
   "id": "7358f485-64ba-4897-817d-e7345fcab07b",
   "metadata": {},
   "outputs": [
    {
     "data": {
      "text/plain": [
       "'a'"
      ]
     },
     "execution_count": 16,
     "metadata": {},
     "output_type": "execute_result"
    }
   ],
   "source": [
    "next(i)"
   ]
  },
  {
   "cell_type": "code",
   "execution_count": 17,
   "id": "54d842aa-b7dc-40a1-8c83-308469352b52",
   "metadata": {},
   "outputs": [
    {
     "data": {
      "text/plain": [
       "'b'"
      ]
     },
     "execution_count": 17,
     "metadata": {},
     "output_type": "execute_result"
    }
   ],
   "source": [
    "next(i)"
   ]
  },
  {
   "cell_type": "code",
   "execution_count": 18,
   "id": "db2c5b87-f8cf-4e09-b62f-1edcce603449",
   "metadata": {},
   "outputs": [
    {
     "data": {
      "text/plain": [
       "'c'"
      ]
     },
     "execution_count": 18,
     "metadata": {},
     "output_type": "execute_result"
    }
   ],
   "source": [
    "next(i)"
   ]
  },
  {
   "cell_type": "code",
   "execution_count": 19,
   "id": "2d6f1517-9728-406f-8e07-ae856f3fe051",
   "metadata": {},
   "outputs": [
    {
     "data": {
      "text/plain": [
       "'d'"
      ]
     },
     "execution_count": 19,
     "metadata": {},
     "output_type": "execute_result"
    }
   ],
   "source": [
    "next(i)"
   ]
  },
  {
   "cell_type": "code",
   "execution_count": 20,
   "id": "5ec0cadf-27d4-48e8-bc5c-6207c0e183d5",
   "metadata": {},
   "outputs": [
    {
     "data": {
      "text/plain": [
       "'e'"
      ]
     },
     "execution_count": 20,
     "metadata": {},
     "output_type": "execute_result"
    }
   ],
   "source": [
    "next(i)"
   ]
  },
  {
   "cell_type": "code",
   "execution_count": 21,
   "id": "f6592244-0d01-4ab0-97e2-ed85009dc6fb",
   "metadata": {},
   "outputs": [
    {
     "ename": "StopIteration",
     "evalue": "",
     "output_type": "error",
     "traceback": [
      "\u001b[0;31m---------------------------------------------------------------------------\u001b[0m",
      "\u001b[0;31mStopIteration\u001b[0m                             Traceback (most recent call last)",
      "Cell \u001b[0;32mIn[21], line 1\u001b[0m\n\u001b[0;32m----> 1\u001b[0m \u001b[38;5;28;43mnext\u001b[39;49m\u001b[43m(\u001b[49m\u001b[43mi\u001b[49m\u001b[43m)\u001b[49m\n",
      "\u001b[0;31mStopIteration\u001b[0m: "
     ]
    }
   ],
   "source": [
    "next(i)"
   ]
  },
  {
   "cell_type": "markdown",
   "id": "5bab2fdf-c80e-441b-a98e-5436a7d6563b",
   "metadata": {},
   "source": [
    "# The iterator protocol is deliberately simple!\n",
    "\n",
    "It doesn't let you go backwards. It doesn't let you reset. It doesn't let you skip forward.  You can only ask for the next value.\n",
    "\n",
    "For our own class to be iterable, we'll need to do three things:\n",
    "\n",
    "- It must respond to `iter`, by implementing the `__iter__` method\n",
    "- It must respond to `next`, by implementing the `__next__` method\n",
    "- It must raise `StopIteration` when we reach the end of the values in `__next__`."
   ]
  },
  {
   "cell_type": "code",
   "execution_count": 22,
   "id": "0d69d0e3-9239-4305-8d81-ac25a088592f",
   "metadata": {},
   "outputs": [
    {
     "data": {
      "text/plain": [
       "'abcde'"
      ]
     },
     "execution_count": 22,
     "metadata": {},
     "output_type": "execute_result"
    }
   ],
   "source": [
    "s"
   ]
  },
  {
   "cell_type": "code",
   "execution_count": 23,
   "id": "7facc99a-cf4d-4bb4-9c8a-9619343ad975",
   "metadata": {},
   "outputs": [
    {
     "data": {
      "text/plain": [
       "['__add__',\n",
       " '__class__',\n",
       " '__contains__',\n",
       " '__delattr__',\n",
       " '__dir__',\n",
       " '__doc__',\n",
       " '__eq__',\n",
       " '__format__',\n",
       " '__ge__',\n",
       " '__getattribute__',\n",
       " '__getitem__',\n",
       " '__getnewargs__',\n",
       " '__getstate__',\n",
       " '__gt__',\n",
       " '__hash__',\n",
       " '__init__',\n",
       " '__init_subclass__',\n",
       " '__iter__',\n",
       " '__le__',\n",
       " '__len__',\n",
       " '__lt__',\n",
       " '__mod__',\n",
       " '__mul__',\n",
       " '__ne__',\n",
       " '__new__',\n",
       " '__reduce__',\n",
       " '__reduce_ex__',\n",
       " '__repr__',\n",
       " '__rmod__',\n",
       " '__rmul__',\n",
       " '__setattr__',\n",
       " '__sizeof__',\n",
       " '__str__',\n",
       " '__subclasshook__',\n",
       " 'capitalize',\n",
       " 'casefold',\n",
       " 'center',\n",
       " 'count',\n",
       " 'encode',\n",
       " 'endswith',\n",
       " 'expandtabs',\n",
       " 'find',\n",
       " 'format',\n",
       " 'format_map',\n",
       " 'index',\n",
       " 'isalnum',\n",
       " 'isalpha',\n",
       " 'isascii',\n",
       " 'isdecimal',\n",
       " 'isdigit',\n",
       " 'isidentifier',\n",
       " 'islower',\n",
       " 'isnumeric',\n",
       " 'isprintable',\n",
       " 'isspace',\n",
       " 'istitle',\n",
       " 'isupper',\n",
       " 'join',\n",
       " 'ljust',\n",
       " 'lower',\n",
       " 'lstrip',\n",
       " 'maketrans',\n",
       " 'partition',\n",
       " 'removeprefix',\n",
       " 'removesuffix',\n",
       " 'replace',\n",
       " 'rfind',\n",
       " 'rindex',\n",
       " 'rjust',\n",
       " 'rpartition',\n",
       " 'rsplit',\n",
       " 'rstrip',\n",
       " 'split',\n",
       " 'splitlines',\n",
       " 'startswith',\n",
       " 'strip',\n",
       " 'swapcase',\n",
       " 'title',\n",
       " 'translate',\n",
       " 'upper',\n",
       " 'zfill']"
      ]
     },
     "execution_count": 23,
     "metadata": {},
     "output_type": "execute_result"
    }
   ],
   "source": [
    "dir(s)"
   ]
  },
  {
   "cell_type": "code",
   "execution_count": 24,
   "id": "9eeaf959-e6aa-4ab6-a099-777e99d1ab3a",
   "metadata": {},
   "outputs": [
    {
     "data": {
      "text/plain": [
       "['_CHUNK_SIZE',\n",
       " '__class__',\n",
       " '__del__',\n",
       " '__delattr__',\n",
       " '__dict__',\n",
       " '__dir__',\n",
       " '__doc__',\n",
       " '__enter__',\n",
       " '__eq__',\n",
       " '__exit__',\n",
       " '__format__',\n",
       " '__ge__',\n",
       " '__getattribute__',\n",
       " '__getstate__',\n",
       " '__gt__',\n",
       " '__hash__',\n",
       " '__init__',\n",
       " '__init_subclass__',\n",
       " '__iter__',\n",
       " '__le__',\n",
       " '__lt__',\n",
       " '__module__',\n",
       " '__ne__',\n",
       " '__new__',\n",
       " '__next__',\n",
       " '__reduce__',\n",
       " '__reduce_ex__',\n",
       " '__repr__',\n",
       " '__setattr__',\n",
       " '__sizeof__',\n",
       " '__str__',\n",
       " '__subclasshook__',\n",
       " '_checkClosed',\n",
       " '_checkReadable',\n",
       " '_checkSeekable',\n",
       " '_checkWritable',\n",
       " '_finalizing',\n",
       " 'buffer',\n",
       " 'close',\n",
       " 'closed',\n",
       " 'detach',\n",
       " 'encoding',\n",
       " 'errors',\n",
       " 'fileno',\n",
       " 'flush',\n",
       " 'isatty',\n",
       " 'line_buffering',\n",
       " 'mode',\n",
       " 'name',\n",
       " 'newlines',\n",
       " 'read',\n",
       " 'readable',\n",
       " 'readline',\n",
       " 'readlines',\n",
       " 'reconfigure',\n",
       " 'seek',\n",
       " 'seekable',\n",
       " 'tell',\n",
       " 'truncate',\n",
       " 'writable',\n",
       " 'write',\n",
       " 'write_through',\n",
       " 'writelines']"
      ]
     },
     "execution_count": 24,
     "metadata": {},
     "output_type": "execute_result"
    }
   ],
   "source": [
    "dir(f)"
   ]
  },
  {
   "cell_type": "code",
   "execution_count": 26,
   "id": "c24e586c-b6de-4f9d-ab79-1e1e1f69202b",
   "metadata": {},
   "outputs": [
    {
     "ename": "TypeError",
     "evalue": "'MyClass' object is not iterable",
     "output_type": "error",
     "traceback": [
      "\u001b[0;31m---------------------------------------------------------------------------\u001b[0m",
      "\u001b[0;31mTypeError\u001b[0m                                 Traceback (most recent call last)",
      "Cell \u001b[0;32mIn[26], line 8\u001b[0m\n\u001b[1;32m      4\u001b[0m     \u001b[38;5;28;01mpass\u001b[39;00m\n\u001b[1;32m      6\u001b[0m m \u001b[38;5;241m=\u001b[39m MyClass()    \n\u001b[0;32m----> 8\u001b[0m \u001b[38;5;28;43;01mfor\u001b[39;49;00m\u001b[43m \u001b[49m\u001b[43mone_item\u001b[49m\u001b[43m \u001b[49m\u001b[38;5;129;43;01min\u001b[39;49;00m\u001b[43m \u001b[49m\u001b[43mm\u001b[49m\u001b[43m:\u001b[49m\n\u001b[1;32m      9\u001b[0m \u001b[43m    \u001b[49m\u001b[38;5;28;43mprint\u001b[39;49m\u001b[43m(\u001b[49m\u001b[43mone_item\u001b[49m\u001b[43m)\u001b[49m\n",
      "\u001b[0;31mTypeError\u001b[0m: 'MyClass' object is not iterable"
     ]
    }
   ],
   "source": [
    "# this is a very simple class to play with iteration\n",
    "\n",
    "class MyClass:\n",
    "    pass\n",
    "\n",
    "m = MyClass()    \n",
    "\n",
    "for one_item in m:\n",
    "    print(one_item)"
   ]
  },
  {
   "cell_type": "code",
   "execution_count": 29,
   "id": "a2556643-b2c1-43f6-949c-37dfa0f29a36",
   "metadata": {},
   "outputs": [
    {
     "ename": "TypeError",
     "evalue": "iter() returned non-iterator of type 'MyClass'",
     "output_type": "error",
     "traceback": [
      "\u001b[0;31m---------------------------------------------------------------------------\u001b[0m",
      "\u001b[0;31mTypeError\u001b[0m                                 Traceback (most recent call last)",
      "Cell \u001b[0;32mIn[29], line 11\u001b[0m\n\u001b[1;32m      7\u001b[0m         \u001b[38;5;28;01mreturn\u001b[39;00m \u001b[38;5;28mself\u001b[39m    \u001b[38;5;66;03m# this says: I'm my own iterator!\u001b[39;00m\n\u001b[1;32m      9\u001b[0m m \u001b[38;5;241m=\u001b[39m MyClass(\u001b[38;5;124m'\u001b[39m\u001b[38;5;124mabcde\u001b[39m\u001b[38;5;124m'\u001b[39m)    \n\u001b[0;32m---> 11\u001b[0m \u001b[38;5;28;43;01mfor\u001b[39;49;00m\u001b[43m \u001b[49m\u001b[43mone_item\u001b[49m\u001b[43m \u001b[49m\u001b[38;5;129;43;01min\u001b[39;49;00m\u001b[43m \u001b[49m\u001b[43mm\u001b[49m\u001b[43m:\u001b[49m\n\u001b[1;32m     12\u001b[0m \u001b[43m    \u001b[49m\u001b[38;5;28;43mprint\u001b[39;49m\u001b[43m(\u001b[49m\u001b[43mone_item\u001b[49m\u001b[43m)\u001b[49m\n",
      "\u001b[0;31mTypeError\u001b[0m: iter() returned non-iterator of type 'MyClass'"
     ]
    }
   ],
   "source": [
    "# this is a very simple class to play with iteration\n",
    "\n",
    "class MyClass:\n",
    "    def __init__(self, data):\n",
    "        self.data = data\n",
    "    def __iter__(self):\n",
    "        return self    # this says: I'm my own iterator!\n",
    "\n",
    "m = MyClass('abcde')    \n",
    "\n",
    "for one_item in m:\n",
    "    print(one_item)"
   ]
  },
  {
   "cell_type": "code",
   "execution_count": 30,
   "id": "63606f23-c60f-45bb-bcea-74a26ec11c31",
   "metadata": {},
   "outputs": [
    {
     "name": "stdout",
     "output_type": "stream",
     "text": [
      "a\n",
      "b\n",
      "c\n",
      "d\n",
      "e\n"
     ]
    }
   ],
   "source": [
    "# this is a very simple class to play with iteration\n",
    "\n",
    "class MyClass:\n",
    "    def __init__(self, data):\n",
    "        self.data = data\n",
    "        self.index = 0\n",
    "    def __iter__(self):\n",
    "        return self    # this says: I'm my own iterator!\n",
    "    def __next__(self):\n",
    "        if self.index >= len(self.data):\n",
    "            raise StopIteration('too far!')\n",
    "\n",
    "        value = self.data[self.index]   # Grab the current value\n",
    "        self.index += 1\n",
    "        return value\n",
    "\n",
    "m = MyClass('abcde')    \n",
    "\n",
    "for one_item in m:\n",
    "    print(one_item)"
   ]
  },
  {
   "cell_type": "code",
   "execution_count": 31,
   "id": "4cc02961-ec2b-4af3-9c79-b7c1955ba5e4",
   "metadata": {},
   "outputs": [
    {
     "name": "stdout",
     "output_type": "stream",
     "text": [
      "\tIn __init__ with self.data='abcde' and self.index=0\n",
      "\tIn __iter__ with self.data='abcde' and self.index=0\n",
      "\tIn __next__ with self.data='abcde' and self.index=0\n",
      "\t\tReturning a!\n",
      "a\n",
      "\tIn __next__ with self.data='abcde' and self.index=1\n",
      "\t\tReturning b!\n",
      "b\n",
      "\tIn __next__ with self.data='abcde' and self.index=2\n",
      "\t\tReturning c!\n",
      "c\n",
      "\tIn __next__ with self.data='abcde' and self.index=3\n",
      "\t\tReturning d!\n",
      "d\n",
      "\tIn __next__ with self.data='abcde' and self.index=4\n",
      "\t\tReturning e!\n",
      "e\n",
      "\tIn __next__ with self.data='abcde' and self.index=5\n",
      "\t\tRaising StopIteration!\n"
     ]
    }
   ],
   "source": [
    "\n",
    "class MyClass:\n",
    "    def __init__(self, data):\n",
    "        self.data = data\n",
    "        self.index = 0\n",
    "        print(f'\\tIn __init__ with {self.data=} and {self.index=}')\n",
    "    def __iter__(self):\n",
    "        print(f'\\tIn __iter__ with {self.data=} and {self.index=}')\n",
    "        return self    # this says: I'm my own iterator!\n",
    "    def __next__(self):\n",
    "        print(f'\\tIn __next__ with {self.data=} and {self.index=}')\n",
    "\n",
    "        if self.index >= len(self.data):\n",
    "            print(f'\\t\\tRaising StopIteration!')\n",
    "            raise StopIteration('too far!')\n",
    "\n",
    "        value = self.data[self.index]   # Grab the current value\n",
    "        self.index += 1\n",
    "        print(f'\\t\\tReturning {value}!')\n",
    "        return value\n",
    "\n",
    "m = MyClass('abcde')    \n",
    "\n",
    "for one_item in m:\n",
    "    print(one_item)"
   ]
  },
  {
   "cell_type": "markdown",
   "id": "55cfd729-de60-483c-86d0-080c3d29ed20",
   "metadata": {},
   "source": [
    "# Exercise: Circle\n",
    "\n",
    "1. Define a class, `Circle`, that takes two arguments:\n",
    "    - The first will be an iterable sequence that we'll call `data`\n",
    "    - The second will be an integer, the number of values we should get back when iterating, `maxtimes`\n",
    "2. If we iterate over an instance of `Circle`, we get `maxtimes` iterations.\n",
    "    - If `maxtimes` is smaller than the length of `data`, we'll only get `maxtimes` values\n",
    "    - If `maxtimes` is *larger* than the length of `data`, we'll get `maxtimes` values by going through all of `data` and then starting from the beginning again!\n",
    "\n",
    "```python\n",
    "c = Circle('abcd', 7)\n",
    "\n",
    "for one_item in c:\n",
    "    print(one_item)   # a b c d a b c\n",
    "```    "
   ]
  },
  {
   "cell_type": "code",
   "execution_count": 38,
   "id": "81de1063-a643-472e-8601-605ce14c797d",
   "metadata": {},
   "outputs": [
    {
     "name": "stdout",
     "output_type": "stream",
     "text": [
      "a\n",
      "b\n",
      "c\n",
      "d\n",
      "a\n",
      "b\n",
      "c\n",
      "d\n",
      "a\n"
     ]
    }
   ],
   "source": [
    "class Circle:\n",
    "    def __init__(self, data, maxtimes):\n",
    "        self.data = data\n",
    "        self.maxtimes = maxtimes\n",
    "        self.index = 0\n",
    "    def __iter__(self):\n",
    "        return self    # this says: I'm my own iterator!\n",
    "    def __next__(self):\n",
    "        if self.index >= self.maxtimes:\n",
    "            raise StopIteration('too far!')\n",
    "\n",
    "        value = self.data[self.index % len(self.data)]   \n",
    "        self.index += 1\n",
    "        return value\n",
    "\n",
    "c = Circle('abcd', 9)    \n",
    "\n",
    "for one_item in c:\n",
    "    print(one_item)"
   ]
  },
  {
   "cell_type": "code",
   "execution_count": 39,
   "id": "22bd8418-381f-4ef7-bf0a-5d88b841a518",
   "metadata": {},
   "outputs": [
    {
     "data": {
      "text/plain": [
       "0"
      ]
     },
     "execution_count": 39,
     "metadata": {},
     "output_type": "execute_result"
    }
   ],
   "source": [
    "# the % operator does integer division, and returns the remainder\n",
    "\n",
    "10 % 1"
   ]
  },
  {
   "cell_type": "code",
   "execution_count": 40,
   "id": "de2d4eed-696a-4d01-8d63-9f7becf0352f",
   "metadata": {},
   "outputs": [
    {
     "data": {
      "text/plain": [
       "0"
      ]
     },
     "execution_count": 40,
     "metadata": {},
     "output_type": "execute_result"
    }
   ],
   "source": [
    "10 % 2 "
   ]
  },
  {
   "cell_type": "code",
   "execution_count": 41,
   "id": "c43a34a5-cafc-4955-8cee-bcd6d7002d9d",
   "metadata": {},
   "outputs": [
    {
     "data": {
      "text/plain": [
       "1"
      ]
     },
     "execution_count": 41,
     "metadata": {},
     "output_type": "execute_result"
    }
   ],
   "source": [
    "10 % 3"
   ]
  },
  {
   "cell_type": "code",
   "execution_count": 42,
   "id": "852263dc-5428-4f9e-a57a-0d7b60806eaf",
   "metadata": {},
   "outputs": [
    {
     "data": {
      "text/plain": [
       "2"
      ]
     },
     "execution_count": 42,
     "metadata": {},
     "output_type": "execute_result"
    }
   ],
   "source": [
    "10 % 4"
   ]
  },
  {
   "cell_type": "code",
   "execution_count": 43,
   "id": "8b5f3604-0c96-40ac-bc27-9e941dbbd84b",
   "metadata": {},
   "outputs": [
    {
     "data": {
      "text/plain": [
       "0"
      ]
     },
     "execution_count": 43,
     "metadata": {},
     "output_type": "execute_result"
    }
   ],
   "source": [
    "10 % 5"
   ]
  },
  {
   "cell_type": "code",
   "execution_count": 44,
   "id": "5ed437bd-0205-4f7f-abd7-c512cf19e4da",
   "metadata": {},
   "outputs": [
    {
     "data": {
      "text/plain": [
       "4"
      ]
     },
     "execution_count": 44,
     "metadata": {},
     "output_type": "execute_result"
    }
   ],
   "source": [
    "10 % 6 "
   ]
  },
  {
   "cell_type": "code",
   "execution_count": 45,
   "id": "3cf5ffdc-310e-45ed-9fda-43aa9de04c26",
   "metadata": {},
   "outputs": [
    {
     "data": {
      "text/plain": [
       "0"
      ]
     },
     "execution_count": 45,
     "metadata": {},
     "output_type": "execute_result"
    }
   ],
   "source": [
    "# reverse it, with a smaller number % a bigger number\n",
    "\n",
    "0 % 5"
   ]
  },
  {
   "cell_type": "code",
   "execution_count": 46,
   "id": "6e659f93-253c-4a28-aca6-5aa36f1ac3c9",
   "metadata": {},
   "outputs": [
    {
     "data": {
      "text/plain": [
       "1"
      ]
     },
     "execution_count": 46,
     "metadata": {},
     "output_type": "execute_result"
    }
   ],
   "source": [
    "1 % 5"
   ]
  },
  {
   "cell_type": "code",
   "execution_count": 47,
   "id": "c0863f6e-c2df-4f84-8e80-933f24bc159e",
   "metadata": {},
   "outputs": [
    {
     "data": {
      "text/plain": [
       "2"
      ]
     },
     "execution_count": 47,
     "metadata": {},
     "output_type": "execute_result"
    }
   ],
   "source": [
    "2 % 5"
   ]
  },
  {
   "cell_type": "code",
   "execution_count": 48,
   "id": "5bc9155f-e723-488f-9e71-eb12e5494826",
   "metadata": {},
   "outputs": [
    {
     "data": {
      "text/plain": [
       "3"
      ]
     },
     "execution_count": 48,
     "metadata": {},
     "output_type": "execute_result"
    }
   ],
   "source": [
    "3 % 5"
   ]
  },
  {
   "cell_type": "code",
   "execution_count": 49,
   "id": "7892db44-da11-4c6b-9506-8cfe9391dedb",
   "metadata": {},
   "outputs": [
    {
     "data": {
      "text/plain": [
       "4"
      ]
     },
     "execution_count": 49,
     "metadata": {},
     "output_type": "execute_result"
    }
   ],
   "source": [
    "4 % 5"
   ]
  },
  {
   "cell_type": "code",
   "execution_count": 50,
   "id": "d87cce05-2b69-44fd-af19-bbee19f8c39e",
   "metadata": {},
   "outputs": [
    {
     "data": {
      "text/plain": [
       "0"
      ]
     },
     "execution_count": 50,
     "metadata": {},
     "output_type": "execute_result"
    }
   ],
   "source": [
    "5 % 5"
   ]
  },
  {
   "cell_type": "code",
   "execution_count": 51,
   "id": "99d16ba8-1449-4294-90bd-e81691e9f1bd",
   "metadata": {},
   "outputs": [
    {
     "data": {
      "text/plain": [
       "1"
      ]
     },
     "execution_count": 51,
     "metadata": {},
     "output_type": "execute_result"
    }
   ],
   "source": [
    "6 % 5"
   ]
  },
  {
   "cell_type": "code",
   "execution_count": 52,
   "id": "e8c1c089-9464-4713-b829-422070d8e6cc",
   "metadata": {},
   "outputs": [],
   "source": [
    "s = 'abcde'\n",
    "\n",
    "i1 = iter(s)\n",
    "i2 = iter(s)"
   ]
  },
  {
   "cell_type": "code",
   "execution_count": 53,
   "id": "a4a99ffd-1ebd-49bc-8e26-344bf365a54b",
   "metadata": {},
   "outputs": [
    {
     "data": {
      "text/plain": [
       "'a'"
      ]
     },
     "execution_count": 53,
     "metadata": {},
     "output_type": "execute_result"
    }
   ],
   "source": [
    "next(i1)"
   ]
  },
  {
   "cell_type": "code",
   "execution_count": 54,
   "id": "b3ff40a3-0a9c-4cf3-94a7-da4def8ea8d9",
   "metadata": {},
   "outputs": [
    {
     "data": {
      "text/plain": [
       "'a'"
      ]
     },
     "execution_count": 54,
     "metadata": {},
     "output_type": "execute_result"
    }
   ],
   "source": [
    "next(i2)"
   ]
  },
  {
   "cell_type": "code",
   "execution_count": 56,
   "id": "b969fbdc-37e5-4f30-b2c4-35a87816b8c3",
   "metadata": {},
   "outputs": [
    {
     "data": {
      "text/plain": [
       "'b'"
      ]
     },
     "execution_count": 56,
     "metadata": {},
     "output_type": "execute_result"
    }
   ],
   "source": [
    "next(i1)"
   ]
  },
  {
   "cell_type": "code",
   "execution_count": 57,
   "id": "873db172-b1fc-48ca-9e5f-bdf11cfbecb9",
   "metadata": {},
   "outputs": [
    {
     "data": {
      "text/plain": [
       "'c'"
      ]
     },
     "execution_count": 57,
     "metadata": {},
     "output_type": "execute_result"
    }
   ],
   "source": [
    "next(i1)"
   ]
  },
  {
   "cell_type": "code",
   "execution_count": 58,
   "id": "1c049cf5-5c0c-4043-8380-01345a2e9be9",
   "metadata": {},
   "outputs": [
    {
     "data": {
      "text/plain": [
       "'d'"
      ]
     },
     "execution_count": 58,
     "metadata": {},
     "output_type": "execute_result"
    }
   ],
   "source": [
    "next(i1)"
   ]
  },
  {
   "cell_type": "code",
   "execution_count": 59,
   "id": "d13b6bb5-97bc-43a9-8175-6609b09d1dd6",
   "metadata": {},
   "outputs": [
    {
     "data": {
      "text/plain": [
       "'b'"
      ]
     },
     "execution_count": 59,
     "metadata": {},
     "output_type": "execute_result"
    }
   ],
   "source": [
    "next(i2)"
   ]
  },
  {
   "cell_type": "code",
   "execution_count": 60,
   "id": "ecd3535b-e13d-4c25-b31d-5d336cdfa14f",
   "metadata": {},
   "outputs": [
    {
     "name": "stdout",
     "output_type": "stream",
     "text": [
      "First time\n",
      "a\n",
      "b\n",
      "c\n",
      "d\n",
      "a\n",
      "b\n",
      "c\n",
      "d\n",
      "a\n",
      "Second time\n"
     ]
    }
   ],
   "source": [
    "# watch this with Circle\n",
    "\n",
    "c = Circle('abcd', 9)    \n",
    "\n",
    "print('First time')\n",
    "for one_item in c:\n",
    "    print(one_item)\n",
    "\n",
    "print('Second time')\n",
    "for one_item in c:\n",
    "    print(one_item)    "
   ]
  },
  {
   "cell_type": "code",
   "execution_count": 63,
   "id": "e1921bae-d68c-47b3-94ee-272e1d5ef0bb",
   "metadata": {},
   "outputs": [
    {
     "name": "stdout",
     "output_type": "stream",
     "text": [
      "First time\n",
      "a\n",
      "b\n",
      "c\n",
      "d\n",
      "a\n",
      "b\n",
      "c\n",
      "d\n",
      "a\n",
      "Second time\n",
      "a\n",
      "b\n",
      "c\n",
      "d\n",
      "a\n",
      "b\n",
      "c\n",
      "d\n",
      "a\n"
     ]
    }
   ],
   "source": [
    "# two-class method for iterator design\n",
    "# (1) is our main class\n",
    "# (2) our iterator class\n",
    "\n",
    "class CircleIterator:\n",
    "    def __init__(self, data, maxtimes):\n",
    "        self.data = data\n",
    "        self.maxtimes = maxtimes\n",
    "        self.index = 0\n",
    "    def __next__(self):\n",
    "        if self.index >= self.maxtimes:\n",
    "            raise StopIteration('too far!')\n",
    "\n",
    "        value = self.data[self.index % len(self.data)]   \n",
    "        self.index += 1\n",
    "        return value\n",
    "\n",
    "class Circle:\n",
    "    def __init__(self, data, maxtimes):\n",
    "        self.data = data\n",
    "        self.maxtimes = maxtimes\n",
    "    def __iter__(self):\n",
    "        return CircleIterator(self.data, self.maxtimes)\n",
    "\n",
    "\n",
    "c = Circle('abcd', 9)    \n",
    "\n",
    "print('First time')\n",
    "for one_item in c:\n",
    "    print(one_item)\n",
    "\n",
    "print('Second time')\n",
    "for one_item in c:\n",
    "    print(one_item)    "
   ]
  },
  {
   "cell_type": "code",
   "execution_count": 64,
   "id": "ffe95724-46fc-48dc-a197-c6d3c8394fad",
   "metadata": {},
   "outputs": [
    {
     "data": {
      "text/plain": [
       "<__main__.CircleIterator at 0x1100bf250>"
      ]
     },
     "execution_count": 64,
     "metadata": {},
     "output_type": "execute_result"
    }
   ],
   "source": [
    "iter(c)"
   ]
  },
  {
   "cell_type": "code",
   "execution_count": 65,
   "id": "b5a3b6f2-a33d-4cb0-92b4-8fc4ed3a4955",
   "metadata": {},
   "outputs": [
    {
     "data": {
      "text/plain": [
       "<__main__.CircleIterator at 0x110213950>"
      ]
     },
     "execution_count": 65,
     "metadata": {},
     "output_type": "execute_result"
    }
   ],
   "source": [
    "iter(c)"
   ]
  },
  {
   "cell_type": "markdown",
   "id": "33f36624-66ba-428a-b224-8e65498bef05",
   "metadata": {},
   "source": [
    "# Two-part iterators\n",
    "\n",
    "1. You can iterate over the original object as many times as you want.\n",
    "2. You can have multiple iterators on the same object\n",
    "3. The iterator class can be used by multiple classes\n",
    "4. The main class can now concentrate on its specific responsibility"
   ]
  },
  {
   "cell_type": "markdown",
   "id": "363437cf-ff8e-4af5-8b39-4b18a47b2f70",
   "metadata": {},
   "source": [
    "# Exercise: Only vowels\n",
    "\n",
    "1. Define a class, `OnlyVowels`, that takes a string as input.\n",
    "2. When we iterate over an instance of `OnlyVowels`, we get, one by one, each of the vowels in the string. We ignore non-vowels entirely.\n",
    "3. When there are no vowels left, we raise `StopIteration`\n",
    "4. Create this class as its own iterator. Then separate it out into a two-class structure."
   ]
  },
  {
   "cell_type": "code",
   "execution_count": 70,
   "id": "31141021-2be6-42cd-8b69-2690047b1252",
   "metadata": {},
   "outputs": [],
   "source": [
    "# single-class implelmentation\n",
    "\n",
    "class OnlyVowels:\n",
    "    def __init__(self, text):\n",
    "        self.text = text\n",
    "        self.index = 0\n",
    "    def __iter__(self):\n",
    "        return self\n",
    "    def __next__(self):\n",
    "        while self.index < len(self.text):\n",
    "            value = self.text[self.index]\n",
    "            self.index += 1\n",
    "\n",
    "            if value in 'aeiou':\n",
    "                return value\n",
    "\n",
    "        raise StopIteration"
   ]
  },
  {
   "cell_type": "code",
   "execution_count": 71,
   "id": "7da92bcb-1e6c-4294-93c6-d67e76b3159a",
   "metadata": {},
   "outputs": [
    {
     "name": "stdout",
     "output_type": "stream",
     "text": [
      "e o o e e o e o u e e "
     ]
    }
   ],
   "source": [
    "text = 'hello to everyone out there!'\n",
    "\n",
    "for one_vowel in OnlyVowels(text):\n",
    "    print(one_vowel, end=' ')"
   ]
  },
  {
   "cell_type": "code",
   "execution_count": 74,
   "id": "96fe569b-c730-4325-a7f1-7531935d5e4b",
   "metadata": {},
   "outputs": [
    {
     "name": "stdout",
     "output_type": "stream",
     "text": [
      "e o o e e o e o u e e "
     ]
    }
   ],
   "source": [
    "# two-class implementation\n",
    "\n",
    "class OnlyVowelsIterator:\n",
    "    def __init__(self, text):\n",
    "        self.text = text\n",
    "        self.index = 0\n",
    "    def __next__(self):\n",
    "        while self.index < len(self.text):\n",
    "            value = self.text[self.index]\n",
    "            self.index += 1\n",
    "\n",
    "            if value in 'aeiou':\n",
    "                return value\n",
    "\n",
    "        raise StopIteration    \n",
    "        \n",
    "class OnlyVowels:\n",
    "    def __init__(self, text):\n",
    "        self.text = text\n",
    "    def __iter__(self):\n",
    "        return OnlyVowelsIterator(self.text)\n",
    "\n",
    "text = 'hello to everyone out there!'\n",
    "\n",
    "for one_vowel in OnlyVowels(text):\n",
    "    print(one_vowel, end=' ')"
   ]
  },
  {
   "cell_type": "code",
   "execution_count": 75,
   "id": "16080476-cea7-41e9-925e-29a2982923e5",
   "metadata": {},
   "outputs": [
    {
     "name": "stdout",
     "output_type": "stream",
     "text": [
      "e o o e e o e o u e e "
     ]
    }
   ],
   "source": [
    "# if you want a two-class iterator, but you don't want a second class, you\n",
    "# could use a generator function! If __iter__ is implemented as a generator function (method),\n",
    "# then it returns an iterable (generator) that Python can invoke next on,time after time,\n",
    "# and get one value for each iteration.\n",
    "\n",
    "# single-class implelmentation\n",
    "\n",
    "class OnlyVowels:\n",
    "    def __init__(self, text):\n",
    "        self.text = text\n",
    "        self.index = 0\n",
    "    def __iter__(self):\n",
    "        while self.index < len(self.text):\n",
    "            value = self.text[self.index]\n",
    "            self.index += 1\n",
    "\n",
    "            if value in 'aeiou':\n",
    "                yield value\n",
    "\n",
    "text = 'hello to everyone out there!'\n",
    "\n",
    "for one_vowel in OnlyVowels(text):\n",
    "    print(one_vowel, end=' ')"
   ]
  },
  {
   "cell_type": "markdown",
   "id": "bb73e44d-714b-4258-9f17-e52de2e36311",
   "metadata": {},
   "source": [
    "# Use itertools!\n",
    "\n",
    "`itertools` is a module that comes with Python, in the standard library. It includes about 20 different classes, each of which produces a different kind of iterator. "
   ]
  },
  {
   "cell_type": "code",
   "execution_count": null,
   "id": "4f7a5682-9e21-4ad1-8b8c-120f269fdfc4",
   "metadata": {},
   "outputs": [],
   "source": []
  }
 ],
 "metadata": {
  "kernelspec": {
   "display_name": "Python 3 (ipykernel)",
   "language": "python",
   "name": "python3"
  },
  "language_info": {
   "codemirror_mode": {
    "name": "ipython",
    "version": 3
   },
   "file_extension": ".py",
   "mimetype": "text/x-python",
   "name": "python",
   "nbconvert_exporter": "python",
   "pygments_lexer": "ipython3",
   "version": "3.13.5"
  },
  "widgets": {
   "application/vnd.jupyter.widget-state+json": {
    "state": {},
    "version_major": 2,
    "version_minor": 0
   }
  }
 },
 "nbformat": 4,
 "nbformat_minor": 5
}
